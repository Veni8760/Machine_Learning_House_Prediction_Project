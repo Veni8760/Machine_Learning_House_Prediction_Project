{
 "cells": [
  {
   "cell_type": "code",
   "execution_count": 1,
   "metadata": {},
   "outputs": [],
   "source": [
    "import pandas as pd\n",
    "import numpy as np\n",
    "from scipy import stats\n",
    "from sklearn.metrics import mean_squared_error\n",
    "\n",
    "import matplotlib.pyplot as plt\n",
    "import seaborn as sns\n",
    "\n",
    "from xgboost import XGBRegressor\n",
    "from sklearn.model_selection import GridSearchCV\n",
    "\n",
    "from sklearn.model_selection import train_test_split, GridSearchCV, cross_val_score\n",
    "from sklearn.compose import make_column_transformer, ColumnTransformer\n",
    "from sklearn.pipeline import Pipeline, make_pipeline\n",
    "from sklearn.impute import SimpleImputer\n",
    "from sklearn.preprocessing import OrdinalEncoder, StandardScaler, OneHotEncoder\n",
    "\n",
    "from sklearn.linear_model import LinearRegression, Ridge\n",
    "from sklearn.ensemble import RandomForestRegressor, GradientBoostingRegressor, VotingRegressor, StackingRegressor\n",
    "from xgboost import XGBRegressor\n",
    "from catboost import CatBoostRegressor\n",
    "import lightgbm as lgb\n",
    "from sklearn.metrics import mean_squared_error, r2_score\n",
    "from sklearn.model_selection import cross_val_score"
   ]
  },
  {
   "cell_type": "code",
   "execution_count": 2,
   "metadata": {},
   "outputs": [
    {
     "name": "stdout",
     "output_type": "stream",
     "text": [
      "c:\\Users\\danie\\Machine_Learning_House_Prediction_Project\\notebooks\n"
     ]
    }
   ],
   "source": [
    "import os\n",
    "print(os.getcwd())"
   ]
  },
  {
   "cell_type": "code",
   "execution_count": 3,
   "metadata": {},
   "outputs": [
    {
     "name": "stdout",
     "output_type": "stream",
     "text": [
      "c:\\Users\\danie\\Machine_Learning_House_Prediction_Project\n"
     ]
    }
   ],
   "source": [
    "import os\n",
    "os.chdir('..')  # Move one level up to the parent directory\n",
    "print(os.getcwd())  # Confirm the new working directory"
   ]
  },
  {
   "cell_type": "code",
   "execution_count": 4,
   "metadata": {},
   "outputs": [
    {
     "name": "stdout",
     "output_type": "stream",
     "text": [
      "c:\\Users\\danie\\Machine_Learning_House_Prediction_Project\n"
     ]
    }
   ],
   "source": [
    "print(os.getcwd())"
   ]
  },
  {
   "cell_type": "code",
   "execution_count": 14,
   "metadata": {},
   "outputs": [],
   "source": [
    "#FEATURE ENGINEERING"
   ]
  },
  {
   "cell_type": "code",
   "execution_count": 15,
   "metadata": {},
   "outputs": [],
   "source": [
    "test_df = pd.read_csv('data/processed/test_data_cleaned_folder/test_data_cleaned.csv')\n",
    "df = pd.read_csv('data/processed/training_data_cleaned_folder/training_data_cleaned.csv')"
   ]
  },
  {
   "cell_type": "code",
   "execution_count": 16,
   "metadata": {},
   "outputs": [
    {
     "data": {
      "text/html": [
       "<div>\n",
       "<style scoped>\n",
       "    .dataframe tbody tr th:only-of-type {\n",
       "        vertical-align: middle;\n",
       "    }\n",
       "\n",
       "    .dataframe tbody tr th {\n",
       "        vertical-align: top;\n",
       "    }\n",
       "\n",
       "    .dataframe thead th {\n",
       "        text-align: right;\n",
       "    }\n",
       "</style>\n",
       "<table border=\"1\" class=\"dataframe\">\n",
       "  <thead>\n",
       "    <tr style=\"text-align: right;\">\n",
       "      <th></th>\n",
       "      <th>Id</th>\n",
       "      <th>MSSubClass</th>\n",
       "      <th>MSZoning</th>\n",
       "      <th>LotFrontage</th>\n",
       "      <th>LotArea</th>\n",
       "      <th>Street</th>\n",
       "      <th>LotShape</th>\n",
       "      <th>LandContour</th>\n",
       "      <th>Utilities</th>\n",
       "      <th>LotConfig</th>\n",
       "      <th>...</th>\n",
       "      <th>EnclosedPorch</th>\n",
       "      <th>3SsnPorch</th>\n",
       "      <th>ScreenPorch</th>\n",
       "      <th>PoolArea</th>\n",
       "      <th>MiscVal</th>\n",
       "      <th>MoSold</th>\n",
       "      <th>YrSold</th>\n",
       "      <th>SaleType</th>\n",
       "      <th>SaleCondition</th>\n",
       "      <th>SalePrice</th>\n",
       "    </tr>\n",
       "  </thead>\n",
       "  <tbody>\n",
       "    <tr>\n",
       "      <th>0</th>\n",
       "      <td>1</td>\n",
       "      <td>60</td>\n",
       "      <td>RL</td>\n",
       "      <td>65.0</td>\n",
       "      <td>8450</td>\n",
       "      <td>Pave</td>\n",
       "      <td>Reg</td>\n",
       "      <td>Lvl</td>\n",
       "      <td>AllPub</td>\n",
       "      <td>Inside</td>\n",
       "      <td>...</td>\n",
       "      <td>0</td>\n",
       "      <td>0</td>\n",
       "      <td>0</td>\n",
       "      <td>0</td>\n",
       "      <td>0</td>\n",
       "      <td>2</td>\n",
       "      <td>2008</td>\n",
       "      <td>WD</td>\n",
       "      <td>Normal</td>\n",
       "      <td>208500</td>\n",
       "    </tr>\n",
       "    <tr>\n",
       "      <th>1</th>\n",
       "      <td>2</td>\n",
       "      <td>20</td>\n",
       "      <td>RL</td>\n",
       "      <td>80.0</td>\n",
       "      <td>9600</td>\n",
       "      <td>Pave</td>\n",
       "      <td>Reg</td>\n",
       "      <td>Lvl</td>\n",
       "      <td>AllPub</td>\n",
       "      <td>FR2</td>\n",
       "      <td>...</td>\n",
       "      <td>0</td>\n",
       "      <td>0</td>\n",
       "      <td>0</td>\n",
       "      <td>0</td>\n",
       "      <td>0</td>\n",
       "      <td>5</td>\n",
       "      <td>2007</td>\n",
       "      <td>WD</td>\n",
       "      <td>Normal</td>\n",
       "      <td>181500</td>\n",
       "    </tr>\n",
       "    <tr>\n",
       "      <th>2</th>\n",
       "      <td>3</td>\n",
       "      <td>60</td>\n",
       "      <td>RL</td>\n",
       "      <td>68.0</td>\n",
       "      <td>11250</td>\n",
       "      <td>Pave</td>\n",
       "      <td>IR1</td>\n",
       "      <td>Lvl</td>\n",
       "      <td>AllPub</td>\n",
       "      <td>Inside</td>\n",
       "      <td>...</td>\n",
       "      <td>0</td>\n",
       "      <td>0</td>\n",
       "      <td>0</td>\n",
       "      <td>0</td>\n",
       "      <td>0</td>\n",
       "      <td>9</td>\n",
       "      <td>2008</td>\n",
       "      <td>WD</td>\n",
       "      <td>Normal</td>\n",
       "      <td>223500</td>\n",
       "    </tr>\n",
       "    <tr>\n",
       "      <th>3</th>\n",
       "      <td>4</td>\n",
       "      <td>70</td>\n",
       "      <td>RL</td>\n",
       "      <td>60.0</td>\n",
       "      <td>9550</td>\n",
       "      <td>Pave</td>\n",
       "      <td>IR1</td>\n",
       "      <td>Lvl</td>\n",
       "      <td>AllPub</td>\n",
       "      <td>Corner</td>\n",
       "      <td>...</td>\n",
       "      <td>272</td>\n",
       "      <td>0</td>\n",
       "      <td>0</td>\n",
       "      <td>0</td>\n",
       "      <td>0</td>\n",
       "      <td>2</td>\n",
       "      <td>2006</td>\n",
       "      <td>WD</td>\n",
       "      <td>Abnorml</td>\n",
       "      <td>140000</td>\n",
       "    </tr>\n",
       "    <tr>\n",
       "      <th>4</th>\n",
       "      <td>5</td>\n",
       "      <td>60</td>\n",
       "      <td>RL</td>\n",
       "      <td>84.0</td>\n",
       "      <td>14260</td>\n",
       "      <td>Pave</td>\n",
       "      <td>IR1</td>\n",
       "      <td>Lvl</td>\n",
       "      <td>AllPub</td>\n",
       "      <td>FR2</td>\n",
       "      <td>...</td>\n",
       "      <td>0</td>\n",
       "      <td>0</td>\n",
       "      <td>0</td>\n",
       "      <td>0</td>\n",
       "      <td>0</td>\n",
       "      <td>12</td>\n",
       "      <td>2008</td>\n",
       "      <td>WD</td>\n",
       "      <td>Normal</td>\n",
       "      <td>250000</td>\n",
       "    </tr>\n",
       "    <tr>\n",
       "      <th>...</th>\n",
       "      <td>...</td>\n",
       "      <td>...</td>\n",
       "      <td>...</td>\n",
       "      <td>...</td>\n",
       "      <td>...</td>\n",
       "      <td>...</td>\n",
       "      <td>...</td>\n",
       "      <td>...</td>\n",
       "      <td>...</td>\n",
       "      <td>...</td>\n",
       "      <td>...</td>\n",
       "      <td>...</td>\n",
       "      <td>...</td>\n",
       "      <td>...</td>\n",
       "      <td>...</td>\n",
       "      <td>...</td>\n",
       "      <td>...</td>\n",
       "      <td>...</td>\n",
       "      <td>...</td>\n",
       "      <td>...</td>\n",
       "      <td>...</td>\n",
       "    </tr>\n",
       "    <tr>\n",
       "      <th>1434</th>\n",
       "      <td>1456</td>\n",
       "      <td>60</td>\n",
       "      <td>RL</td>\n",
       "      <td>62.0</td>\n",
       "      <td>7917</td>\n",
       "      <td>Pave</td>\n",
       "      <td>Reg</td>\n",
       "      <td>Lvl</td>\n",
       "      <td>AllPub</td>\n",
       "      <td>Inside</td>\n",
       "      <td>...</td>\n",
       "      <td>0</td>\n",
       "      <td>0</td>\n",
       "      <td>0</td>\n",
       "      <td>0</td>\n",
       "      <td>0</td>\n",
       "      <td>8</td>\n",
       "      <td>2007</td>\n",
       "      <td>WD</td>\n",
       "      <td>Normal</td>\n",
       "      <td>175000</td>\n",
       "    </tr>\n",
       "    <tr>\n",
       "      <th>1435</th>\n",
       "      <td>1457</td>\n",
       "      <td>20</td>\n",
       "      <td>RL</td>\n",
       "      <td>85.0</td>\n",
       "      <td>13175</td>\n",
       "      <td>Pave</td>\n",
       "      <td>Reg</td>\n",
       "      <td>Lvl</td>\n",
       "      <td>AllPub</td>\n",
       "      <td>Inside</td>\n",
       "      <td>...</td>\n",
       "      <td>0</td>\n",
       "      <td>0</td>\n",
       "      <td>0</td>\n",
       "      <td>0</td>\n",
       "      <td>0</td>\n",
       "      <td>2</td>\n",
       "      <td>2010</td>\n",
       "      <td>WD</td>\n",
       "      <td>Normal</td>\n",
       "      <td>210000</td>\n",
       "    </tr>\n",
       "    <tr>\n",
       "      <th>1436</th>\n",
       "      <td>1458</td>\n",
       "      <td>70</td>\n",
       "      <td>RL</td>\n",
       "      <td>66.0</td>\n",
       "      <td>9042</td>\n",
       "      <td>Pave</td>\n",
       "      <td>Reg</td>\n",
       "      <td>Lvl</td>\n",
       "      <td>AllPub</td>\n",
       "      <td>Inside</td>\n",
       "      <td>...</td>\n",
       "      <td>0</td>\n",
       "      <td>0</td>\n",
       "      <td>0</td>\n",
       "      <td>0</td>\n",
       "      <td>2500</td>\n",
       "      <td>5</td>\n",
       "      <td>2010</td>\n",
       "      <td>WD</td>\n",
       "      <td>Normal</td>\n",
       "      <td>266500</td>\n",
       "    </tr>\n",
       "    <tr>\n",
       "      <th>1437</th>\n",
       "      <td>1459</td>\n",
       "      <td>20</td>\n",
       "      <td>RL</td>\n",
       "      <td>68.0</td>\n",
       "      <td>9717</td>\n",
       "      <td>Pave</td>\n",
       "      <td>Reg</td>\n",
       "      <td>Lvl</td>\n",
       "      <td>AllPub</td>\n",
       "      <td>Inside</td>\n",
       "      <td>...</td>\n",
       "      <td>112</td>\n",
       "      <td>0</td>\n",
       "      <td>0</td>\n",
       "      <td>0</td>\n",
       "      <td>0</td>\n",
       "      <td>4</td>\n",
       "      <td>2010</td>\n",
       "      <td>WD</td>\n",
       "      <td>Normal</td>\n",
       "      <td>142125</td>\n",
       "    </tr>\n",
       "    <tr>\n",
       "      <th>1438</th>\n",
       "      <td>1460</td>\n",
       "      <td>20</td>\n",
       "      <td>RL</td>\n",
       "      <td>75.0</td>\n",
       "      <td>9937</td>\n",
       "      <td>Pave</td>\n",
       "      <td>Reg</td>\n",
       "      <td>Lvl</td>\n",
       "      <td>AllPub</td>\n",
       "      <td>Inside</td>\n",
       "      <td>...</td>\n",
       "      <td>0</td>\n",
       "      <td>0</td>\n",
       "      <td>0</td>\n",
       "      <td>0</td>\n",
       "      <td>0</td>\n",
       "      <td>6</td>\n",
       "      <td>2008</td>\n",
       "      <td>WD</td>\n",
       "      <td>Normal</td>\n",
       "      <td>147500</td>\n",
       "    </tr>\n",
       "  </tbody>\n",
       "</table>\n",
       "<p>1439 rows × 74 columns</p>\n",
       "</div>"
      ],
      "text/plain": [
       "        Id  MSSubClass MSZoning  LotFrontage  LotArea Street LotShape  \\\n",
       "0        1          60       RL         65.0     8450   Pave      Reg   \n",
       "1        2          20       RL         80.0     9600   Pave      Reg   \n",
       "2        3          60       RL         68.0    11250   Pave      IR1   \n",
       "3        4          70       RL         60.0     9550   Pave      IR1   \n",
       "4        5          60       RL         84.0    14260   Pave      IR1   \n",
       "...    ...         ...      ...          ...      ...    ...      ...   \n",
       "1434  1456          60       RL         62.0     7917   Pave      Reg   \n",
       "1435  1457          20       RL         85.0    13175   Pave      Reg   \n",
       "1436  1458          70       RL         66.0     9042   Pave      Reg   \n",
       "1437  1459          20       RL         68.0     9717   Pave      Reg   \n",
       "1438  1460          20       RL         75.0     9937   Pave      Reg   \n",
       "\n",
       "     LandContour Utilities LotConfig  ... EnclosedPorch 3SsnPorch ScreenPorch  \\\n",
       "0            Lvl    AllPub    Inside  ...             0         0           0   \n",
       "1            Lvl    AllPub       FR2  ...             0         0           0   \n",
       "2            Lvl    AllPub    Inside  ...             0         0           0   \n",
       "3            Lvl    AllPub    Corner  ...           272         0           0   \n",
       "4            Lvl    AllPub       FR2  ...             0         0           0   \n",
       "...          ...       ...       ...  ...           ...       ...         ...   \n",
       "1434         Lvl    AllPub    Inside  ...             0         0           0   \n",
       "1435         Lvl    AllPub    Inside  ...             0         0           0   \n",
       "1436         Lvl    AllPub    Inside  ...             0         0           0   \n",
       "1437         Lvl    AllPub    Inside  ...           112         0           0   \n",
       "1438         Lvl    AllPub    Inside  ...             0         0           0   \n",
       "\n",
       "     PoolArea MiscVal MoSold  YrSold  SaleType  SaleCondition  SalePrice  \n",
       "0           0       0      2    2008        WD         Normal     208500  \n",
       "1           0       0      5    2007        WD         Normal     181500  \n",
       "2           0       0      9    2008        WD         Normal     223500  \n",
       "3           0       0      2    2006        WD        Abnorml     140000  \n",
       "4           0       0     12    2008        WD         Normal     250000  \n",
       "...       ...     ...    ...     ...       ...            ...        ...  \n",
       "1434        0       0      8    2007        WD         Normal     175000  \n",
       "1435        0       0      2    2010        WD         Normal     210000  \n",
       "1436        0    2500      5    2010        WD         Normal     266500  \n",
       "1437        0       0      4    2010        WD         Normal     142125  \n",
       "1438        0       0      6    2008        WD         Normal     147500  \n",
       "\n",
       "[1439 rows x 74 columns]"
      ]
     },
     "execution_count": 16,
     "metadata": {},
     "output_type": "execute_result"
    }
   ],
   "source": [
    "df"
   ]
  },
  {
   "cell_type": "code",
   "execution_count": 17,
   "metadata": {},
   "outputs": [
    {
     "name": "stdout",
     "output_type": "stream",
     "text": [
      "<class 'pandas.core.frame.DataFrame'>\n",
      "RangeIndex: 1439 entries, 0 to 1438\n",
      "Data columns (total 74 columns):\n",
      " #   Column         Non-Null Count  Dtype  \n",
      "---  ------         --------------  -----  \n",
      " 0   Id             1439 non-null   int64  \n",
      " 1   MSSubClass     1439 non-null   int64  \n",
      " 2   MSZoning       1439 non-null   object \n",
      " 3   LotFrontage    1439 non-null   float64\n",
      " 4   LotArea        1439 non-null   int64  \n",
      " 5   Street         1439 non-null   object \n",
      " 6   LotShape       1439 non-null   object \n",
      " 7   LandContour    1439 non-null   object \n",
      " 8   Utilities      1439 non-null   object \n",
      " 9   LotConfig      1439 non-null   object \n",
      " 10  LandSlope      1439 non-null   object \n",
      " 11  Neighborhood   1439 non-null   object \n",
      " 12  Condition1     1439 non-null   object \n",
      " 13  Condition2     1439 non-null   object \n",
      " 14  BldgType       1439 non-null   object \n",
      " 15  HouseStyle     1439 non-null   object \n",
      " 16  OverallQual    1439 non-null   int64  \n",
      " 17  OverallCond    1439 non-null   int64  \n",
      " 18  YearBuilt      1439 non-null   int64  \n",
      " 19  YearRemodAdd   1439 non-null   int64  \n",
      " 20  RoofStyle      1439 non-null   object \n",
      " 21  RoofMatl       1439 non-null   object \n",
      " 22  Exterior1st    1439 non-null   object \n",
      " 23  Exterior2nd    1439 non-null   object \n",
      " 24  MasVnrType     578 non-null    object \n",
      " 25  MasVnrArea     1439 non-null   float64\n",
      " 26  ExterQual      1439 non-null   object \n",
      " 27  ExterCond      1439 non-null   object \n",
      " 28  Foundation     1439 non-null   object \n",
      " 29  BsmtQual       1439 non-null   object \n",
      " 30  BsmtCond       1439 non-null   object \n",
      " 31  BsmtExposure   1439 non-null   object \n",
      " 32  BsmtFinType1   1439 non-null   object \n",
      " 33  BsmtFinSF1     1439 non-null   int64  \n",
      " 34  BsmtFinSF2     1439 non-null   int64  \n",
      " 35  BsmtUnfSF      1439 non-null   int64  \n",
      " 36  TotalBsmtSF    1439 non-null   int64  \n",
      " 37  Heating        1439 non-null   object \n",
      " 38  HeatingQC      1439 non-null   object \n",
      " 39  CentralAir     1439 non-null   object \n",
      " 40  Electrical     1439 non-null   object \n",
      " 41  1stFlrSF       1439 non-null   int64  \n",
      " 42  2ndFlrSF       1439 non-null   int64  \n",
      " 43  LowQualFinSF   1439 non-null   int64  \n",
      " 44  GrLivArea      1439 non-null   int64  \n",
      " 45  BsmtFullBath   1439 non-null   int64  \n",
      " 46  BsmtHalfBath   1439 non-null   int64  \n",
      " 47  FullBath       1439 non-null   int64  \n",
      " 48  HalfBath       1439 non-null   int64  \n",
      " 49  BedroomAbvGr   1439 non-null   int64  \n",
      " 50  KitchenAbvGr   1439 non-null   int64  \n",
      " 51  KitchenQual    1439 non-null   object \n",
      " 52  TotRmsAbvGrd   1439 non-null   int64  \n",
      " 53  Functional     1439 non-null   object \n",
      " 54  Fireplaces     1439 non-null   int64  \n",
      " 55  FireplaceQu    1439 non-null   object \n",
      " 56  GarageType     1439 non-null   object \n",
      " 57  GarageFinish   1439 non-null   object \n",
      " 58  GarageCars     1439 non-null   int64  \n",
      " 59  GarageArea     1439 non-null   int64  \n",
      " 60  GarageQual     1439 non-null   object \n",
      " 61  PavedDrive     1439 non-null   object \n",
      " 62  WoodDeckSF     1439 non-null   int64  \n",
      " 63  OpenPorchSF    1439 non-null   int64  \n",
      " 64  EnclosedPorch  1439 non-null   int64  \n",
      " 65  3SsnPorch      1439 non-null   int64  \n",
      " 66  ScreenPorch    1439 non-null   int64  \n",
      " 67  PoolArea       1439 non-null   int64  \n",
      " 68  MiscVal        1439 non-null   int64  \n",
      " 69  MoSold         1439 non-null   int64  \n",
      " 70  YrSold         1439 non-null   int64  \n",
      " 71  SaleType       1439 non-null   object \n",
      " 72  SaleCondition  1439 non-null   object \n",
      " 73  SalePrice      1439 non-null   int64  \n",
      "dtypes: float64(2), int64(35), object(37)\n",
      "memory usage: 832.1+ KB\n"
     ]
    }
   ],
   "source": [
    "df.info()"
   ]
  },
  {
   "cell_type": "markdown",
   "metadata": {},
   "source": [
    "##### Feature Engineering: Age of the House (`AgeOfHouse`)\n",
    "\n",
    "This feature calculates the number of years since the house was built until the year it was sold. Understanding the age of a house is crucial as it provides insights into the property's condition and historical value.\n",
    "\n",
    "##### Formula:\n",
    "`AgeOfHouse = YrSold - YearBuilt`\n",
    "\n",
    "##### Purpose:\n",
    "The `AgeOfHouse` feature helps capture the property's age, which can be an important predictor of its value and appeal to potential buyers.\n"
   ]
  },
  {
   "cell_type": "code",
   "execution_count": 18,
   "metadata": {},
   "outputs": [],
   "source": [
    "df['AgeOfHouse'] = df['YrSold'] - df['YearBuilt']\n",
    "test_df['AgeOfHouse'] = test_df['YrSold'] - test_df['YearBuilt']"
   ]
  },
  {
   "cell_type": "markdown",
   "metadata": {},
   "source": [
    "##### Feature Engineering: Age Since Last Remodel (`HouseRemodelAge`)\n",
    "\n",
    "This feature calculates the number of years since the house underwent its last major remodeling until the year it was sold. Remodeling can significantly influence a property's modernity and desirability.\n",
    "\n",
    "##### Purpose:\n",
    "The `HouseRemodelAge` feature provides insights into how recently the house was updated, which is a key factor in understanding its marketability and price.\n"
   ]
  },
  {
   "cell_type": "code",
   "execution_count": 19,
   "metadata": {},
   "outputs": [],
   "source": [
    "df['HouseReamodelAge'] = df['YrSold'] - df['YearRemodAdd']\n",
    "test_df['HouseReamodelAge'] = test_df['YrSold'] - test_df['YearRemodAdd']"
   ]
  },
  {
   "cell_type": "markdown",
   "metadata": {},
   "source": [
    "##### Feature Engineering: Total Square Footage (`TotalSqFt`)\n",
    "\n",
    "This feature combines all the individual square footage values for a house to represent the total livable area across all floors. Buyers often consider the total square footage of a property as a primary indicator of its size and value.\n",
    "\n",
    "##### Purpose:\n",
    "The `TotalSqFt` feature aggregates the total area of the house, making it easier to analyze and compare properties. It captures the overall livable space, which is a significant determinant in pricing and buyer preferences.\n"
   ]
  },
  {
   "cell_type": "code",
   "execution_count": 20,
   "metadata": {},
   "outputs": [],
   "source": [
    "df['HouseTotalSqFt'] = df['1stFlrSF'] + df['2ndFlrSF'] +  + df['BsmtFinSF1'] + df['BsmtFinSF2'] #+ df['BsmtUnfSF']\n",
    "test_df['HouseTotalSqFt'] = test_df['TotalBsmtSF'] + test_df['1stFlrSF'] + test_df['2ndFlrSF']"
   ]
  },
  {
   "cell_type": "code",
   "execution_count": 21,
   "metadata": {},
   "outputs": [],
   "source": [
    "df['TotalHouseArea'] = df['GrLivArea'] + df['TotalBsmtSF']\n",
    "test_df['TotalHouseArea'] = test_df['GrLivArea'] + test_df['BsmtFinSF1'] + test_df['BsmtFinSF2']"
   ]
  },
  {
   "cell_type": "code",
   "execution_count": 22,
   "metadata": {},
   "outputs": [],
   "source": [
    "df['TotalNumBaths'] = df['FullBath']  + df['BsmtFullBath'] + df['FullBath'] + 0.5 * (df['BsmtHalfBath'] + df['HalfBath'])\n",
    "test_df['TotalNumBaths'] =  test_df['FullBath']  + test_df['BsmtFullBath'] + test_df['FullBath'] + 0.5 * (test_df['BsmtHalfBath'] + test_df['HalfBath'] )"
   ]
  },
  {
   "cell_type": "code",
   "execution_count": 23,
   "metadata": {},
   "outputs": [],
   "source": [
    "df['TotalPorchArea'] = df['OpenPorchSF'] + df['EnclosedPorch'] + df['3SsnPorch'] + df['ScreenPorch'] + df['WoodDeckSF']\n",
    "test_df['TotalPorchArea'] = test_df['OpenPorchSF'] + test_df['EnclosedPorch'] + test_df['3SsnPorch'] + test_df['ScreenPorch'] + test_df['WoodDeckSF']"
   ]
  },
  {
   "cell_type": "code",
   "execution_count": 24,
   "metadata": {},
   "outputs": [
    {
     "data": {
      "text/html": [
       "<div>\n",
       "<style scoped>\n",
       "    .dataframe tbody tr th:only-of-type {\n",
       "        vertical-align: middle;\n",
       "    }\n",
       "\n",
       "    .dataframe tbody tr th {\n",
       "        vertical-align: top;\n",
       "    }\n",
       "\n",
       "    .dataframe thead th {\n",
       "        text-align: right;\n",
       "    }\n",
       "</style>\n",
       "<table border=\"1\" class=\"dataframe\">\n",
       "  <thead>\n",
       "    <tr style=\"text-align: right;\">\n",
       "      <th></th>\n",
       "      <th>Id</th>\n",
       "      <th>MSSubClass</th>\n",
       "      <th>MSZoning</th>\n",
       "      <th>LotFrontage</th>\n",
       "      <th>LotArea</th>\n",
       "      <th>Street</th>\n",
       "      <th>LotShape</th>\n",
       "      <th>LandContour</th>\n",
       "      <th>Utilities</th>\n",
       "      <th>LotConfig</th>\n",
       "      <th>...</th>\n",
       "      <th>YrSold</th>\n",
       "      <th>SaleType</th>\n",
       "      <th>SaleCondition</th>\n",
       "      <th>SalePrice</th>\n",
       "      <th>AgeOfHouse</th>\n",
       "      <th>HouseReamodelAge</th>\n",
       "      <th>HouseTotalSqFt</th>\n",
       "      <th>TotalHouseArea</th>\n",
       "      <th>TotalNumBaths</th>\n",
       "      <th>TotalPorchArea</th>\n",
       "    </tr>\n",
       "  </thead>\n",
       "  <tbody>\n",
       "    <tr>\n",
       "      <th>0</th>\n",
       "      <td>1</td>\n",
       "      <td>60</td>\n",
       "      <td>RL</td>\n",
       "      <td>65.0</td>\n",
       "      <td>8450</td>\n",
       "      <td>Pave</td>\n",
       "      <td>Reg</td>\n",
       "      <td>Lvl</td>\n",
       "      <td>AllPub</td>\n",
       "      <td>Inside</td>\n",
       "      <td>...</td>\n",
       "      <td>2008</td>\n",
       "      <td>WD</td>\n",
       "      <td>Normal</td>\n",
       "      <td>208500</td>\n",
       "      <td>5</td>\n",
       "      <td>5</td>\n",
       "      <td>2416</td>\n",
       "      <td>2566</td>\n",
       "      <td>5.5</td>\n",
       "      <td>61</td>\n",
       "    </tr>\n",
       "    <tr>\n",
       "      <th>1</th>\n",
       "      <td>2</td>\n",
       "      <td>20</td>\n",
       "      <td>RL</td>\n",
       "      <td>80.0</td>\n",
       "      <td>9600</td>\n",
       "      <td>Pave</td>\n",
       "      <td>Reg</td>\n",
       "      <td>Lvl</td>\n",
       "      <td>AllPub</td>\n",
       "      <td>FR2</td>\n",
       "      <td>...</td>\n",
       "      <td>2007</td>\n",
       "      <td>WD</td>\n",
       "      <td>Normal</td>\n",
       "      <td>181500</td>\n",
       "      <td>31</td>\n",
       "      <td>31</td>\n",
       "      <td>2240</td>\n",
       "      <td>2524</td>\n",
       "      <td>4.5</td>\n",
       "      <td>298</td>\n",
       "    </tr>\n",
       "    <tr>\n",
       "      <th>2</th>\n",
       "      <td>3</td>\n",
       "      <td>60</td>\n",
       "      <td>RL</td>\n",
       "      <td>68.0</td>\n",
       "      <td>11250</td>\n",
       "      <td>Pave</td>\n",
       "      <td>IR1</td>\n",
       "      <td>Lvl</td>\n",
       "      <td>AllPub</td>\n",
       "      <td>Inside</td>\n",
       "      <td>...</td>\n",
       "      <td>2008</td>\n",
       "      <td>WD</td>\n",
       "      <td>Normal</td>\n",
       "      <td>223500</td>\n",
       "      <td>7</td>\n",
       "      <td>6</td>\n",
       "      <td>2272</td>\n",
       "      <td>2706</td>\n",
       "      <td>5.5</td>\n",
       "      <td>42</td>\n",
       "    </tr>\n",
       "    <tr>\n",
       "      <th>3</th>\n",
       "      <td>4</td>\n",
       "      <td>70</td>\n",
       "      <td>RL</td>\n",
       "      <td>60.0</td>\n",
       "      <td>9550</td>\n",
       "      <td>Pave</td>\n",
       "      <td>IR1</td>\n",
       "      <td>Lvl</td>\n",
       "      <td>AllPub</td>\n",
       "      <td>Corner</td>\n",
       "      <td>...</td>\n",
       "      <td>2006</td>\n",
       "      <td>WD</td>\n",
       "      <td>Abnorml</td>\n",
       "      <td>140000</td>\n",
       "      <td>91</td>\n",
       "      <td>36</td>\n",
       "      <td>1933</td>\n",
       "      <td>2473</td>\n",
       "      <td>3.0</td>\n",
       "      <td>307</td>\n",
       "    </tr>\n",
       "    <tr>\n",
       "      <th>4</th>\n",
       "      <td>5</td>\n",
       "      <td>60</td>\n",
       "      <td>RL</td>\n",
       "      <td>84.0</td>\n",
       "      <td>14260</td>\n",
       "      <td>Pave</td>\n",
       "      <td>IR1</td>\n",
       "      <td>Lvl</td>\n",
       "      <td>AllPub</td>\n",
       "      <td>FR2</td>\n",
       "      <td>...</td>\n",
       "      <td>2008</td>\n",
       "      <td>WD</td>\n",
       "      <td>Normal</td>\n",
       "      <td>250000</td>\n",
       "      <td>8</td>\n",
       "      <td>8</td>\n",
       "      <td>2853</td>\n",
       "      <td>3343</td>\n",
       "      <td>5.5</td>\n",
       "      <td>276</td>\n",
       "    </tr>\n",
       "    <tr>\n",
       "      <th>...</th>\n",
       "      <td>...</td>\n",
       "      <td>...</td>\n",
       "      <td>...</td>\n",
       "      <td>...</td>\n",
       "      <td>...</td>\n",
       "      <td>...</td>\n",
       "      <td>...</td>\n",
       "      <td>...</td>\n",
       "      <td>...</td>\n",
       "      <td>...</td>\n",
       "      <td>...</td>\n",
       "      <td>...</td>\n",
       "      <td>...</td>\n",
       "      <td>...</td>\n",
       "      <td>...</td>\n",
       "      <td>...</td>\n",
       "      <td>...</td>\n",
       "      <td>...</td>\n",
       "      <td>...</td>\n",
       "      <td>...</td>\n",
       "      <td>...</td>\n",
       "    </tr>\n",
       "    <tr>\n",
       "      <th>1434</th>\n",
       "      <td>1456</td>\n",
       "      <td>60</td>\n",
       "      <td>RL</td>\n",
       "      <td>62.0</td>\n",
       "      <td>7917</td>\n",
       "      <td>Pave</td>\n",
       "      <td>Reg</td>\n",
       "      <td>Lvl</td>\n",
       "      <td>AllPub</td>\n",
       "      <td>Inside</td>\n",
       "      <td>...</td>\n",
       "      <td>2007</td>\n",
       "      <td>WD</td>\n",
       "      <td>Normal</td>\n",
       "      <td>175000</td>\n",
       "      <td>8</td>\n",
       "      <td>7</td>\n",
       "      <td>1647</td>\n",
       "      <td>2600</td>\n",
       "      <td>4.5</td>\n",
       "      <td>40</td>\n",
       "    </tr>\n",
       "    <tr>\n",
       "      <th>1435</th>\n",
       "      <td>1457</td>\n",
       "      <td>20</td>\n",
       "      <td>RL</td>\n",
       "      <td>85.0</td>\n",
       "      <td>13175</td>\n",
       "      <td>Pave</td>\n",
       "      <td>Reg</td>\n",
       "      <td>Lvl</td>\n",
       "      <td>AllPub</td>\n",
       "      <td>Inside</td>\n",
       "      <td>...</td>\n",
       "      <td>2010</td>\n",
       "      <td>WD</td>\n",
       "      <td>Normal</td>\n",
       "      <td>210000</td>\n",
       "      <td>32</td>\n",
       "      <td>22</td>\n",
       "      <td>3026</td>\n",
       "      <td>3615</td>\n",
       "      <td>5.0</td>\n",
       "      <td>349</td>\n",
       "    </tr>\n",
       "    <tr>\n",
       "      <th>1436</th>\n",
       "      <td>1458</td>\n",
       "      <td>70</td>\n",
       "      <td>RL</td>\n",
       "      <td>66.0</td>\n",
       "      <td>9042</td>\n",
       "      <td>Pave</td>\n",
       "      <td>Reg</td>\n",
       "      <td>Lvl</td>\n",
       "      <td>AllPub</td>\n",
       "      <td>Inside</td>\n",
       "      <td>...</td>\n",
       "      <td>2010</td>\n",
       "      <td>WD</td>\n",
       "      <td>Normal</td>\n",
       "      <td>266500</td>\n",
       "      <td>69</td>\n",
       "      <td>4</td>\n",
       "      <td>2615</td>\n",
       "      <td>3492</td>\n",
       "      <td>4.0</td>\n",
       "      <td>60</td>\n",
       "    </tr>\n",
       "    <tr>\n",
       "      <th>1437</th>\n",
       "      <td>1459</td>\n",
       "      <td>20</td>\n",
       "      <td>RL</td>\n",
       "      <td>68.0</td>\n",
       "      <td>9717</td>\n",
       "      <td>Pave</td>\n",
       "      <td>Reg</td>\n",
       "      <td>Lvl</td>\n",
       "      <td>AllPub</td>\n",
       "      <td>Inside</td>\n",
       "      <td>...</td>\n",
       "      <td>2010</td>\n",
       "      <td>WD</td>\n",
       "      <td>Normal</td>\n",
       "      <td>142125</td>\n",
       "      <td>60</td>\n",
       "      <td>14</td>\n",
       "      <td>2156</td>\n",
       "      <td>2156</td>\n",
       "      <td>3.0</td>\n",
       "      <td>478</td>\n",
       "    </tr>\n",
       "    <tr>\n",
       "      <th>1438</th>\n",
       "      <td>1460</td>\n",
       "      <td>20</td>\n",
       "      <td>RL</td>\n",
       "      <td>75.0</td>\n",
       "      <td>9937</td>\n",
       "      <td>Pave</td>\n",
       "      <td>Reg</td>\n",
       "      <td>Lvl</td>\n",
       "      <td>AllPub</td>\n",
       "      <td>Inside</td>\n",
       "      <td>...</td>\n",
       "      <td>2008</td>\n",
       "      <td>WD</td>\n",
       "      <td>Normal</td>\n",
       "      <td>147500</td>\n",
       "      <td>43</td>\n",
       "      <td>43</td>\n",
       "      <td>2376</td>\n",
       "      <td>2512</td>\n",
       "      <td>3.5</td>\n",
       "      <td>804</td>\n",
       "    </tr>\n",
       "  </tbody>\n",
       "</table>\n",
       "<p>1439 rows × 80 columns</p>\n",
       "</div>"
      ],
      "text/plain": [
       "        Id  MSSubClass MSZoning  LotFrontage  LotArea Street LotShape  \\\n",
       "0        1          60       RL         65.0     8450   Pave      Reg   \n",
       "1        2          20       RL         80.0     9600   Pave      Reg   \n",
       "2        3          60       RL         68.0    11250   Pave      IR1   \n",
       "3        4          70       RL         60.0     9550   Pave      IR1   \n",
       "4        5          60       RL         84.0    14260   Pave      IR1   \n",
       "...    ...         ...      ...          ...      ...    ...      ...   \n",
       "1434  1456          60       RL         62.0     7917   Pave      Reg   \n",
       "1435  1457          20       RL         85.0    13175   Pave      Reg   \n",
       "1436  1458          70       RL         66.0     9042   Pave      Reg   \n",
       "1437  1459          20       RL         68.0     9717   Pave      Reg   \n",
       "1438  1460          20       RL         75.0     9937   Pave      Reg   \n",
       "\n",
       "     LandContour Utilities LotConfig  ... YrSold SaleType SaleCondition  \\\n",
       "0            Lvl    AllPub    Inside  ...   2008       WD        Normal   \n",
       "1            Lvl    AllPub       FR2  ...   2007       WD        Normal   \n",
       "2            Lvl    AllPub    Inside  ...   2008       WD        Normal   \n",
       "3            Lvl    AllPub    Corner  ...   2006       WD       Abnorml   \n",
       "4            Lvl    AllPub       FR2  ...   2008       WD        Normal   \n",
       "...          ...       ...       ...  ...    ...      ...           ...   \n",
       "1434         Lvl    AllPub    Inside  ...   2007       WD        Normal   \n",
       "1435         Lvl    AllPub    Inside  ...   2010       WD        Normal   \n",
       "1436         Lvl    AllPub    Inside  ...   2010       WD        Normal   \n",
       "1437         Lvl    AllPub    Inside  ...   2010       WD        Normal   \n",
       "1438         Lvl    AllPub    Inside  ...   2008       WD        Normal   \n",
       "\n",
       "     SalePrice AgeOfHouse HouseReamodelAge  HouseTotalSqFt  TotalHouseArea  \\\n",
       "0       208500          5                5            2416            2566   \n",
       "1       181500         31               31            2240            2524   \n",
       "2       223500          7                6            2272            2706   \n",
       "3       140000         91               36            1933            2473   \n",
       "4       250000          8                8            2853            3343   \n",
       "...        ...        ...              ...             ...             ...   \n",
       "1434    175000          8                7            1647            2600   \n",
       "1435    210000         32               22            3026            3615   \n",
       "1436    266500         69                4            2615            3492   \n",
       "1437    142125         60               14            2156            2156   \n",
       "1438    147500         43               43            2376            2512   \n",
       "\n",
       "      TotalNumBaths  TotalPorchArea  \n",
       "0               5.5              61  \n",
       "1               4.5             298  \n",
       "2               5.5              42  \n",
       "3               3.0             307  \n",
       "4               5.5             276  \n",
       "...             ...             ...  \n",
       "1434            4.5              40  \n",
       "1435            5.0             349  \n",
       "1436            4.0              60  \n",
       "1437            3.0             478  \n",
       "1438            3.5             804  \n",
       "\n",
       "[1439 rows x 80 columns]"
      ]
     },
     "execution_count": 24,
     "metadata": {},
     "output_type": "execute_result"
    }
   ],
   "source": [
    "df"
   ]
  },
  {
   "cell_type": "markdown",
   "metadata": {},
   "source": [
    "After Doing The feature Engineering we will consider multiple cases to keep the some of the columns to see what fits best for the algorithims"
   ]
  },
  {
   "cell_type": "code",
   "execution_count": 25,
   "metadata": {},
   "outputs": [],
   "source": [
    "df = df.drop(columns=['Id','YrSold', 'YearBuilt', 'YearRemodAdd', '1stFlrSF', '2ndFlrSF', 'BsmtFinSF1', 'BsmtFinSF2', 'GrLivArea', 'TotalBsmtSF','BsmtFullBath', 'FullBath', 'BsmtHalfBath', 'HalfBath', 'OpenPorchSF', '3SsnPorch', 'EnclosedPorch', 'ScreenPorch','WoodDeckSF'])\n",
    "test_df = test_df.drop(columns=['YrSold', 'YearBuilt', 'YearRemodAdd', '1stFlrSF', '2ndFlrSF', 'BsmtFinSF1', 'BsmtFinSF2', 'GrLivArea', 'TotalBsmtSF','BsmtFullBath', 'FullBath', 'BsmtHalfBath', 'HalfBath', 'OpenPorchSF', '3SsnPorch', 'EnclosedPorch', 'ScreenPorch','WoodDeckSF'])"
   ]
  },
  {
   "cell_type": "code",
   "execution_count": 26,
   "metadata": {},
   "outputs": [
    {
     "data": {
      "text/html": [
       "<div>\n",
       "<style scoped>\n",
       "    .dataframe tbody tr th:only-of-type {\n",
       "        vertical-align: middle;\n",
       "    }\n",
       "\n",
       "    .dataframe tbody tr th {\n",
       "        vertical-align: top;\n",
       "    }\n",
       "\n",
       "    .dataframe thead th {\n",
       "        text-align: right;\n",
       "    }\n",
       "</style>\n",
       "<table border=\"1\" class=\"dataframe\">\n",
       "  <thead>\n",
       "    <tr style=\"text-align: right;\">\n",
       "      <th></th>\n",
       "      <th>MSSubClass</th>\n",
       "      <th>MSZoning</th>\n",
       "      <th>LotFrontage</th>\n",
       "      <th>LotArea</th>\n",
       "      <th>Street</th>\n",
       "      <th>LotShape</th>\n",
       "      <th>LandContour</th>\n",
       "      <th>Utilities</th>\n",
       "      <th>LotConfig</th>\n",
       "      <th>LandSlope</th>\n",
       "      <th>...</th>\n",
       "      <th>MoSold</th>\n",
       "      <th>SaleType</th>\n",
       "      <th>SaleCondition</th>\n",
       "      <th>SalePrice</th>\n",
       "      <th>AgeOfHouse</th>\n",
       "      <th>HouseReamodelAge</th>\n",
       "      <th>HouseTotalSqFt</th>\n",
       "      <th>TotalHouseArea</th>\n",
       "      <th>TotalNumBaths</th>\n",
       "      <th>TotalPorchArea</th>\n",
       "    </tr>\n",
       "  </thead>\n",
       "  <tbody>\n",
       "    <tr>\n",
       "      <th>0</th>\n",
       "      <td>60</td>\n",
       "      <td>RL</td>\n",
       "      <td>65.0</td>\n",
       "      <td>8450</td>\n",
       "      <td>Pave</td>\n",
       "      <td>Reg</td>\n",
       "      <td>Lvl</td>\n",
       "      <td>AllPub</td>\n",
       "      <td>Inside</td>\n",
       "      <td>Gtl</td>\n",
       "      <td>...</td>\n",
       "      <td>2</td>\n",
       "      <td>WD</td>\n",
       "      <td>Normal</td>\n",
       "      <td>208500</td>\n",
       "      <td>5</td>\n",
       "      <td>5</td>\n",
       "      <td>2416</td>\n",
       "      <td>2566</td>\n",
       "      <td>5.5</td>\n",
       "      <td>61</td>\n",
       "    </tr>\n",
       "    <tr>\n",
       "      <th>1</th>\n",
       "      <td>20</td>\n",
       "      <td>RL</td>\n",
       "      <td>80.0</td>\n",
       "      <td>9600</td>\n",
       "      <td>Pave</td>\n",
       "      <td>Reg</td>\n",
       "      <td>Lvl</td>\n",
       "      <td>AllPub</td>\n",
       "      <td>FR2</td>\n",
       "      <td>Gtl</td>\n",
       "      <td>...</td>\n",
       "      <td>5</td>\n",
       "      <td>WD</td>\n",
       "      <td>Normal</td>\n",
       "      <td>181500</td>\n",
       "      <td>31</td>\n",
       "      <td>31</td>\n",
       "      <td>2240</td>\n",
       "      <td>2524</td>\n",
       "      <td>4.5</td>\n",
       "      <td>298</td>\n",
       "    </tr>\n",
       "    <tr>\n",
       "      <th>2</th>\n",
       "      <td>60</td>\n",
       "      <td>RL</td>\n",
       "      <td>68.0</td>\n",
       "      <td>11250</td>\n",
       "      <td>Pave</td>\n",
       "      <td>IR1</td>\n",
       "      <td>Lvl</td>\n",
       "      <td>AllPub</td>\n",
       "      <td>Inside</td>\n",
       "      <td>Gtl</td>\n",
       "      <td>...</td>\n",
       "      <td>9</td>\n",
       "      <td>WD</td>\n",
       "      <td>Normal</td>\n",
       "      <td>223500</td>\n",
       "      <td>7</td>\n",
       "      <td>6</td>\n",
       "      <td>2272</td>\n",
       "      <td>2706</td>\n",
       "      <td>5.5</td>\n",
       "      <td>42</td>\n",
       "    </tr>\n",
       "    <tr>\n",
       "      <th>3</th>\n",
       "      <td>70</td>\n",
       "      <td>RL</td>\n",
       "      <td>60.0</td>\n",
       "      <td>9550</td>\n",
       "      <td>Pave</td>\n",
       "      <td>IR1</td>\n",
       "      <td>Lvl</td>\n",
       "      <td>AllPub</td>\n",
       "      <td>Corner</td>\n",
       "      <td>Gtl</td>\n",
       "      <td>...</td>\n",
       "      <td>2</td>\n",
       "      <td>WD</td>\n",
       "      <td>Abnorml</td>\n",
       "      <td>140000</td>\n",
       "      <td>91</td>\n",
       "      <td>36</td>\n",
       "      <td>1933</td>\n",
       "      <td>2473</td>\n",
       "      <td>3.0</td>\n",
       "      <td>307</td>\n",
       "    </tr>\n",
       "    <tr>\n",
       "      <th>4</th>\n",
       "      <td>60</td>\n",
       "      <td>RL</td>\n",
       "      <td>84.0</td>\n",
       "      <td>14260</td>\n",
       "      <td>Pave</td>\n",
       "      <td>IR1</td>\n",
       "      <td>Lvl</td>\n",
       "      <td>AllPub</td>\n",
       "      <td>FR2</td>\n",
       "      <td>Gtl</td>\n",
       "      <td>...</td>\n",
       "      <td>12</td>\n",
       "      <td>WD</td>\n",
       "      <td>Normal</td>\n",
       "      <td>250000</td>\n",
       "      <td>8</td>\n",
       "      <td>8</td>\n",
       "      <td>2853</td>\n",
       "      <td>3343</td>\n",
       "      <td>5.5</td>\n",
       "      <td>276</td>\n",
       "    </tr>\n",
       "    <tr>\n",
       "      <th>...</th>\n",
       "      <td>...</td>\n",
       "      <td>...</td>\n",
       "      <td>...</td>\n",
       "      <td>...</td>\n",
       "      <td>...</td>\n",
       "      <td>...</td>\n",
       "      <td>...</td>\n",
       "      <td>...</td>\n",
       "      <td>...</td>\n",
       "      <td>...</td>\n",
       "      <td>...</td>\n",
       "      <td>...</td>\n",
       "      <td>...</td>\n",
       "      <td>...</td>\n",
       "      <td>...</td>\n",
       "      <td>...</td>\n",
       "      <td>...</td>\n",
       "      <td>...</td>\n",
       "      <td>...</td>\n",
       "      <td>...</td>\n",
       "      <td>...</td>\n",
       "    </tr>\n",
       "    <tr>\n",
       "      <th>1434</th>\n",
       "      <td>60</td>\n",
       "      <td>RL</td>\n",
       "      <td>62.0</td>\n",
       "      <td>7917</td>\n",
       "      <td>Pave</td>\n",
       "      <td>Reg</td>\n",
       "      <td>Lvl</td>\n",
       "      <td>AllPub</td>\n",
       "      <td>Inside</td>\n",
       "      <td>Gtl</td>\n",
       "      <td>...</td>\n",
       "      <td>8</td>\n",
       "      <td>WD</td>\n",
       "      <td>Normal</td>\n",
       "      <td>175000</td>\n",
       "      <td>8</td>\n",
       "      <td>7</td>\n",
       "      <td>1647</td>\n",
       "      <td>2600</td>\n",
       "      <td>4.5</td>\n",
       "      <td>40</td>\n",
       "    </tr>\n",
       "    <tr>\n",
       "      <th>1435</th>\n",
       "      <td>20</td>\n",
       "      <td>RL</td>\n",
       "      <td>85.0</td>\n",
       "      <td>13175</td>\n",
       "      <td>Pave</td>\n",
       "      <td>Reg</td>\n",
       "      <td>Lvl</td>\n",
       "      <td>AllPub</td>\n",
       "      <td>Inside</td>\n",
       "      <td>Gtl</td>\n",
       "      <td>...</td>\n",
       "      <td>2</td>\n",
       "      <td>WD</td>\n",
       "      <td>Normal</td>\n",
       "      <td>210000</td>\n",
       "      <td>32</td>\n",
       "      <td>22</td>\n",
       "      <td>3026</td>\n",
       "      <td>3615</td>\n",
       "      <td>5.0</td>\n",
       "      <td>349</td>\n",
       "    </tr>\n",
       "    <tr>\n",
       "      <th>1436</th>\n",
       "      <td>70</td>\n",
       "      <td>RL</td>\n",
       "      <td>66.0</td>\n",
       "      <td>9042</td>\n",
       "      <td>Pave</td>\n",
       "      <td>Reg</td>\n",
       "      <td>Lvl</td>\n",
       "      <td>AllPub</td>\n",
       "      <td>Inside</td>\n",
       "      <td>Gtl</td>\n",
       "      <td>...</td>\n",
       "      <td>5</td>\n",
       "      <td>WD</td>\n",
       "      <td>Normal</td>\n",
       "      <td>266500</td>\n",
       "      <td>69</td>\n",
       "      <td>4</td>\n",
       "      <td>2615</td>\n",
       "      <td>3492</td>\n",
       "      <td>4.0</td>\n",
       "      <td>60</td>\n",
       "    </tr>\n",
       "    <tr>\n",
       "      <th>1437</th>\n",
       "      <td>20</td>\n",
       "      <td>RL</td>\n",
       "      <td>68.0</td>\n",
       "      <td>9717</td>\n",
       "      <td>Pave</td>\n",
       "      <td>Reg</td>\n",
       "      <td>Lvl</td>\n",
       "      <td>AllPub</td>\n",
       "      <td>Inside</td>\n",
       "      <td>Gtl</td>\n",
       "      <td>...</td>\n",
       "      <td>4</td>\n",
       "      <td>WD</td>\n",
       "      <td>Normal</td>\n",
       "      <td>142125</td>\n",
       "      <td>60</td>\n",
       "      <td>14</td>\n",
       "      <td>2156</td>\n",
       "      <td>2156</td>\n",
       "      <td>3.0</td>\n",
       "      <td>478</td>\n",
       "    </tr>\n",
       "    <tr>\n",
       "      <th>1438</th>\n",
       "      <td>20</td>\n",
       "      <td>RL</td>\n",
       "      <td>75.0</td>\n",
       "      <td>9937</td>\n",
       "      <td>Pave</td>\n",
       "      <td>Reg</td>\n",
       "      <td>Lvl</td>\n",
       "      <td>AllPub</td>\n",
       "      <td>Inside</td>\n",
       "      <td>Gtl</td>\n",
       "      <td>...</td>\n",
       "      <td>6</td>\n",
       "      <td>WD</td>\n",
       "      <td>Normal</td>\n",
       "      <td>147500</td>\n",
       "      <td>43</td>\n",
       "      <td>43</td>\n",
       "      <td>2376</td>\n",
       "      <td>2512</td>\n",
       "      <td>3.5</td>\n",
       "      <td>804</td>\n",
       "    </tr>\n",
       "  </tbody>\n",
       "</table>\n",
       "<p>1439 rows × 61 columns</p>\n",
       "</div>"
      ],
      "text/plain": [
       "      MSSubClass MSZoning  LotFrontage  LotArea Street LotShape LandContour  \\\n",
       "0             60       RL         65.0     8450   Pave      Reg         Lvl   \n",
       "1             20       RL         80.0     9600   Pave      Reg         Lvl   \n",
       "2             60       RL         68.0    11250   Pave      IR1         Lvl   \n",
       "3             70       RL         60.0     9550   Pave      IR1         Lvl   \n",
       "4             60       RL         84.0    14260   Pave      IR1         Lvl   \n",
       "...          ...      ...          ...      ...    ...      ...         ...   \n",
       "1434          60       RL         62.0     7917   Pave      Reg         Lvl   \n",
       "1435          20       RL         85.0    13175   Pave      Reg         Lvl   \n",
       "1436          70       RL         66.0     9042   Pave      Reg         Lvl   \n",
       "1437          20       RL         68.0     9717   Pave      Reg         Lvl   \n",
       "1438          20       RL         75.0     9937   Pave      Reg         Lvl   \n",
       "\n",
       "     Utilities LotConfig LandSlope  ... MoSold SaleType SaleCondition  \\\n",
       "0       AllPub    Inside       Gtl  ...      2       WD        Normal   \n",
       "1       AllPub       FR2       Gtl  ...      5       WD        Normal   \n",
       "2       AllPub    Inside       Gtl  ...      9       WD        Normal   \n",
       "3       AllPub    Corner       Gtl  ...      2       WD       Abnorml   \n",
       "4       AllPub       FR2       Gtl  ...     12       WD        Normal   \n",
       "...        ...       ...       ...  ...    ...      ...           ...   \n",
       "1434    AllPub    Inside       Gtl  ...      8       WD        Normal   \n",
       "1435    AllPub    Inside       Gtl  ...      2       WD        Normal   \n",
       "1436    AllPub    Inside       Gtl  ...      5       WD        Normal   \n",
       "1437    AllPub    Inside       Gtl  ...      4       WD        Normal   \n",
       "1438    AllPub    Inside       Gtl  ...      6       WD        Normal   \n",
       "\n",
       "     SalePrice AgeOfHouse  HouseReamodelAge  HouseTotalSqFt TotalHouseArea  \\\n",
       "0       208500          5                 5            2416           2566   \n",
       "1       181500         31                31            2240           2524   \n",
       "2       223500          7                 6            2272           2706   \n",
       "3       140000         91                36            1933           2473   \n",
       "4       250000          8                 8            2853           3343   \n",
       "...        ...        ...               ...             ...            ...   \n",
       "1434    175000          8                 7            1647           2600   \n",
       "1435    210000         32                22            3026           3615   \n",
       "1436    266500         69                 4            2615           3492   \n",
       "1437    142125         60                14            2156           2156   \n",
       "1438    147500         43                43            2376           2512   \n",
       "\n",
       "     TotalNumBaths TotalPorchArea  \n",
       "0              5.5             61  \n",
       "1              4.5            298  \n",
       "2              5.5             42  \n",
       "3              3.0            307  \n",
       "4              5.5            276  \n",
       "...            ...            ...  \n",
       "1434           4.5             40  \n",
       "1435           5.0            349  \n",
       "1436           4.0             60  \n",
       "1437           3.0            478  \n",
       "1438           3.5            804  \n",
       "\n",
       "[1439 rows x 61 columns]"
      ]
     },
     "execution_count": 26,
     "metadata": {},
     "output_type": "execute_result"
    }
   ],
   "source": [
    "df"
   ]
  },
  {
   "cell_type": "markdown",
   "metadata": {},
   "source": [
    "## Purpose of the Heatmap\n",
    "\n",
    "### Why Create a Heatmap?\n",
    "\n",
    "A heatmap is a powerful visualization tool for understanding the relationships between numerical variables in a dataset. By representing the correlation matrix visually, it helps us quickly identify patterns and relationships that may not be immediately apparent from raw data or numerical summaries.\n",
    "\n",
    "### Objective:\n",
    "The purpose of creating a heatmap in this analysis is to:\n",
    "- **Identify Strong Relationships**: Highlight numerical features that have a strong positive or negative correlation with the target variable (e.g., `SalePrice`). These relationships can help prioritize which features are more likely to be predictive of the target.\n",
    "- **Detect Multicollinearity**: Pinpoint pairs of features that are highly correlated with each other. Multicollinearity can reduce the effectiveness of a predictive model, so identifying these relationships can guide feature selection or engineering.\n",
    "- **Feature Selection**: Help in deciding which variables to include in the model by understanding how strongly they relate to the target and to each other\n"
   ]
  },
  {
   "cell_type": "code",
   "execution_count": 27,
   "metadata": {},
   "outputs": [
    {
     "data": {
      "text/plain": [
       "<Axes: >"
      ]
     },
     "execution_count": 27,
     "metadata": {},
     "output_type": "execute_result"
    },
    {
     "data": {
      "image/png": "[encoded data removed]",
      "text/plain": [
       "<Figure size 2000x1200 with 2 Axes>"
      ]
     },
     "metadata": {},
     "output_type": "display_data"
    }
   ],
   "source": [
    "correlation =df.corr(numeric_only=True)\n",
    "plt.figure(figsize=(20,12))\n",
    "sns.heatmap(correlation, annot=True, cmap='coolwarm', fmt='.2f')"
   ]
  },
  {
   "cell_type": "markdown",
   "metadata": {},
   "source": [
    "We see from the heatmap that GarageArea and GarageCars have high correlation which means we need to pick form the two but since the correlation of GarageCars with SalePrice is slighy higher than GarageArea we should remove GarageArea"
   ]
  },
  {
   "cell_type": "markdown",
   "metadata": {},
   "source": [
    "### Log Transformation of SalePrice\n",
    "\n",
    "The histogram above shows the original distribution of the `SalePrice` feature. It is evident that the distribution is right-skewed, meaning that there are many houses with lower prices and a few houses with extremely high prices.\n",
    "\n",
    "#### Purpose of Log Transformation:\n",
    "1. **Normalize the Distribution**:\n",
    "   - A normal distribution is often preferred in machine learning models, especially for regression tasks, as it improves the performance and interpretability of the model. The log transformation helps reduce the skewness of the data and brings it closer to a normal distribution.\n",
    "\n",
    "2. **Reduce the Impact of Outliers**:\n",
    "   - Extremely high sale prices (outliers) can disproportionately influence the results of the model. By applying a log transformation, the impact of these outliers is minimized, making the model more robust.\n",
    "\n",
    "3. **Improve Model Accuracy**:\n",
    "   - Many machine learning algorithms perform better when the target variable is normally distributed. The log transformation ensures that the distribution of `SalePrice` aligns better with the assumptions of these algorithms, potentially leading to higher accuracy and more reliable predictions.\n",
    "\n",
    "By transforming `SalePrice` with a logarithmic function, we aim to enhance the model's ability to capture meaningful relationships between features and the target variable while reducing the influence of extreme values.\n"
   ]
  },
  {
   "cell_type": "code",
   "execution_count": 28,
   "metadata": {},
   "outputs": [],
   "source": [
    "df = df.drop(columns=['GarageArea'])\n",
    "test_df = test_df.drop(columns=['GarageArea'])"
   ]
  },
  {
   "cell_type": "code",
   "execution_count": 29,
   "metadata": {},
   "outputs": [
    {
     "data": {
      "text/plain": [
       "<Axes: xlabel='SalePrice', ylabel='Count'>"
      ]
     },
     "execution_count": 29,
     "metadata": {},
     "output_type": "execute_result"
    },
    {
     "data": {
      "image/png": "[encoded data removed]",
      "text/plain": [
       "<Figure size 640x480 with 1 Axes>"
      ]
     },
     "metadata": {},
     "output_type": "display_data"
    }
   ],
   "source": [
    "sns.histplot(df['SalePrice'], kde=True)"
   ]
  },
  {
   "cell_type": "code",
   "execution_count": 30,
   "metadata": {},
   "outputs": [
    {
     "data": {
      "text/plain": [
       "<Axes: xlabel='SalePrice', ylabel='Count'>"
      ]
     },
     "execution_count": 30,
     "metadata": {},
     "output_type": "execute_result"
    },
    {
     "data": {
      "image/png": "[encoded data removed]",
      "text/plain": [
       "<Figure size 640x480 with 1 Axes>"
      ]
     },
     "metadata": {},
     "output_type": "display_data"
    }
   ],
   "source": [
    "df['SalePrice'] = np.log1p(df['SalePrice'])\n",
    "sns.histplot(df['SalePrice'], kde=True)"
   ]
  },
  {
   "cell_type": "markdown",
   "metadata": {},
   "source": [
    "We can see from the heatmap that GarageArea and HouseTotalSqFt we can due to the highcorrelation"
   ]
  },
  {
   "cell_type": "code",
   "execution_count": 31,
   "metadata": {},
   "outputs": [
    {
     "data": {
      "text/plain": [
       "MSZoning         object\n",
       "Street           object\n",
       "LotShape         object\n",
       "LandContour      object\n",
       "Utilities        object\n",
       "LotConfig        object\n",
       "LandSlope        object\n",
       "Neighborhood     object\n",
       "Condition1       object\n",
       "Condition2       object\n",
       "BldgType         object\n",
       "HouseStyle       object\n",
       "RoofStyle        object\n",
       "RoofMatl         object\n",
       "Exterior1st      object\n",
       "Exterior2nd      object\n",
       "MasVnrType       object\n",
       "ExterQual        object\n",
       "ExterCond        object\n",
       "Foundation       object\n",
       "BsmtQual         object\n",
       "BsmtCond         object\n",
       "BsmtExposure     object\n",
       "BsmtFinType1     object\n",
       "Heating          object\n",
       "HeatingQC        object\n",
       "CentralAir       object\n",
       "Electrical       object\n",
       "KitchenQual      object\n",
       "Functional       object\n",
       "FireplaceQu      object\n",
       "GarageType       object\n",
       "GarageFinish     object\n",
       "GarageQual       object\n",
       "PavedDrive       object\n",
       "SaleType         object\n",
       "SaleCondition    object\n",
       "dtype: object"
      ]
     },
     "execution_count": 31,
     "metadata": {},
     "output_type": "execute_result"
    }
   ],
   "source": [
    "df.dtypes[df.dtypes == 'object']"
   ]
  },
  {
   "cell_type": "code",
   "execution_count": 32,
   "metadata": {},
   "outputs": [
    {
     "data": {
      "text/plain": [
       "MSSubClass            int64\n",
       "LotFrontage         float64\n",
       "LotArea               int64\n",
       "OverallQual           int64\n",
       "OverallCond           int64\n",
       "MasVnrArea          float64\n",
       "BsmtUnfSF             int64\n",
       "LowQualFinSF          int64\n",
       "BedroomAbvGr          int64\n",
       "KitchenAbvGr          int64\n",
       "TotRmsAbvGrd          int64\n",
       "Fireplaces            int64\n",
       "GarageCars            int64\n",
       "PoolArea              int64\n",
       "MiscVal               int64\n",
       "MoSold                int64\n",
       "SalePrice           float64\n",
       "AgeOfHouse            int64\n",
       "HouseReamodelAge      int64\n",
       "HouseTotalSqFt        int64\n",
       "TotalHouseArea        int64\n",
       "TotalNumBaths       float64\n",
       "TotalPorchArea        int64\n",
       "dtype: object"
      ]
     },
     "execution_count": 32,
     "metadata": {},
     "output_type": "execute_result"
    }
   ],
   "source": [
    "df.dtypes[df.dtypes != 'object']"
   ]
  },
  {
   "cell_type": "markdown",
   "metadata": {},
   "source": [
    "### Encoding Categorical Features\n",
    "\n",
    "When preparing categorical data for machine learning models, it is crucial to select the appropriate encoding method to ensure the model interprets the features correctly for features with object types. Below is an explanation of the two primary encoding methods used and how I divided the features to prepare it for the models, as derived from analyzing the `data_description.txt` file:\n",
    "\n",
    "- **OrdinalEncoder**:\n",
    "  - Used for categorical features with a clear order or ranking (e.g., quality ratings like `Poor`, `Average`, `Good`), which is seen with features such as `LandSlope`, `BsmtQual`, `HeatingQC`, etc.\n",
    "\n",
    "- **OneHotEncoder**:\n",
    "  - Used for categorical features without a natural order (e.g., neighborhood names or product types), such as `Street`, `Neighborhood`, and `SaleType`.\n"
   ]
  },
  {
   "cell_type": "code",
   "execution_count": 33,
   "metadata": {},
   "outputs": [],
   "source": [
    "ordinal_Encoding_features =  ['LotShape', 'LandContour','Utilities','LandSlope',  'BsmtQual',  'BsmtFinType1',  'CentralAir',  'Functional', \\\n",
    "           'FireplaceQu', 'GarageFinish', 'GarageQual', 'PavedDrive', 'ExterCond', 'KitchenQual', 'BsmtExposure', 'HeatingQC','ExterQual', 'BsmtCond']\n",
    "\n"
   ]
  },
  {
   "cell_type": "code",
   "execution_count": 34,
   "metadata": {},
   "outputs": [],
   "source": [
    "one_hot_Encoding_feature = ['Street', 'LotConfig','Neighborhood', 'Condition1', 'Condition2', 'BldgType', 'HouseStyle', 'RoofStyle', 'Exterior1st', 'Exterior2nd', \\\n",
    "           'MasVnrType','Foundation',  'Electrical',  'SaleType', 'MSZoning', 'SaleCondition', 'Heating', 'GarageType', 'RoofMatl']"
   ]
  },
  {
   "cell_type": "markdown",
   "metadata": {},
   "source": [
    "We will now create a pipeline to preprocess the data for each type of feature and then combine them into a single pipeline"
   ]
  },
  {
   "cell_type": "markdown",
   "metadata": {},
   "source": [
    "## Preprocessing Pipelines for Data Preparation\n",
    "\n",
    "This section documents the preprocessing pipelines used to prepare the data for modeling. The pipelines handle imputation, scaling, and encoding based on the type of data: numerical, ordinal categorical, and nominal categorical. These pipelines ensure that the data is clean, standardized, and properly encoded for downstream machine learning models.\n"
   ]
  },
  {
   "cell_type": "code",
   "execution_count": 35,
   "metadata": {},
   "outputs": [],
   "source": [
    "numeric_columns = df.select_dtypes(include=['int64', 'float64']).columns\n",
    "numeric_columns = numeric_columns.drop('SalePrice')"
   ]
  },
  {
   "cell_type": "code",
   "execution_count": 36,
   "metadata": {},
   "outputs": [],
   "source": [
    "numeric_columns_pipeline = Pipeline(steps=[\n",
    "    ('impute', SimpleImputer(strategy='mean')),\n",
    "    ('scaler', StandardScaler())\n",
    "]) "
   ]
  },
  {
   "cell_type": "code",
   "execution_count": 37,
   "metadata": {},
   "outputs": [],
   "source": [
    "ordinal_Encoding_features_pipeline =Pipeline(steps=[\n",
    "    ('impute', SimpleImputer(strategy='most_frequent')),\n",
    "    ('ode', OrdinalEncoder(handle_unknown='use_encoded_value', unknown_value=-1))\n",
    "])"
   ]
  },
  {
   "cell_type": "code",
   "execution_count": 38,
   "metadata": {},
   "outputs": [],
   "source": [
    "one_hot_Encoding_feature_pipeline =  Pipeline(steps=[\n",
    "    ('impute', SimpleImputer(strategy='most_frequent')),\n",
    "    ('ohe', OneHotEncoder(handle_unknown='ignore', sparse_output=False))\n",
    "])"
   ]
  },
  {
   "cell_type": "code",
   "execution_count": 39,
   "metadata": {},
   "outputs": [],
   "source": [
    "columns_transformer = ColumnTransformer(transformers = [\n",
    "    ('numeric_pipline', numeric_columns_pipeline, numeric_columns),\n",
    "    ('ordinal_pipeline', ordinal_Encoding_features_pipeline, ordinal_Encoding_features), \n",
    "    ('one_hot_pipeline', one_hot_Encoding_feature_pipeline, one_hot_Encoding_feature)],\n",
    "    remainder='passthrough', \n",
    "    n_jobs=-1)"
   ]
  },
  {
   "cell_type": "code",
   "execution_count": 40,
   "metadata": {},
   "outputs": [],
   "source": [
    "pipeline = Pipeline(steps=[\n",
    "    ('preprocessing', columns_transformer)\n",
    "])"
   ]
  },
  {
   "cell_type": "code",
   "execution_count": 41,
   "metadata": {},
   "outputs": [],
   "source": [
    "X = df.drop('SalePrice', axis=1)\n",
    "y = df['SalePrice']"
   ]
  },
  {
   "cell_type": "code",
   "execution_count": 42,
   "metadata": {},
   "outputs": [],
   "source": [
    "X_preprocessed  = pipeline.fit_transform(X)"
   ]
  },
  {
   "cell_type": "code",
   "execution_count": 62,
   "metadata": {},
   "outputs": [
    {
     "data": {
      "text/plain": [
       "numpy.ndarray"
      ]
     },
     "execution_count": 62,
     "metadata": {},
     "output_type": "execute_result"
    }
   ],
   "source": [
    "type(X_preprocessed)"
   ]
  },
  {
   "cell_type": "code",
   "execution_count": 63,
   "metadata": {},
   "outputs": [],
   "source": [
    "X_train, X_test, y_train, y_test = train_test_split(X_preprocessed, y, test_size=0.2, random_state=25)"
   ]
  },
  {
   "cell_type": "code",
   "execution_count": 64,
   "metadata": {},
   "outputs": [
    {
     "data": {
      "text/plain": [
       "array([[-0.15907295,  0.09266706,  0.15376934, ...,  0.        ,\n",
       "         0.        ,  0.        ],\n",
       "       [ 0.07887505, -1.73485105, -0.22152654, ...,  0.        ,\n",
       "         0.        ,  0.        ],\n",
       "       [-0.27804695,  0.03174979, -0.67356621, ...,  0.        ,\n",
       "         0.        ,  0.        ],\n",
       "       ...,\n",
       "       [-0.87291695,  0.45817069,  0.3495596 , ...,  0.        ,\n",
       "         0.        ,  0.        ],\n",
       "       [ 0.07887505,  0.88459158,  0.07515374, ...,  0.        ,\n",
       "         0.        ,  0.        ],\n",
       "       [-0.15907295,  2.46844061,  1.50708064, ...,  0.        ,\n",
       "         0.        ,  0.        ]])"
      ]
     },
     "execution_count": 64,
     "metadata": {},
     "output_type": "execute_result"
    }
   ],
   "source": [
    "X_train"
   ]
  },
  {
   "cell_type": "code",
   "execution_count": 65,
   "metadata": {},
   "outputs": [
    {
     "data": {
      "text/plain": [
       "0       12.247699\n",
       "1       12.109016\n",
       "2       12.317171\n",
       "3       11.849405\n",
       "4       12.429220\n",
       "          ...    \n",
       "1434    12.072547\n",
       "1435    12.254868\n",
       "1436    12.493133\n",
       "1437    11.864469\n",
       "1438    11.901590\n",
       "Name: SalePrice, Length: 1151, dtype: float64"
      ]
     },
     "execution_count": 65,
     "metadata": {},
     "output_type": "execute_result"
    }
   ],
   "source": [
    "y_train_sorted = y_train.sort_index()\n",
    "y_train_sorted"
   ]
  },
  {
   "cell_type": "code",
   "execution_count": 66,
   "metadata": {},
   "outputs": [
    {
     "data": {
      "text/plain": [
       "(1151,)"
      ]
     },
     "execution_count": 66,
     "metadata": {},
     "output_type": "execute_result"
    }
   ],
   "source": [
    "y_train.shape"
   ]
  },
  {
   "cell_type": "code",
   "execution_count": 67,
   "metadata": {},
   "outputs": [],
   "source": [
    "linearRegression  = LinearRegression()"
   ]
  },
  {
   "cell_type": "code",
   "execution_count": 68,
   "metadata": {},
   "outputs": [
    {
     "data": {
      "text/html": [
       "<style>#sk-container-id-2 {color: black;}#sk-container-id-2 pre{padding: 0;}#sk-container-id-2 div.sk-toggleable {background-color: white;}#sk-container-id-2 label.sk-toggleable__label {cursor: pointer;display: block;width: 100%;margin-bottom: 0;padding: 0.3em;box-sizing: border-box;text-align: center;}#sk-container-id-2 label.sk-toggleable__label-arrow:before {content: \"▸\";float: left;margin-right: 0.25em;color: #696969;}#sk-container-id-2 label.sk-toggleable__label-arrow:hover:before {color: black;}#sk-container-id-2 div.sk-estimator:hover label.sk-toggleable__label-arrow:before {color: black;}#sk-container-id-2 div.sk-toggleable__content {max-height: 0;max-width: 0;overflow: hidden;text-align: left;background-color: #f0f8ff;}#sk-container-id-2 div.sk-toggleable__content pre {margin: 0.2em;color: black;border-radius: 0.25em;background-color: #f0f8ff;}#sk-container-id-2 input.sk-toggleable__control:checked~div.sk-toggleable__content {max-height: 200px;max-width: 100%;overflow: auto;}#sk-container-id-2 input.sk-toggleable__control:checked~label.sk-toggleable__label-arrow:before {content: \"▾\";}#sk-container-id-2 div.sk-estimator input.sk-toggleable__control:checked~label.sk-toggleable__label {background-color: #d4ebff;}#sk-container-id-2 div.sk-label input.sk-toggleable__control:checked~label.sk-toggleable__label {background-color: #d4ebff;}#sk-container-id-2 input.sk-hidden--visually {border: 0;clip: rect(1px 1px 1px 1px);clip: rect(1px, 1px, 1px, 1px);height: 1px;margin: -1px;overflow: hidden;padding: 0;position: absolute;width: 1px;}#sk-container-id-2 div.sk-estimator {font-family: monospace;background-color: #f0f8ff;border: 1px dotted black;border-radius: 0.25em;box-sizing: border-box;margin-bottom: 0.5em;}#sk-container-id-2 div.sk-estimator:hover {background-color: #d4ebff;}#sk-container-id-2 div.sk-parallel-item::after {content: \"\";width: 100%;border-bottom: 1px solid gray;flex-grow: 1;}#sk-container-id-2 div.sk-label:hover label.sk-toggleable__label {background-color: #d4ebff;}#sk-container-id-2 div.sk-serial::before {content: \"\";position: absolute;border-left: 1px solid gray;box-sizing: border-box;top: 0;bottom: 0;left: 50%;z-index: 0;}#sk-container-id-2 div.sk-serial {display: flex;flex-direction: column;align-items: center;background-color: white;padding-right: 0.2em;padding-left: 0.2em;position: relative;}#sk-container-id-2 div.sk-item {position: relative;z-index: 1;}#sk-container-id-2 div.sk-parallel {display: flex;align-items: stretch;justify-content: center;background-color: white;position: relative;}#sk-container-id-2 div.sk-item::before, #sk-container-id-2 div.sk-parallel-item::before {content: \"\";position: absolute;border-left: 1px solid gray;box-sizing: border-box;top: 0;bottom: 0;left: 50%;z-index: -1;}#sk-container-id-2 div.sk-parallel-item {display: flex;flex-direction: column;z-index: 1;position: relative;background-color: white;}#sk-container-id-2 div.sk-parallel-item:first-child::after {align-self: flex-end;width: 50%;}#sk-container-id-2 div.sk-parallel-item:last-child::after {align-self: flex-start;width: 50%;}#sk-container-id-2 div.sk-parallel-item:only-child::after {width: 0;}#sk-container-id-2 div.sk-dashed-wrapped {border: 1px dashed gray;margin: 0 0.4em 0.5em 0.4em;box-sizing: border-box;padding-bottom: 0.4em;background-color: white;}#sk-container-id-2 div.sk-label label {font-family: monospace;font-weight: bold;display: inline-block;line-height: 1.2em;}#sk-container-id-2 div.sk-label-container {text-align: center;}#sk-container-id-2 div.sk-container {/* jupyter's `normalize.less` sets `[hidden] { display: none; }` but bootstrap.min.css set `[hidden] { display: none !important; }` so we also need the `!important` here to be able to override the default hidden behavior on the sphinx rendered scikit-learn.org. See: https://github.com/scikit-learn/scikit-learn/issues/21755 */display: inline-block !important;position: relative;}#sk-container-id-2 div.sk-text-repr-fallback {display: none;}</style><div id=\"sk-container-id-2\" class=\"sk-top-container\"><div class=\"sk-text-repr-fallback\"><pre>LinearRegression()</pre><b>In a Jupyter environment, please rerun this cell to show the HTML representation or trust the notebook. <br />On GitHub, the HTML representation is unable to render, please try loading this page with nbviewer.org.</b></div><div class=\"sk-container\" hidden><div class=\"sk-item\"><div class=\"sk-estimator sk-toggleable\"><input class=\"sk-toggleable__control sk-hidden--visually\" id=\"sk-estimator-id-2\" type=\"checkbox\" checked><label for=\"sk-estimator-id-2\" class=\"sk-toggleable__label sk-toggleable__label-arrow\">LinearRegression</label><div class=\"sk-toggleable__content\"><pre>LinearRegression()</pre></div></div></div></div></div>"
      ],
      "text/plain": [
       "LinearRegression()"
      ]
     },
     "execution_count": 68,
     "metadata": {},
     "output_type": "execute_result"
    }
   ],
   "source": [
    "linearRegression.fit(X_train, y_train)"
   ]
  },
  {
   "cell_type": "code",
   "execution_count": 50,
   "metadata": {},
   "outputs": [],
   "source": [
    "y_pred_lr = linearRegression.predict(X_test)"
   ]
  },
  {
   "cell_type": "code",
   "execution_count": null,
   "metadata": {},
   "outputs": [],
   "source": [
    "y_pred_lr = linearRegression.predict(X_train)"
   ]
  },
  {
   "cell_type": "code",
   "execution_count": null,
   "metadata": {
    "vscode": {
     "languageId": "r"
    }
   },
   "outputs": [],
   "source": [
    "import matplotlib.pyplot as plt\n",
    "\n",
    "# Scatter plot for actual and predicted values\n",
    "plt.figure(figsize=(8, 6))\n",
    "\n",
    "# Plot actual values\n",
    "plt.scatter(X_train, y_train, color='blue', alpha=0.6, label='Actual Values (y_train)')\n",
    "\n",
    "# Plot predicted values\n",
    "plt.scatter(X_train, y_pred_lr, color='red', alpha=0.6, label='Predicted Values (y_pred_lr)')\n",
    "\n",
    "# Add labels and title\n",
    "plt.xlabel('X_train')\n",
    "plt.ylabel('Values')\n",
    "plt.title('X_train vs. Actual and Predicted Values')\n",
    "plt.legend()\n",
    "plt.show()\n"
   ]
  },
  {
   "cell_type": "code",
   "execution_count": 51,
   "metadata": {},
   "outputs": [
    {
     "data": {
      "text/plain": [
       "array([ 1.24886322e+01,  1.19080200e+01,  1.21487885e+01,  1.18915863e+01,\n",
       "        1.23229828e+01,  1.23582306e+01, -3.28790115e+09,  1.13754425e+01,\n",
       "        1.27038116e+01,  1.19435272e+01,  1.18007965e+01,  1.14253998e+01,\n",
       "        1.19017792e+01,  1.17645721e+01,  1.19552460e+01,  1.22141724e+01,\n",
       "        1.21609344e+01,  1.18103485e+01,  1.15004120e+01,  3.34720068e+10,\n",
       "        1.20374451e+01,  1.17571869e+01, -8.12010665e+09,  1.24426422e+01,\n",
       "        1.20736389e+01,  1.21989441e+01,  1.24850922e+01,  1.21196442e+01,\n",
       "        1.21550751e+01,  1.18554688e+01,  1.14809418e+01,  1.17871704e+01,\n",
       "        1.14653473e+01,  1.23155670e+01,  1.23718414e+01,  1.14379425e+01,\n",
       "        1.25137787e+01,  1.23025360e+01,  1.19145355e+01,  1.16707306e+01,\n",
       "        1.27352448e+01,  1.15916290e+01,  1.23349609e+01,  1.24297638e+01,\n",
       "        1.20923004e+01,  1.22670441e+01,  1.21441956e+01,  1.12644196e+01,\n",
       "        1.18625031e+01,  1.24746704e+01,  1.22234039e+01,  1.18545990e+01,\n",
       "        1.21809082e+01,  1.12499542e+01,  1.19670258e+01,  1.19892731e+01,\n",
       "        1.24318542e+01,  1.21183929e+01,  1.19736481e+01,  1.26696320e+01,\n",
       "        1.20372772e+01,  1.19051056e+01,  1.18365631e+01,  1.23634491e+01,\n",
       "        1.21211090e+01,  1.11178436e+01,  1.23791504e+01,  1.29199371e+01,\n",
       "        1.20534821e+01,  1.19811554e+01,  1.23144226e+01,  1.21090240e+01,\n",
       "        1.14465027e+01,  1.24624786e+01,  1.18129425e+01,  1.25504761e+01,\n",
       "        1.24055023e+01,  1.18711395e+01,  1.18599396e+01,  1.18615875e+01,\n",
       "        1.25856476e+01,  1.21889648e+01,  1.21095581e+01,  1.15706940e+01,\n",
       "        1.18025055e+01,  1.18346710e+01,  1.20796051e+01,  1.22544403e+01,\n",
       "        1.14699860e+01,  1.14757843e+01,  1.18227692e+01,  1.16413116e+01,\n",
       "        1.14445953e+01,  1.18661652e+01,  1.22738037e+01, -4.97239281e+09,\n",
       "        1.22460175e+01,  1.23857269e+01,  1.22069855e+01,  1.25743561e+01,\n",
       "        1.20799103e+01,  1.19205475e+01,  1.20172577e+01,  1.21384735e+01,\n",
       "        1.20198517e+01,  1.18134308e+01,  1.19109955e+01,  1.19064178e+01,\n",
       "        1.17627716e+01,  1.22116241e+01,  1.24920502e+01,  1.23668060e+01,\n",
       "        1.26658478e+01,  1.20207977e+01,  1.21708527e+01,  1.12048492e+01,\n",
       "        1.30227203e+01,  1.17023468e+01,  1.20009918e+01,  1.22502441e+01,\n",
       "        1.16687775e+01,  1.20261993e+01,  1.16253815e+01,  1.18170929e+01,\n",
       "        1.23375092e+01,  1.15744781e+01,  1.13660889e+01,  1.24010773e+01,\n",
       "        1.20939789e+01,  1.17313995e+01,  1.18279266e+01,  1.19739380e+01,\n",
       "        1.24236603e+01,  1.14652252e+01,  1.23697357e+01,  1.20824585e+01,\n",
       "        1.19404602e+01,  1.27994537e+01,  1.16089630e+01,  1.18191071e+01,\n",
       "        1.19655609e+01,  1.14858551e+01,  1.16690216e+01,  1.18749542e+01,\n",
       "        1.20290222e+01,  1.24361725e+01,  1.22623901e+01,  1.16231232e+01,\n",
       "        1.21488037e+01,  1.16663666e+01,  1.17326508e+01,  1.15515900e+01,\n",
       "        1.17074127e+01,  1.17489777e+01,  1.16567535e+01,  1.21914978e+01,\n",
       "        1.16866913e+01,  1.26743011e+01,  1.19691315e+01,  1.22188568e+01,\n",
       "        1.31117706e+01,  1.21766968e+01,  1.23694305e+01,  1.21624298e+01,\n",
       "        1.18165436e+01,  1.05696259e+01,  1.24860687e+01,  1.18853302e+01,\n",
       "        1.18655548e+01,  1.24110260e+01,  1.16513519e+01,  1.27925720e+01,\n",
       "        1.21350708e+01,  1.23613281e+01,  1.17440338e+01,  1.12600250e+01,\n",
       "        1.18433990e+01,  1.18661652e+01,  1.27909393e+01,  1.20255890e+01,\n",
       "        1.18909454e+01,  1.23198395e+01,  1.21150055e+01,  1.19096527e+01,\n",
       "        1.19307709e+01,  1.19046173e+01,  1.23751373e+01,  1.22703094e+01,\n",
       "        1.22101593e+01,  1.19990997e+01,  1.19229126e+01,  1.16336823e+01,\n",
       "        1.16010590e+01,  1.18767090e+01,  1.19217072e+01,  1.18711700e+01,\n",
       "        1.16172943e+01,  1.21762085e+01,  1.19730988e+01,  1.19541168e+01,\n",
       "        1.20009003e+01,  1.16580353e+01,  1.20121613e+01,  1.16876984e+01,\n",
       "        1.15067902e+01,  1.29338531e+01,  1.15486298e+01,  1.25404816e+01,\n",
       "        1.18336639e+01,  1.20734100e+01,  1.22125397e+01,  1.20203705e+01,\n",
       "        1.28384857e+01,  1.17899628e+01,  1.24072876e+01,  1.20143585e+01,\n",
       "        1.20910034e+01,  1.23505402e+01,  5.00155668e+09,  1.18300629e+01,\n",
       "        1.18450470e+01,  1.18326263e+01,  1.22344208e+01,  1.17947388e+01,\n",
       "        1.16241608e+01,  1.08730011e+01,  1.24100800e+01,  1.15968781e+01,\n",
       "        1.17694855e+01,  1.18501434e+01,  1.21154022e+01,  1.20672455e+01,\n",
       "        1.21104889e+01,  1.26493073e+01,  1.18908844e+01,  1.20866089e+01,\n",
       "        1.16820221e+01,  1.20394440e+01,  1.26315918e+01,  1.16657562e+01,\n",
       "        1.17119904e+01,  1.20205231e+01,  1.22332306e+01,  1.25162659e+01,\n",
       "        1.20978241e+01,  1.29687653e+01,  1.18319550e+01,  1.19152374e+01,\n",
       "        1.18712311e+01,  1.17635498e+01,  1.29759674e+01,  1.20245514e+01,\n",
       "        1.22134094e+01,  1.22406769e+01,  1.24196777e+01,  1.21328583e+01,\n",
       "        1.17096710e+01,  1.26259918e+01,  1.18845367e+01,  1.21064911e+01,\n",
       "        1.15335236e+01,  1.15861511e+01,  1.24410706e+01,  1.19590607e+01,\n",
       "        1.24265289e+01,  1.23813019e+01,  1.13282623e+01,  1.17917328e+01,\n",
       "        1.16688232e+01,  1.21971741e+01,  1.18984528e+01,  1.12659760e+01,\n",
       "        1.17354279e+01,  1.17431793e+01,  1.24498291e+01,  1.20639801e+01,\n",
       "        1.17648468e+01,  1.14894562e+01,  1.18332214e+01,  1.21627960e+01,\n",
       "        1.20263824e+01,  1.26460724e+01,  1.14043121e+01,  1.23646393e+01,\n",
       "        1.22032928e+01,  1.20888824e+01,  1.19206696e+01,  1.21202087e+01])"
      ]
     },
     "execution_count": 51,
     "metadata": {},
     "output_type": "execute_result"
    }
   ],
   "source": [
    "y_pred_lr"
   ]
  },
  {
   "cell_type": "code",
   "execution_count": 59,
   "metadata": {},
   "outputs": [
    {
     "data": {
      "text/plain": [
       "543     12.450982\n",
       "123     11.944065\n",
       "1262    12.100718\n",
       "270     11.842236\n",
       "775     12.141539\n",
       "          ...    \n",
       "1333    12.367345\n",
       "446     12.254868\n",
       "683     12.078245\n",
       "1204    11.834291\n",
       "1339    12.149508\n",
       "Name: SalePrice, Length: 288, dtype: float64"
      ]
     },
     "execution_count": 59,
     "metadata": {},
     "output_type": "execute_result"
    }
   ],
   "source": [
    "y_test"
   ]
  },
  {
   "cell_type": "code",
   "execution_count": 60,
   "metadata": {},
   "outputs": [
    {
     "data": {
      "text/plain": [
       "array([ 1.24886322e+01,  1.19080200e+01,  1.21487885e+01,  1.18915863e+01,\n",
       "        1.23229828e+01,  1.23582306e+01, -3.28790115e+09,  1.13754425e+01,\n",
       "        1.27038116e+01,  1.19435272e+01,  1.18007965e+01,  1.14253998e+01,\n",
       "        1.19017792e+01,  1.17645721e+01,  1.19552460e+01,  1.22141724e+01,\n",
       "        1.21609344e+01,  1.18103485e+01,  1.15004120e+01,  3.34720068e+10,\n",
       "        1.20374451e+01,  1.17571869e+01, -8.12010665e+09,  1.24426422e+01,\n",
       "        1.20736389e+01,  1.21989441e+01,  1.24850922e+01,  1.21196442e+01,\n",
       "        1.21550751e+01,  1.18554688e+01,  1.14809418e+01,  1.17871704e+01,\n",
       "        1.14653473e+01,  1.23155670e+01,  1.23718414e+01,  1.14379425e+01,\n",
       "        1.25137787e+01,  1.23025360e+01,  1.19145355e+01,  1.16707306e+01,\n",
       "        1.27352448e+01,  1.15916290e+01,  1.23349609e+01,  1.24297638e+01,\n",
       "        1.20923004e+01,  1.22670441e+01,  1.21441956e+01,  1.12644196e+01,\n",
       "        1.18625031e+01,  1.24746704e+01,  1.22234039e+01,  1.18545990e+01,\n",
       "        1.21809082e+01,  1.12499542e+01,  1.19670258e+01,  1.19892731e+01,\n",
       "        1.24318542e+01,  1.21183929e+01,  1.19736481e+01,  1.26696320e+01,\n",
       "        1.20372772e+01,  1.19051056e+01,  1.18365631e+01,  1.23634491e+01,\n",
       "        1.21211090e+01,  1.11178436e+01,  1.23791504e+01,  1.29199371e+01,\n",
       "        1.20534821e+01,  1.19811554e+01,  1.23144226e+01,  1.21090240e+01,\n",
       "        1.14465027e+01,  1.24624786e+01,  1.18129425e+01,  1.25504761e+01,\n",
       "        1.24055023e+01,  1.18711395e+01,  1.18599396e+01,  1.18615875e+01,\n",
       "        1.25856476e+01,  1.21889648e+01,  1.21095581e+01,  1.15706940e+01,\n",
       "        1.18025055e+01,  1.18346710e+01,  1.20796051e+01,  1.22544403e+01,\n",
       "        1.14699860e+01,  1.14757843e+01,  1.18227692e+01,  1.16413116e+01,\n",
       "        1.14445953e+01,  1.18661652e+01,  1.22738037e+01, -4.97239281e+09,\n",
       "        1.22460175e+01,  1.23857269e+01,  1.22069855e+01,  1.25743561e+01,\n",
       "        1.20799103e+01,  1.19205475e+01,  1.20172577e+01,  1.21384735e+01,\n",
       "        1.20198517e+01,  1.18134308e+01,  1.19109955e+01,  1.19064178e+01,\n",
       "        1.17627716e+01,  1.22116241e+01,  1.24920502e+01,  1.23668060e+01,\n",
       "        1.26658478e+01,  1.20207977e+01,  1.21708527e+01,  1.12048492e+01,\n",
       "        1.30227203e+01,  1.17023468e+01,  1.20009918e+01,  1.22502441e+01,\n",
       "        1.16687775e+01,  1.20261993e+01,  1.16253815e+01,  1.18170929e+01,\n",
       "        1.23375092e+01,  1.15744781e+01,  1.13660889e+01,  1.24010773e+01,\n",
       "        1.20939789e+01,  1.17313995e+01,  1.18279266e+01,  1.19739380e+01,\n",
       "        1.24236603e+01,  1.14652252e+01,  1.23697357e+01,  1.20824585e+01,\n",
       "        1.19404602e+01,  1.27994537e+01,  1.16089630e+01,  1.18191071e+01,\n",
       "        1.19655609e+01,  1.14858551e+01,  1.16690216e+01,  1.18749542e+01,\n",
       "        1.20290222e+01,  1.24361725e+01,  1.22623901e+01,  1.16231232e+01,\n",
       "        1.21488037e+01,  1.16663666e+01,  1.17326508e+01,  1.15515900e+01,\n",
       "        1.17074127e+01,  1.17489777e+01,  1.16567535e+01,  1.21914978e+01,\n",
       "        1.16866913e+01,  1.26743011e+01,  1.19691315e+01,  1.22188568e+01,\n",
       "        1.31117706e+01,  1.21766968e+01,  1.23694305e+01,  1.21624298e+01,\n",
       "        1.18165436e+01,  1.05696259e+01,  1.24860687e+01,  1.18853302e+01,\n",
       "        1.18655548e+01,  1.24110260e+01,  1.16513519e+01,  1.27925720e+01,\n",
       "        1.21350708e+01,  1.23613281e+01,  1.17440338e+01,  1.12600250e+01,\n",
       "        1.18433990e+01,  1.18661652e+01,  1.27909393e+01,  1.20255890e+01,\n",
       "        1.18909454e+01,  1.23198395e+01,  1.21150055e+01,  1.19096527e+01,\n",
       "        1.19307709e+01,  1.19046173e+01,  1.23751373e+01,  1.22703094e+01,\n",
       "        1.22101593e+01,  1.19990997e+01,  1.19229126e+01,  1.16336823e+01,\n",
       "        1.16010590e+01,  1.18767090e+01,  1.19217072e+01,  1.18711700e+01,\n",
       "        1.16172943e+01,  1.21762085e+01,  1.19730988e+01,  1.19541168e+01,\n",
       "        1.20009003e+01,  1.16580353e+01,  1.20121613e+01,  1.16876984e+01,\n",
       "        1.15067902e+01,  1.29338531e+01,  1.15486298e+01,  1.25404816e+01,\n",
       "        1.18336639e+01,  1.20734100e+01,  1.22125397e+01,  1.20203705e+01,\n",
       "        1.28384857e+01,  1.17899628e+01,  1.24072876e+01,  1.20143585e+01,\n",
       "        1.20910034e+01,  1.23505402e+01,  5.00155668e+09,  1.18300629e+01,\n",
       "        1.18450470e+01,  1.18326263e+01,  1.22344208e+01,  1.17947388e+01,\n",
       "        1.16241608e+01,  1.08730011e+01,  1.24100800e+01,  1.15968781e+01,\n",
       "        1.17694855e+01,  1.18501434e+01,  1.21154022e+01,  1.20672455e+01,\n",
       "        1.21104889e+01,  1.26493073e+01,  1.18908844e+01,  1.20866089e+01,\n",
       "        1.16820221e+01,  1.20394440e+01,  1.26315918e+01,  1.16657562e+01,\n",
       "        1.17119904e+01,  1.20205231e+01,  1.22332306e+01,  1.25162659e+01,\n",
       "        1.20978241e+01,  1.29687653e+01,  1.18319550e+01,  1.19152374e+01,\n",
       "        1.18712311e+01,  1.17635498e+01,  1.29759674e+01,  1.20245514e+01,\n",
       "        1.22134094e+01,  1.22406769e+01,  1.24196777e+01,  1.21328583e+01,\n",
       "        1.17096710e+01,  1.26259918e+01,  1.18845367e+01,  1.21064911e+01,\n",
       "        1.15335236e+01,  1.15861511e+01,  1.24410706e+01,  1.19590607e+01,\n",
       "        1.24265289e+01,  1.23813019e+01,  1.13282623e+01,  1.17917328e+01,\n",
       "        1.16688232e+01,  1.21971741e+01,  1.18984528e+01,  1.12659760e+01,\n",
       "        1.17354279e+01,  1.17431793e+01,  1.24498291e+01,  1.20639801e+01,\n",
       "        1.17648468e+01,  1.14894562e+01,  1.18332214e+01,  1.21627960e+01,\n",
       "        1.20263824e+01,  1.26460724e+01,  1.14043121e+01,  1.23646393e+01,\n",
       "        1.22032928e+01,  1.20888824e+01,  1.19206696e+01,  1.21202087e+01])"
      ]
     },
     "execution_count": 60,
     "metadata": {},
     "output_type": "execute_result"
    }
   ],
   "source": [
    "y_pred_lr"
   ]
  },
  {
   "cell_type": "code",
   "execution_count": 61,
   "metadata": {},
   "outputs": [
    {
     "ename": "ValueError",
     "evalue": "x and y must be the same size",
     "output_type": "error",
     "traceback": [
      "\u001b[1;31m---------------------------------------------------------------------------\u001b[0m",
      "\u001b[1;31mValueError\u001b[0m                                Traceback (most recent call last)",
      "Cell \u001b[1;32mIn[61], line 3\u001b[0m\n\u001b[0;32m      1\u001b[0m \u001b[38;5;66;03m# Scatter plot of actual vs. predicted values\u001b[39;00m\n\u001b[0;32m      2\u001b[0m plt\u001b[38;5;241m.\u001b[39mfigure(figsize\u001b[38;5;241m=\u001b[39m(\u001b[38;5;241m8\u001b[39m, \u001b[38;5;241m6\u001b[39m))\n\u001b[1;32m----> 3\u001b[0m \u001b[43mplt\u001b[49m\u001b[38;5;241;43m.\u001b[39;49m\u001b[43mscatter\u001b[49m\u001b[43m(\u001b[49m\u001b[43my_train\u001b[49m\u001b[43m,\u001b[49m\u001b[43m \u001b[49m\u001b[43my_pred_lr\u001b[49m\u001b[43m,\u001b[49m\u001b[43m \u001b[49m\u001b[43mcolor\u001b[49m\u001b[38;5;241;43m=\u001b[39;49m\u001b[38;5;124;43m'\u001b[39;49m\u001b[38;5;124;43mblue\u001b[39;49m\u001b[38;5;124;43m'\u001b[39;49m\u001b[43m,\u001b[49m\u001b[43m \u001b[49m\u001b[43malpha\u001b[49m\u001b[38;5;241;43m=\u001b[39;49m\u001b[38;5;241;43m0.6\u001b[39;49m\u001b[43m,\u001b[49m\u001b[43m \u001b[49m\u001b[43mlabel\u001b[49m\u001b[38;5;241;43m=\u001b[39;49m\u001b[38;5;124;43m'\u001b[39;49m\u001b[38;5;124;43mPredicted vs. Actual\u001b[39;49m\u001b[38;5;124;43m'\u001b[39;49m\u001b[43m)\u001b[49m\n\u001b[0;32m      4\u001b[0m plt\u001b[38;5;241m.\u001b[39mplot([y_train\u001b[38;5;241m.\u001b[39mmin(), y_train\u001b[38;5;241m.\u001b[39mmax()], [y_train\u001b[38;5;241m.\u001b[39mmin(), y_train\u001b[38;5;241m.\u001b[39mmax()], color\u001b[38;5;241m=\u001b[39m\u001b[38;5;124m'\u001b[39m\u001b[38;5;124mred\u001b[39m\u001b[38;5;124m'\u001b[39m, linestyle\u001b[38;5;241m=\u001b[39m\u001b[38;5;124m'\u001b[39m\u001b[38;5;124m--\u001b[39m\u001b[38;5;124m'\u001b[39m, label\u001b[38;5;241m=\u001b[39m\u001b[38;5;124m'\u001b[39m\u001b[38;5;124mIdeal Fit\u001b[39m\u001b[38;5;124m'\u001b[39m)  \u001b[38;5;66;03m# Line y=x\u001b[39;00m\n\u001b[0;32m      5\u001b[0m plt\u001b[38;5;241m.\u001b[39mxlabel(\u001b[38;5;124m'\u001b[39m\u001b[38;5;124mActual Values (y_train)\u001b[39m\u001b[38;5;124m'\u001b[39m)\n",
      "File \u001b[1;32mc:\\Users\\danie\\Machine_Learning_House_Prediction_Project\\venv\\Lib\\site-packages\\matplotlib\\_api\\deprecation.py:453\u001b[0m, in \u001b[0;36mmake_keyword_only.<locals>.wrapper\u001b[1;34m(*args, **kwargs)\u001b[0m\n\u001b[0;32m    447\u001b[0m \u001b[38;5;28;01mif\u001b[39;00m \u001b[38;5;28mlen\u001b[39m(args) \u001b[38;5;241m>\u001b[39m name_idx:\n\u001b[0;32m    448\u001b[0m     warn_deprecated(\n\u001b[0;32m    449\u001b[0m         since, message\u001b[38;5;241m=\u001b[39m\u001b[38;5;124m\"\u001b[39m\u001b[38;5;124mPassing the \u001b[39m\u001b[38;5;132;01m%(name)s\u001b[39;00m\u001b[38;5;124m \u001b[39m\u001b[38;5;132;01m%(obj_type)s\u001b[39;00m\u001b[38;5;124m \u001b[39m\u001b[38;5;124m\"\u001b[39m\n\u001b[0;32m    450\u001b[0m         \u001b[38;5;124m\"\u001b[39m\u001b[38;5;124mpositionally is deprecated since Matplotlib \u001b[39m\u001b[38;5;132;01m%(since)s\u001b[39;00m\u001b[38;5;124m; the \u001b[39m\u001b[38;5;124m\"\u001b[39m\n\u001b[0;32m    451\u001b[0m         \u001b[38;5;124m\"\u001b[39m\u001b[38;5;124mparameter will become keyword-only in \u001b[39m\u001b[38;5;132;01m%(removal)s\u001b[39;00m\u001b[38;5;124m.\u001b[39m\u001b[38;5;124m\"\u001b[39m,\n\u001b[0;32m    452\u001b[0m         name\u001b[38;5;241m=\u001b[39mname, obj_type\u001b[38;5;241m=\u001b[39m\u001b[38;5;124mf\u001b[39m\u001b[38;5;124m\"\u001b[39m\u001b[38;5;124mparameter of \u001b[39m\u001b[38;5;132;01m{\u001b[39;00mfunc\u001b[38;5;241m.\u001b[39m\u001b[38;5;18m__name__\u001b[39m\u001b[38;5;132;01m}\u001b[39;00m\u001b[38;5;124m()\u001b[39m\u001b[38;5;124m\"\u001b[39m)\n\u001b[1;32m--> 453\u001b[0m \u001b[38;5;28;01mreturn\u001b[39;00m \u001b[43mfunc\u001b[49m\u001b[43m(\u001b[49m\u001b[38;5;241;43m*\u001b[39;49m\u001b[43margs\u001b[49m\u001b[43m,\u001b[49m\u001b[43m \u001b[49m\u001b[38;5;241;43m*\u001b[39;49m\u001b[38;5;241;43m*\u001b[39;49m\u001b[43mkwargs\u001b[49m\u001b[43m)\u001b[49m\n",
      "File \u001b[1;32mc:\\Users\\danie\\Machine_Learning_House_Prediction_Project\\venv\\Lib\\site-packages\\matplotlib\\pyplot.py:3939\u001b[0m, in \u001b[0;36mscatter\u001b[1;34m(x, y, s, c, marker, cmap, norm, vmin, vmax, alpha, linewidths, edgecolors, colorizer, plotnonfinite, data, **kwargs)\u001b[0m\n\u001b[0;32m   3919\u001b[0m \u001b[38;5;129m@_copy_docstring_and_deprecators\u001b[39m(Axes\u001b[38;5;241m.\u001b[39mscatter)\n\u001b[0;32m   3920\u001b[0m \u001b[38;5;28;01mdef\u001b[39;00m\u001b[38;5;250m \u001b[39m\u001b[38;5;21mscatter\u001b[39m(\n\u001b[0;32m   3921\u001b[0m     x: \u001b[38;5;28mfloat\u001b[39m \u001b[38;5;241m|\u001b[39m ArrayLike,\n\u001b[1;32m   (...)\u001b[0m\n\u001b[0;32m   3937\u001b[0m     \u001b[38;5;241m*\u001b[39m\u001b[38;5;241m*\u001b[39mkwargs,\n\u001b[0;32m   3938\u001b[0m ) \u001b[38;5;241m-\u001b[39m\u001b[38;5;241m>\u001b[39m PathCollection:\n\u001b[1;32m-> 3939\u001b[0m     __ret \u001b[38;5;241m=\u001b[39m \u001b[43mgca\u001b[49m\u001b[43m(\u001b[49m\u001b[43m)\u001b[49m\u001b[38;5;241;43m.\u001b[39;49m\u001b[43mscatter\u001b[49m\u001b[43m(\u001b[49m\n\u001b[0;32m   3940\u001b[0m \u001b[43m        \u001b[49m\u001b[43mx\u001b[49m\u001b[43m,\u001b[49m\n\u001b[0;32m   3941\u001b[0m \u001b[43m        \u001b[49m\u001b[43my\u001b[49m\u001b[43m,\u001b[49m\n\u001b[0;32m   3942\u001b[0m \u001b[43m        \u001b[49m\u001b[43ms\u001b[49m\u001b[38;5;241;43m=\u001b[39;49m\u001b[43ms\u001b[49m\u001b[43m,\u001b[49m\n\u001b[0;32m   3943\u001b[0m \u001b[43m        \u001b[49m\u001b[43mc\u001b[49m\u001b[38;5;241;43m=\u001b[39;49m\u001b[43mc\u001b[49m\u001b[43m,\u001b[49m\n\u001b[0;32m   3944\u001b[0m \u001b[43m        \u001b[49m\u001b[43mmarker\u001b[49m\u001b[38;5;241;43m=\u001b[39;49m\u001b[43mmarker\u001b[49m\u001b[43m,\u001b[49m\n\u001b[0;32m   3945\u001b[0m \u001b[43m        \u001b[49m\u001b[43mcmap\u001b[49m\u001b[38;5;241;43m=\u001b[39;49m\u001b[43mcmap\u001b[49m\u001b[43m,\u001b[49m\n\u001b[0;32m   3946\u001b[0m \u001b[43m        \u001b[49m\u001b[43mnorm\u001b[49m\u001b[38;5;241;43m=\u001b[39;49m\u001b[43mnorm\u001b[49m\u001b[43m,\u001b[49m\n\u001b[0;32m   3947\u001b[0m \u001b[43m        \u001b[49m\u001b[43mvmin\u001b[49m\u001b[38;5;241;43m=\u001b[39;49m\u001b[43mvmin\u001b[49m\u001b[43m,\u001b[49m\n\u001b[0;32m   3948\u001b[0m \u001b[43m        \u001b[49m\u001b[43mvmax\u001b[49m\u001b[38;5;241;43m=\u001b[39;49m\u001b[43mvmax\u001b[49m\u001b[43m,\u001b[49m\n\u001b[0;32m   3949\u001b[0m \u001b[43m        \u001b[49m\u001b[43malpha\u001b[49m\u001b[38;5;241;43m=\u001b[39;49m\u001b[43malpha\u001b[49m\u001b[43m,\u001b[49m\n\u001b[0;32m   3950\u001b[0m \u001b[43m        \u001b[49m\u001b[43mlinewidths\u001b[49m\u001b[38;5;241;43m=\u001b[39;49m\u001b[43mlinewidths\u001b[49m\u001b[43m,\u001b[49m\n\u001b[0;32m   3951\u001b[0m \u001b[43m        \u001b[49m\u001b[43medgecolors\u001b[49m\u001b[38;5;241;43m=\u001b[39;49m\u001b[43medgecolors\u001b[49m\u001b[43m,\u001b[49m\n\u001b[0;32m   3952\u001b[0m \u001b[43m        \u001b[49m\u001b[43mcolorizer\u001b[49m\u001b[38;5;241;43m=\u001b[39;49m\u001b[43mcolorizer\u001b[49m\u001b[43m,\u001b[49m\n\u001b[0;32m   3953\u001b[0m \u001b[43m        \u001b[49m\u001b[43mplotnonfinite\u001b[49m\u001b[38;5;241;43m=\u001b[39;49m\u001b[43mplotnonfinite\u001b[49m\u001b[43m,\u001b[49m\n\u001b[0;32m   3954\u001b[0m \u001b[43m        \u001b[49m\u001b[38;5;241;43m*\u001b[39;49m\u001b[38;5;241;43m*\u001b[39;49m\u001b[43m(\u001b[49m\u001b[43m{\u001b[49m\u001b[38;5;124;43m\"\u001b[39;49m\u001b[38;5;124;43mdata\u001b[39;49m\u001b[38;5;124;43m\"\u001b[39;49m\u001b[43m:\u001b[49m\u001b[43m \u001b[49m\u001b[43mdata\u001b[49m\u001b[43m}\u001b[49m\u001b[43m \u001b[49m\u001b[38;5;28;43;01mif\u001b[39;49;00m\u001b[43m \u001b[49m\u001b[43mdata\u001b[49m\u001b[43m \u001b[49m\u001b[38;5;129;43;01mis\u001b[39;49;00m\u001b[43m \u001b[49m\u001b[38;5;129;43;01mnot\u001b[39;49;00m\u001b[43m \u001b[49m\u001b[38;5;28;43;01mNone\u001b[39;49;00m\u001b[43m \u001b[49m\u001b[38;5;28;43;01melse\u001b[39;49;00m\u001b[43m \u001b[49m\u001b[43m{\u001b[49m\u001b[43m}\u001b[49m\u001b[43m)\u001b[49m\u001b[43m,\u001b[49m\n\u001b[0;32m   3955\u001b[0m \u001b[43m        \u001b[49m\u001b[38;5;241;43m*\u001b[39;49m\u001b[38;5;241;43m*\u001b[39;49m\u001b[43mkwargs\u001b[49m\u001b[43m,\u001b[49m\n\u001b[0;32m   3956\u001b[0m \u001b[43m    \u001b[49m\u001b[43m)\u001b[49m\n\u001b[0;32m   3957\u001b[0m     sci(__ret)\n\u001b[0;32m   3958\u001b[0m     \u001b[38;5;28;01mreturn\u001b[39;00m __ret\n",
      "File \u001b[1;32mc:\\Users\\danie\\Machine_Learning_House_Prediction_Project\\venv\\Lib\\site-packages\\matplotlib\\_api\\deprecation.py:453\u001b[0m, in \u001b[0;36mmake_keyword_only.<locals>.wrapper\u001b[1;34m(*args, **kwargs)\u001b[0m\n\u001b[0;32m    447\u001b[0m \u001b[38;5;28;01mif\u001b[39;00m \u001b[38;5;28mlen\u001b[39m(args) \u001b[38;5;241m>\u001b[39m name_idx:\n\u001b[0;32m    448\u001b[0m     warn_deprecated(\n\u001b[0;32m    449\u001b[0m         since, message\u001b[38;5;241m=\u001b[39m\u001b[38;5;124m\"\u001b[39m\u001b[38;5;124mPassing the \u001b[39m\u001b[38;5;132;01m%(name)s\u001b[39;00m\u001b[38;5;124m \u001b[39m\u001b[38;5;132;01m%(obj_type)s\u001b[39;00m\u001b[38;5;124m \u001b[39m\u001b[38;5;124m\"\u001b[39m\n\u001b[0;32m    450\u001b[0m         \u001b[38;5;124m\"\u001b[39m\u001b[38;5;124mpositionally is deprecated since Matplotlib \u001b[39m\u001b[38;5;132;01m%(since)s\u001b[39;00m\u001b[38;5;124m; the \u001b[39m\u001b[38;5;124m\"\u001b[39m\n\u001b[0;32m    451\u001b[0m         \u001b[38;5;124m\"\u001b[39m\u001b[38;5;124mparameter will become keyword-only in \u001b[39m\u001b[38;5;132;01m%(removal)s\u001b[39;00m\u001b[38;5;124m.\u001b[39m\u001b[38;5;124m\"\u001b[39m,\n\u001b[0;32m    452\u001b[0m         name\u001b[38;5;241m=\u001b[39mname, obj_type\u001b[38;5;241m=\u001b[39m\u001b[38;5;124mf\u001b[39m\u001b[38;5;124m\"\u001b[39m\u001b[38;5;124mparameter of \u001b[39m\u001b[38;5;132;01m{\u001b[39;00mfunc\u001b[38;5;241m.\u001b[39m\u001b[38;5;18m__name__\u001b[39m\u001b[38;5;132;01m}\u001b[39;00m\u001b[38;5;124m()\u001b[39m\u001b[38;5;124m\"\u001b[39m)\n\u001b[1;32m--> 453\u001b[0m \u001b[38;5;28;01mreturn\u001b[39;00m \u001b[43mfunc\u001b[49m\u001b[43m(\u001b[49m\u001b[38;5;241;43m*\u001b[39;49m\u001b[43margs\u001b[49m\u001b[43m,\u001b[49m\u001b[43m \u001b[49m\u001b[38;5;241;43m*\u001b[39;49m\u001b[38;5;241;43m*\u001b[39;49m\u001b[43mkwargs\u001b[49m\u001b[43m)\u001b[49m\n",
      "File \u001b[1;32mc:\\Users\\danie\\Machine_Learning_House_Prediction_Project\\venv\\Lib\\site-packages\\matplotlib\\__init__.py:1521\u001b[0m, in \u001b[0;36m_preprocess_data.<locals>.inner\u001b[1;34m(ax, data, *args, **kwargs)\u001b[0m\n\u001b[0;32m   1518\u001b[0m \u001b[38;5;129m@functools\u001b[39m\u001b[38;5;241m.\u001b[39mwraps(func)\n\u001b[0;32m   1519\u001b[0m \u001b[38;5;28;01mdef\u001b[39;00m\u001b[38;5;250m \u001b[39m\u001b[38;5;21minner\u001b[39m(ax, \u001b[38;5;241m*\u001b[39margs, data\u001b[38;5;241m=\u001b[39m\u001b[38;5;28;01mNone\u001b[39;00m, \u001b[38;5;241m*\u001b[39m\u001b[38;5;241m*\u001b[39mkwargs):\n\u001b[0;32m   1520\u001b[0m     \u001b[38;5;28;01mif\u001b[39;00m data \u001b[38;5;129;01mis\u001b[39;00m \u001b[38;5;28;01mNone\u001b[39;00m:\n\u001b[1;32m-> 1521\u001b[0m         \u001b[38;5;28;01mreturn\u001b[39;00m \u001b[43mfunc\u001b[49m\u001b[43m(\u001b[49m\n\u001b[0;32m   1522\u001b[0m \u001b[43m            \u001b[49m\u001b[43max\u001b[49m\u001b[43m,\u001b[49m\n\u001b[0;32m   1523\u001b[0m \u001b[43m            \u001b[49m\u001b[38;5;241;43m*\u001b[39;49m\u001b[38;5;28;43mmap\u001b[39;49m\u001b[43m(\u001b[49m\u001b[43mcbook\u001b[49m\u001b[38;5;241;43m.\u001b[39;49m\u001b[43msanitize_sequence\u001b[49m\u001b[43m,\u001b[49m\u001b[43m \u001b[49m\u001b[43margs\u001b[49m\u001b[43m)\u001b[49m\u001b[43m,\u001b[49m\n\u001b[0;32m   1524\u001b[0m \u001b[43m            \u001b[49m\u001b[38;5;241;43m*\u001b[39;49m\u001b[38;5;241;43m*\u001b[39;49m\u001b[43m{\u001b[49m\u001b[43mk\u001b[49m\u001b[43m:\u001b[49m\u001b[43m \u001b[49m\u001b[43mcbook\u001b[49m\u001b[38;5;241;43m.\u001b[39;49m\u001b[43msanitize_sequence\u001b[49m\u001b[43m(\u001b[49m\u001b[43mv\u001b[49m\u001b[43m)\u001b[49m\u001b[43m \u001b[49m\u001b[38;5;28;43;01mfor\u001b[39;49;00m\u001b[43m \u001b[49m\u001b[43mk\u001b[49m\u001b[43m,\u001b[49m\u001b[43m \u001b[49m\u001b[43mv\u001b[49m\u001b[43m \u001b[49m\u001b[38;5;129;43;01min\u001b[39;49;00m\u001b[43m \u001b[49m\u001b[43mkwargs\u001b[49m\u001b[38;5;241;43m.\u001b[39;49m\u001b[43mitems\u001b[49m\u001b[43m(\u001b[49m\u001b[43m)\u001b[49m\u001b[43m}\u001b[49m\u001b[43m)\u001b[49m\n\u001b[0;32m   1526\u001b[0m     bound \u001b[38;5;241m=\u001b[39m new_sig\u001b[38;5;241m.\u001b[39mbind(ax, \u001b[38;5;241m*\u001b[39margs, \u001b[38;5;241m*\u001b[39m\u001b[38;5;241m*\u001b[39mkwargs)\n\u001b[0;32m   1527\u001b[0m     auto_label \u001b[38;5;241m=\u001b[39m (bound\u001b[38;5;241m.\u001b[39marguments\u001b[38;5;241m.\u001b[39mget(label_namer)\n\u001b[0;32m   1528\u001b[0m                   \u001b[38;5;129;01mor\u001b[39;00m bound\u001b[38;5;241m.\u001b[39mkwargs\u001b[38;5;241m.\u001b[39mget(label_namer))\n",
      "File \u001b[1;32mc:\\Users\\danie\\Machine_Learning_House_Prediction_Project\\venv\\Lib\\site-packages\\matplotlib\\axes\\_axes.py:4900\u001b[0m, in \u001b[0;36mAxes.scatter\u001b[1;34m(self, x, y, s, c, marker, cmap, norm, vmin, vmax, alpha, linewidths, edgecolors, colorizer, plotnonfinite, **kwargs)\u001b[0m\n\u001b[0;32m   4898\u001b[0m y \u001b[38;5;241m=\u001b[39m np\u001b[38;5;241m.\u001b[39mma\u001b[38;5;241m.\u001b[39mravel(y)\n\u001b[0;32m   4899\u001b[0m \u001b[38;5;28;01mif\u001b[39;00m x\u001b[38;5;241m.\u001b[39msize \u001b[38;5;241m!=\u001b[39m y\u001b[38;5;241m.\u001b[39msize:\n\u001b[1;32m-> 4900\u001b[0m     \u001b[38;5;28;01mraise\u001b[39;00m \u001b[38;5;167;01mValueError\u001b[39;00m(\u001b[38;5;124m\"\u001b[39m\u001b[38;5;124mx and y must be the same size\u001b[39m\u001b[38;5;124m\"\u001b[39m)\n\u001b[0;32m   4902\u001b[0m \u001b[38;5;28;01mif\u001b[39;00m s \u001b[38;5;129;01mis\u001b[39;00m \u001b[38;5;28;01mNone\u001b[39;00m:\n\u001b[0;32m   4903\u001b[0m     s \u001b[38;5;241m=\u001b[39m (\u001b[38;5;241m20\u001b[39m \u001b[38;5;28;01mif\u001b[39;00m mpl\u001b[38;5;241m.\u001b[39mrcParams[\u001b[38;5;124m'\u001b[39m\u001b[38;5;124m_internal.classic_mode\u001b[39m\u001b[38;5;124m'\u001b[39m] \u001b[38;5;28;01melse\u001b[39;00m\n\u001b[0;32m   4904\u001b[0m          mpl\u001b[38;5;241m.\u001b[39mrcParams[\u001b[38;5;124m'\u001b[39m\u001b[38;5;124mlines.markersize\u001b[39m\u001b[38;5;124m'\u001b[39m] \u001b[38;5;241m*\u001b[39m\u001b[38;5;241m*\u001b[39m \u001b[38;5;241m2.0\u001b[39m)\n",
      "\u001b[1;31mValueError\u001b[0m: x and y must be the same size"
     ]
    },
    {
     "data": {
      "image/png": "[encoded data removed]",
      "text/plain": [
       "<Figure size 800x600 with 1 Axes>"
      ]
     },
     "metadata": {},
     "output_type": "display_data"
    }
   ],
   "source": []
  },
  {
   "cell_type": "code",
   "execution_count": 58,
   "metadata": {},
   "outputs": [
    {
     "data": {
      "text/plain": [
       "<matplotlib.collections.PathCollection at 0x2427f37e3f0>"
      ]
     },
     "execution_count": 58,
     "metadata": {},
     "output_type": "execute_result"
    },
    {
     "data": {
      "image/png": "[encoded data removed]",
      "text/plain": [
       "<Figure size 640x480 with 1 Axes>"
      ]
     },
     "metadata": {},
     "output_type": "display_data"
    }
   ],
   "source": [
    "plt.scatter(y_test, y_pred_lr)"
   ]
  },
  {
   "cell_type": "code",
   "execution_count": 52,
   "metadata": {},
   "outputs": [
    {
     "name": "stdout",
     "output_type": "stream",
     "text": [
      "Intercept: -101968106236.35551\n",
      "Coefficients: [-1.11197289e-02  1.55278462e-03  2.46251384e-02  5.92490622e-02\n",
      "  4.78782521e-02  7.36976103e-03  1.29194947e+11  1.27003853e+10\n",
      " -3.40923755e-03 -4.91446278e-03  1.78794465e-02  1.75610342e-02\n",
      "  3.48324667e-02  2.23348761e-03 -3.58261972e-04 -4.19320539e-04\n",
      " -5.20528628e-02 -1.26317193e-02  2.03776444e+11 -2.19116262e+11\n",
      "  1.18082867e-02  1.90030411e-02 -2.75363107e-05 -5.81150258e-03\n",
      "  5.00155667e+09  5.30191459e-03 -3.50024493e-03  1.08754438e-05\n",
      "  4.46976565e-02  1.83351559e-02  1.60854683e-03 -3.31405406e-03\n",
      "  7.77318354e-03  1.59530640e-02  1.48773193e-02 -1.31530762e-02\n",
      "  1.43432617e-03 -6.92749023e-03  2.41851807e-03  5.31768799e-03\n",
      " -4.14102141e+10 -4.14102141e+10 -3.32420381e+10 -3.32420381e+10\n",
      " -3.32420381e+10 -3.32420381e+10 -3.32420381e+10  7.75959751e+09\n",
      "  7.75959751e+09  7.75959751e+09  7.75959751e+09  7.75959751e+09\n",
      "  7.75959751e+09  7.75959751e+09  7.75959751e+09  7.75959751e+09\n",
      "  7.75959751e+09  7.75959751e+09  7.75959751e+09  7.75959751e+09\n",
      "  7.75959751e+09  7.75959751e+09  7.75959751e+09  7.75959751e+09\n",
      "  7.75959751e+09  7.75959751e+09  7.75959751e+09  7.75959751e+09\n",
      "  7.75959751e+09  7.75959751e+09  7.75959751e+09  7.75959751e+09\n",
      " -4.47502774e+09 -4.47502774e+09 -4.47502774e+09 -4.47502774e+09\n",
      " -4.47502774e+09 -4.47502774e+09 -4.47502774e+09 -4.47502774e+09\n",
      " -4.47502774e+09  5.48188030e+09  5.48188030e+09  5.48188030e+09\n",
      "  5.48188030e+09  5.09487474e+08  5.48188030e+09  5.48188030e+09\n",
      "  5.48188030e+09  1.32694916e+11  1.32694916e+11  1.32694916e+11\n",
      "  1.32694916e+11  1.32694916e+11 -2.63048922e+10 -2.63048922e+10\n",
      " -2.63048922e+10 -2.63048922e+10 -2.63048922e+10 -2.63048922e+10\n",
      " -2.63048922e+10 -2.63048922e+10 -1.49964214e+10 -1.49964214e+10\n",
      " -1.49964214e+10 -1.49964214e+10 -1.49964214e+10 -1.49964214e+10\n",
      " -3.34721553e+10 -3.34721553e+10 -3.34721553e+10 -3.34721553e+10\n",
      " -1.33452495e+10 -3.34721553e+10 -3.34721553e+10 -1.48540327e+05\n",
      " -3.34721553e+10 -3.34721553e+10 -3.34721553e+10 -3.34721553e+10\n",
      " -3.34721553e+10 -3.34721553e+10 -3.34721553e+10  8.12010996e+09\n",
      "  8.12010996e+09  8.12010996e+09  8.12010996e+09 -1.20067959e+10\n",
      "  8.12010996e+09  8.12010996e+09  8.12010996e+09  8.12010996e+09\n",
      "  3.30197194e+03  8.12010996e+09  8.12010996e+09  8.12010996e+09\n",
      "  8.12010996e+09  8.12010996e+09  8.12010996e+09  3.24782164e+09\n",
      "  3.24782164e+09  3.24782164e+09  1.62744932e+10  1.62744932e+10\n",
      "  1.62744932e+10  1.62744932e+10  1.62744932e+10  1.62744932e+10\n",
      " -1.40583135e+10 -1.40583135e+10 -1.40583135e+10 -1.40583135e+10\n",
      " -1.40583135e+10  1.20923689e+10  1.20923689e+10  1.20923689e+10\n",
      "  1.20923689e+10  1.20923689e+10  1.20923689e+10  1.20923689e+10\n",
      "  1.20923689e+10  1.20923689e+10  5.74472526e+10  5.74472526e+10\n",
      "  5.74472526e+10  5.74472526e+10  5.74472526e+10  1.46951378e+10\n",
      "  1.46951378e+10  1.46951378e+10  1.46951378e+10  1.46951378e+10\n",
      "  1.46951378e+10  1.80131876e+10  1.80131876e+10  1.80131876e+10\n",
      "  1.80131876e+10  1.80131876e+10  1.80131876e+10 -9.18749847e+09\n",
      " -9.18749847e+09 -9.18749847e+09 -9.18749847e+09 -9.18749847e+09\n",
      " -9.18749847e+09 -9.18749847e+09  3.28790116e+09  3.28790116e+09\n",
      "  0.00000000e+00  3.28790116e+09  3.28790116e+09  3.28790116e+09\n",
      "  3.28790116e+09]\n",
      "Train Predictions: [12.01042175 12.34822083 11.59672546 ... 12.74729919 12.55696106\n",
      " 12.28742981]\n",
      "Test Predictions: [ 1.24886322e+01  1.19080200e+01  1.21487885e+01  1.18915863e+01\n",
      "  1.23229828e+01  1.23582306e+01 -3.28790115e+09  1.13754425e+01\n",
      "  1.27038116e+01  1.19435272e+01  1.18007965e+01  1.14253998e+01\n",
      "  1.19017792e+01  1.17645721e+01  1.19552460e+01  1.22141724e+01\n",
      "  1.21609344e+01  1.18103485e+01  1.15004120e+01  3.34720068e+10\n",
      "  1.20374451e+01  1.17571869e+01 -8.12010665e+09  1.24426422e+01\n",
      "  1.20736389e+01  1.21989441e+01  1.24850922e+01  1.21196442e+01\n",
      "  1.21550751e+01  1.18554688e+01  1.14809418e+01  1.17871704e+01\n",
      "  1.14653473e+01  1.23155670e+01  1.23718414e+01  1.14379425e+01\n",
      "  1.25137787e+01  1.23025360e+01  1.19145355e+01  1.16707306e+01\n",
      "  1.27352448e+01  1.15916290e+01  1.23349609e+01  1.24297638e+01\n",
      "  1.20923004e+01  1.22670441e+01  1.21441956e+01  1.12644196e+01\n",
      "  1.18625031e+01  1.24746704e+01  1.22234039e+01  1.18545990e+01\n",
      "  1.21809082e+01  1.12499542e+01  1.19670258e+01  1.19892731e+01\n",
      "  1.24318542e+01  1.21183929e+01  1.19736481e+01  1.26696320e+01\n",
      "  1.20372772e+01  1.19051056e+01  1.18365631e+01  1.23634491e+01\n",
      "  1.21211090e+01  1.11178436e+01  1.23791504e+01  1.29199371e+01\n",
      "  1.20534821e+01  1.19811554e+01  1.23144226e+01  1.21090240e+01\n",
      "  1.14465027e+01  1.24624786e+01  1.18129425e+01  1.25504761e+01\n",
      "  1.24055023e+01  1.18711395e+01  1.18599396e+01  1.18615875e+01\n",
      "  1.25856476e+01  1.21889648e+01  1.21095581e+01  1.15706940e+01\n",
      "  1.18025055e+01  1.18346710e+01  1.20796051e+01  1.22544403e+01\n",
      "  1.14699860e+01  1.14757843e+01  1.18227692e+01  1.16413116e+01\n",
      "  1.14445953e+01  1.18661652e+01  1.22738037e+01 -4.97239281e+09\n",
      "  1.22460175e+01  1.23857269e+01  1.22069855e+01  1.25743561e+01\n",
      "  1.20799103e+01  1.19205475e+01  1.20172577e+01  1.21384735e+01\n",
      "  1.20198517e+01  1.18134308e+01  1.19109955e+01  1.19064178e+01\n",
      "  1.17627716e+01  1.22116241e+01  1.24920502e+01  1.23668060e+01\n",
      "  1.26658478e+01  1.20207977e+01  1.21708527e+01  1.12048492e+01\n",
      "  1.30227203e+01  1.17023468e+01  1.20009918e+01  1.22502441e+01\n",
      "  1.16687775e+01  1.20261993e+01  1.16253815e+01  1.18170929e+01\n",
      "  1.23375092e+01  1.15744781e+01  1.13660889e+01  1.24010773e+01\n",
      "  1.20939789e+01  1.17313995e+01  1.18279266e+01  1.19739380e+01\n",
      "  1.24236603e+01  1.14652252e+01  1.23697357e+01  1.20824585e+01\n",
      "  1.19404602e+01  1.27994537e+01  1.16089630e+01  1.18191071e+01\n",
      "  1.19655609e+01  1.14858551e+01  1.16690216e+01  1.18749542e+01\n",
      "  1.20290222e+01  1.24361725e+01  1.22623901e+01  1.16231232e+01\n",
      "  1.21488037e+01  1.16663666e+01  1.17326508e+01  1.15515900e+01\n",
      "  1.17074127e+01  1.17489777e+01  1.16567535e+01  1.21914978e+01\n",
      "  1.16866913e+01  1.26743011e+01  1.19691315e+01  1.22188568e+01\n",
      "  1.31117706e+01  1.21766968e+01  1.23694305e+01  1.21624298e+01\n",
      "  1.18165436e+01  1.05696259e+01  1.24860687e+01  1.18853302e+01\n",
      "  1.18655548e+01  1.24110260e+01  1.16513519e+01  1.27925720e+01\n",
      "  1.21350708e+01  1.23613281e+01  1.17440338e+01  1.12600250e+01\n",
      "  1.18433990e+01  1.18661652e+01  1.27909393e+01  1.20255890e+01\n",
      "  1.18909454e+01  1.23198395e+01  1.21150055e+01  1.19096527e+01\n",
      "  1.19307709e+01  1.19046173e+01  1.23751373e+01  1.22703094e+01\n",
      "  1.22101593e+01  1.19990997e+01  1.19229126e+01  1.16336823e+01\n",
      "  1.16010590e+01  1.18767090e+01  1.19217072e+01  1.18711700e+01\n",
      "  1.16172943e+01  1.21762085e+01  1.19730988e+01  1.19541168e+01\n",
      "  1.20009003e+01  1.16580353e+01  1.20121613e+01  1.16876984e+01\n",
      "  1.15067902e+01  1.29338531e+01  1.15486298e+01  1.25404816e+01\n",
      "  1.18336639e+01  1.20734100e+01  1.22125397e+01  1.20203705e+01\n",
      "  1.28384857e+01  1.17899628e+01  1.24072876e+01  1.20143585e+01\n",
      "  1.20910034e+01  1.23505402e+01  5.00155668e+09  1.18300629e+01\n",
      "  1.18450470e+01  1.18326263e+01  1.22344208e+01  1.17947388e+01\n",
      "  1.16241608e+01  1.08730011e+01  1.24100800e+01  1.15968781e+01\n",
      "  1.17694855e+01  1.18501434e+01  1.21154022e+01  1.20672455e+01\n",
      "  1.21104889e+01  1.26493073e+01  1.18908844e+01  1.20866089e+01\n",
      "  1.16820221e+01  1.20394440e+01  1.26315918e+01  1.16657562e+01\n",
      "  1.17119904e+01  1.20205231e+01  1.22332306e+01  1.25162659e+01\n",
      "  1.20978241e+01  1.29687653e+01  1.18319550e+01  1.19152374e+01\n",
      "  1.18712311e+01  1.17635498e+01  1.29759674e+01  1.20245514e+01\n",
      "  1.22134094e+01  1.22406769e+01  1.24196777e+01  1.21328583e+01\n",
      "  1.17096710e+01  1.26259918e+01  1.18845367e+01  1.21064911e+01\n",
      "  1.15335236e+01  1.15861511e+01  1.24410706e+01  1.19590607e+01\n",
      "  1.24265289e+01  1.23813019e+01  1.13282623e+01  1.17917328e+01\n",
      "  1.16688232e+01  1.21971741e+01  1.18984528e+01  1.12659760e+01\n",
      "  1.17354279e+01  1.17431793e+01  1.24498291e+01  1.20639801e+01\n",
      "  1.17648468e+01  1.14894562e+01  1.18332214e+01  1.21627960e+01\n",
      "  1.20263824e+01  1.26460724e+01  1.14043121e+01  1.23646393e+01\n",
      "  1.22032928e+01  1.20888824e+01  1.19206696e+01  1.21202087e+01]\n"
     ]
    }
   ],
   "source": [
    "intercept = linearRegression.intercept_\n",
    "coefficients = linearRegression.coef_\n",
    "\n",
    "print(\"Intercept:\", intercept)\n",
    "print(\"Coefficients:\", coefficients)\n",
    "\n",
    "# Save predictions to variables\n",
    "y_pred_train = linearRegression.predict(X_train)\n",
    "y_pred_test = linearRegression.predict(X_test)\n",
    "\n",
    "# Print out the predictions\n",
    "print(\"Train Predictions:\", y_pred_train)\n",
    "print(\"Test Predictions:\", y_pred_test)"
   ]
  },
  {
   "cell_type": "code",
   "execution_count": null,
   "metadata": {},
   "outputs": [],
   "source": []
  },
  {
   "cell_type": "code",
   "execution_count": 53,
   "metadata": {},
   "outputs": [],
   "source": [
    "y_pred_linearRegression = linearRegression.predict(X_test)"
   ]
  },
  {
   "cell_type": "code",
   "execution_count": 54,
   "metadata": {},
   "outputs": [
    {
     "data": {
      "text/plain": [
       "4.3293816817153475e+18"
      ]
     },
     "execution_count": 54,
     "metadata": {},
     "output_type": "execute_result"
    }
   ],
   "source": [
    "mean_squared_error(y_test, y_pred_linearRegression)"
   ]
  },
  {
   "cell_type": "code",
   "execution_count": 55,
   "metadata": {},
   "outputs": [
    {
     "data": {
      "text/plain": [
       "-2.7396220693500023e+19"
      ]
     },
     "execution_count": 55,
     "metadata": {},
     "output_type": "execute_result"
    }
   ],
   "source": [
    "linearRegression.score(X_test, y_test)"
   ]
  },
  {
   "cell_type": "code",
   "execution_count": 56,
   "metadata": {},
   "outputs": [
    {
     "data": {
      "text/plain": [
       "0.9444972689599445"
      ]
     },
     "execution_count": 56,
     "metadata": {},
     "output_type": "execute_result"
    }
   ],
   "source": [
    "linearRegression.score(X_train, y_train)"
   ]
  },
  {
   "cell_type": "code",
   "execution_count": 57,
   "metadata": {},
   "outputs": [],
   "source": [
    "RFR = RandomForestRegressor(random_state=13)"
   ]
  },
  {
   "cell_type": "code",
   "execution_count": 76,
   "metadata": {},
   "outputs": [],
   "source": [
    "param_grid_RFR = {\n",
    "    'max_depth': [5, 10, 15],\n",
    "    'n_estimators': [100, 250, 500],\n",
    "    'min_samples_split': [3, 5, 10]\n",
    "}"
   ]
  },
  {
   "cell_type": "code",
   "execution_count": 77,
   "metadata": {},
   "outputs": [],
   "source": [
    "rfr_cv = GridSearchCV(RFR, param_grid_RFR, cv=5, scoring='neg_mean_squared_error', n_jobs=-1)"
   ]
  },
  {
   "cell_type": "code",
   "execution_count": 78,
   "metadata": {},
   "outputs": [
    {
     "data": {
      "text/html": [
       "<style>#sk-container-id-6 {color: black;}#sk-container-id-6 pre{padding: 0;}#sk-container-id-6 div.sk-toggleable {background-color: white;}#sk-container-id-6 label.sk-toggleable__label {cursor: pointer;display: block;width: 100%;margin-bottom: 0;padding: 0.3em;box-sizing: border-box;text-align: center;}#sk-container-id-6 label.sk-toggleable__label-arrow:before {content: \"▸\";float: left;margin-right: 0.25em;color: #696969;}#sk-container-id-6 label.sk-toggleable__label-arrow:hover:before {color: black;}#sk-container-id-6 div.sk-estimator:hover label.sk-toggleable__label-arrow:before {color: black;}#sk-container-id-6 div.sk-toggleable__content {max-height: 0;max-width: 0;overflow: hidden;text-align: left;background-color: #f0f8ff;}#sk-container-id-6 div.sk-toggleable__content pre {margin: 0.2em;color: black;border-radius: 0.25em;background-color: #f0f8ff;}#sk-container-id-6 input.sk-toggleable__control:checked~div.sk-toggleable__content {max-height: 200px;max-width: 100%;overflow: auto;}#sk-container-id-6 input.sk-toggleable__control:checked~label.sk-toggleable__label-arrow:before {content: \"▾\";}#sk-container-id-6 div.sk-estimator input.sk-toggleable__control:checked~label.sk-toggleable__label {background-color: #d4ebff;}#sk-container-id-6 div.sk-label input.sk-toggleable__control:checked~label.sk-toggleable__label {background-color: #d4ebff;}#sk-container-id-6 input.sk-hidden--visually {border: 0;clip: rect(1px 1px 1px 1px);clip: rect(1px, 1px, 1px, 1px);height: 1px;margin: -1px;overflow: hidden;padding: 0;position: absolute;width: 1px;}#sk-container-id-6 div.sk-estimator {font-family: monospace;background-color: #f0f8ff;border: 1px dotted black;border-radius: 0.25em;box-sizing: border-box;margin-bottom: 0.5em;}#sk-container-id-6 div.sk-estimator:hover {background-color: #d4ebff;}#sk-container-id-6 div.sk-parallel-item::after {content: \"\";width: 100%;border-bottom: 1px solid gray;flex-grow: 1;}#sk-container-id-6 div.sk-label:hover label.sk-toggleable__label {background-color: #d4ebff;}#sk-container-id-6 div.sk-serial::before {content: \"\";position: absolute;border-left: 1px solid gray;box-sizing: border-box;top: 0;bottom: 0;left: 50%;z-index: 0;}#sk-container-id-6 div.sk-serial {display: flex;flex-direction: column;align-items: center;background-color: white;padding-right: 0.2em;padding-left: 0.2em;position: relative;}#sk-container-id-6 div.sk-item {position: relative;z-index: 1;}#sk-container-id-6 div.sk-parallel {display: flex;align-items: stretch;justify-content: center;background-color: white;position: relative;}#sk-container-id-6 div.sk-item::before, #sk-container-id-6 div.sk-parallel-item::before {content: \"\";position: absolute;border-left: 1px solid gray;box-sizing: border-box;top: 0;bottom: 0;left: 50%;z-index: -1;}#sk-container-id-6 div.sk-parallel-item {display: flex;flex-direction: column;z-index: 1;position: relative;background-color: white;}#sk-container-id-6 div.sk-parallel-item:first-child::after {align-self: flex-end;width: 50%;}#sk-container-id-6 div.sk-parallel-item:last-child::after {align-self: flex-start;width: 50%;}#sk-container-id-6 div.sk-parallel-item:only-child::after {width: 0;}#sk-container-id-6 div.sk-dashed-wrapped {border: 1px dashed gray;margin: 0 0.4em 0.5em 0.4em;box-sizing: border-box;padding-bottom: 0.4em;background-color: white;}#sk-container-id-6 div.sk-label label {font-family: monospace;font-weight: bold;display: inline-block;line-height: 1.2em;}#sk-container-id-6 div.sk-label-container {text-align: center;}#sk-container-id-6 div.sk-container {/* jupyter's `normalize.less` sets `[hidden] { display: none; }` but bootstrap.min.css set `[hidden] { display: none !important; }` so we also need the `!important` here to be able to override the default hidden behavior on the sphinx rendered scikit-learn.org. See: https://github.com/scikit-learn/scikit-learn/issues/21755 */display: inline-block !important;position: relative;}#sk-container-id-6 div.sk-text-repr-fallback {display: none;}</style><div id=\"sk-container-id-6\" class=\"sk-top-container\"><div class=\"sk-text-repr-fallback\"><pre>GridSearchCV(cv=5, estimator=RandomForestRegressor(random_state=13), n_jobs=-1,\n",
       "             param_grid={&#x27;max_depth&#x27;: [5, 10, 15],\n",
       "                         &#x27;min_samples_split&#x27;: [3, 5, 10],\n",
       "                         &#x27;n_estimators&#x27;: [100, 250, 500]},\n",
       "             scoring=&#x27;neg_mean_squared_error&#x27;)</pre><b>In a Jupyter environment, please rerun this cell to show the HTML representation or trust the notebook. <br />On GitHub, the HTML representation is unable to render, please try loading this page with nbviewer.org.</b></div><div class=\"sk-container\" hidden><div class=\"sk-item sk-dashed-wrapped\"><div class=\"sk-label-container\"><div class=\"sk-label sk-toggleable\"><input class=\"sk-toggleable__control sk-hidden--visually\" id=\"sk-estimator-id-10\" type=\"checkbox\" ><label for=\"sk-estimator-id-10\" class=\"sk-toggleable__label sk-toggleable__label-arrow\">GridSearchCV</label><div class=\"sk-toggleable__content\"><pre>GridSearchCV(cv=5, estimator=RandomForestRegressor(random_state=13), n_jobs=-1,\n",
       "             param_grid={&#x27;max_depth&#x27;: [5, 10, 15],\n",
       "                         &#x27;min_samples_split&#x27;: [3, 5, 10],\n",
       "                         &#x27;n_estimators&#x27;: [100, 250, 500]},\n",
       "             scoring=&#x27;neg_mean_squared_error&#x27;)</pre></div></div></div><div class=\"sk-parallel\"><div class=\"sk-parallel-item\"><div class=\"sk-item\"><div class=\"sk-label-container\"><div class=\"sk-label sk-toggleable\"><input class=\"sk-toggleable__control sk-hidden--visually\" id=\"sk-estimator-id-11\" type=\"checkbox\" ><label for=\"sk-estimator-id-11\" class=\"sk-toggleable__label sk-toggleable__label-arrow\">estimator: RandomForestRegressor</label><div class=\"sk-toggleable__content\"><pre>RandomForestRegressor(random_state=13)</pre></div></div></div><div class=\"sk-serial\"><div class=\"sk-item\"><div class=\"sk-estimator sk-toggleable\"><input class=\"sk-toggleable__control sk-hidden--visually\" id=\"sk-estimator-id-12\" type=\"checkbox\" ><label for=\"sk-estimator-id-12\" class=\"sk-toggleable__label sk-toggleable__label-arrow\">RandomForestRegressor</label><div class=\"sk-toggleable__content\"><pre>RandomForestRegressor(random_state=13)</pre></div></div></div></div></div></div></div></div></div></div>"
      ],
      "text/plain": [
       "GridSearchCV(cv=5, estimator=RandomForestRegressor(random_state=13), n_jobs=-1,\n",
       "             param_grid={'max_depth': [5, 10, 15],\n",
       "                         'min_samples_split': [3, 5, 10],\n",
       "                         'n_estimators': [100, 250, 500]},\n",
       "             scoring='neg_mean_squared_error')"
      ]
     },
     "execution_count": 78,
     "metadata": {},
     "output_type": "execute_result"
    }
   ],
   "source": [
    "rfr_cv.fit(X_train, y_train)"
   ]
  },
  {
   "cell_type": "code",
   "execution_count": 79,
   "metadata": {},
   "outputs": [
    {
     "data": {
      "text/plain": [
       "0.1335391111144618"
      ]
     },
     "execution_count": 79,
     "metadata": {},
     "output_type": "execute_result"
    }
   ],
   "source": [
    "np.sqrt(-1 * rfr_cv.best_score_)"
   ]
  },
  {
   "cell_type": "code",
   "execution_count": 80,
   "metadata": {},
   "outputs": [
    {
     "data": {
      "text/plain": [
       "{'max_depth': 15, 'min_samples_split': 3, 'n_estimators': 100}"
      ]
     },
     "execution_count": 80,
     "metadata": {},
     "output_type": "execute_result"
    }
   ],
   "source": [
    "rfr_cv.best_params_"
   ]
  },
  {
   "cell_type": "code",
   "execution_count": 81,
   "metadata": {},
   "outputs": [],
   "source": [
    "XGB = XGBRegressor(random_state=13)"
   ]
  },
  {
   "cell_type": "code",
   "execution_count": 82,
   "metadata": {},
   "outputs": [],
   "source": [
    "param_grid_XGB = {\n",
    "    'learning_rate': [0.05, 0.1, 0.2],\n",
    "    'n_estimators': [300],\n",
    "    'max_depth': [3],\n",
    "    'min_child_weight': [1,2,3],\n",
    "    'gamma': [0, 0.1, 0.2],\n",
    "    'subsample': [0.8, 0.9, 1.0],\n",
    "    'colsample_bytree': [0.8, 0.9, 1.0],\n",
    "}"
   ]
  },
  {
   "cell_type": "code",
   "execution_count": 83,
   "metadata": {},
   "outputs": [],
   "source": [
    "\n",
    "xgb_cv = GridSearchCV(estimator=XGB, param_grid=param_grid_XGB, \n",
    "                      cv=3, scoring='neg_mean_squared_error', n_jobs=-1)"
   ]
  },
  {
   "cell_type": "code",
   "execution_count": null,
   "metadata": {},
   "outputs": [],
   "source": []
  },
  {
   "cell_type": "code",
   "execution_count": null,
   "metadata": {},
   "outputs": [
    {
     "name": "stdout",
     "output_type": "stream",
     "text": [
      "Best Parameters: {'colsample_bytree': 0.8, 'gamma': 0, 'learning_rate': 0.05, 'max_depth': 3, 'min_child_weight': 1, 'n_estimators': 300, 'subsample': 0.8}\n"
     ]
    }
   ],
   "source": [
    "# Fit the model\n",
    "xgb_cv.fit(X_train, y_train)\n",
    "\n",
    "# Print the best parameters\n",
    "print(\"Best Parameters:\", xgb_cv.best_params_)\n",
    "\n"
   ]
  },
  {
   "cell_type": "code",
   "execution_count": null,
   "metadata": {},
   "outputs": [],
   "source": [
    "# Print the best parameters\n",
    "print(\"Best Parameters:\", xgb_cv.best_params_)\n"
   ]
  },
  {
   "cell_type": "code",
   "execution_count": 85,
   "metadata": {},
   "outputs": [],
   "source": [
    "ridge  = Ridge()"
   ]
  },
  {
   "cell_type": "code",
   "execution_count": 86,
   "metadata": {},
   "outputs": [],
   "source": [
    "param_grid_ridge = {\n",
    "    'alpha': [0.05, 0.1, 1, 3, 5, 10],\n",
    "    'solver': ['auto', 'svd', 'cholesky', 'lsqr', 'sparse_cg', 'sag']\n",
    "}"
   ]
  },
  {
   "cell_type": "code",
   "execution_count": 87,
   "metadata": {},
   "outputs": [],
   "source": [
    "ridge_cv = GridSearchCV(ridge, param_grid_ridge, cv=5, scoring='neg_mean_squared_error', n_jobs=-1)"
   ]
  },
  {
   "cell_type": "code",
   "execution_count": 88,
   "metadata": {},
   "outputs": [
    {
     "data": {
      "text/html": [
       "<style>#sk-container-id-7 {color: black;}#sk-container-id-7 pre{padding: 0;}#sk-container-id-7 div.sk-toggleable {background-color: white;}#sk-container-id-7 label.sk-toggleable__label {cursor: pointer;display: block;width: 100%;margin-bottom: 0;padding: 0.3em;box-sizing: border-box;text-align: center;}#sk-container-id-7 label.sk-toggleable__label-arrow:before {content: \"▸\";float: left;margin-right: 0.25em;color: #696969;}#sk-container-id-7 label.sk-toggleable__label-arrow:hover:before {color: black;}#sk-container-id-7 div.sk-estimator:hover label.sk-toggleable__label-arrow:before {color: black;}#sk-container-id-7 div.sk-toggleable__content {max-height: 0;max-width: 0;overflow: hidden;text-align: left;background-color: #f0f8ff;}#sk-container-id-7 div.sk-toggleable__content pre {margin: 0.2em;color: black;border-radius: 0.25em;background-color: #f0f8ff;}#sk-container-id-7 input.sk-toggleable__control:checked~div.sk-toggleable__content {max-height: 200px;max-width: 100%;overflow: auto;}#sk-container-id-7 input.sk-toggleable__control:checked~label.sk-toggleable__label-arrow:before {content: \"▾\";}#sk-container-id-7 div.sk-estimator input.sk-toggleable__control:checked~label.sk-toggleable__label {background-color: #d4ebff;}#sk-container-id-7 div.sk-label input.sk-toggleable__control:checked~label.sk-toggleable__label {background-color: #d4ebff;}#sk-container-id-7 input.sk-hidden--visually {border: 0;clip: rect(1px 1px 1px 1px);clip: rect(1px, 1px, 1px, 1px);height: 1px;margin: -1px;overflow: hidden;padding: 0;position: absolute;width: 1px;}#sk-container-id-7 div.sk-estimator {font-family: monospace;background-color: #f0f8ff;border: 1px dotted black;border-radius: 0.25em;box-sizing: border-box;margin-bottom: 0.5em;}#sk-container-id-7 div.sk-estimator:hover {background-color: #d4ebff;}#sk-container-id-7 div.sk-parallel-item::after {content: \"\";width: 100%;border-bottom: 1px solid gray;flex-grow: 1;}#sk-container-id-7 div.sk-label:hover label.sk-toggleable__label {background-color: #d4ebff;}#sk-container-id-7 div.sk-serial::before {content: \"\";position: absolute;border-left: 1px solid gray;box-sizing: border-box;top: 0;bottom: 0;left: 50%;z-index: 0;}#sk-container-id-7 div.sk-serial {display: flex;flex-direction: column;align-items: center;background-color: white;padding-right: 0.2em;padding-left: 0.2em;position: relative;}#sk-container-id-7 div.sk-item {position: relative;z-index: 1;}#sk-container-id-7 div.sk-parallel {display: flex;align-items: stretch;justify-content: center;background-color: white;position: relative;}#sk-container-id-7 div.sk-item::before, #sk-container-id-7 div.sk-parallel-item::before {content: \"\";position: absolute;border-left: 1px solid gray;box-sizing: border-box;top: 0;bottom: 0;left: 50%;z-index: -1;}#sk-container-id-7 div.sk-parallel-item {display: flex;flex-direction: column;z-index: 1;position: relative;background-color: white;}#sk-container-id-7 div.sk-parallel-item:first-child::after {align-self: flex-end;width: 50%;}#sk-container-id-7 div.sk-parallel-item:last-child::after {align-self: flex-start;width: 50%;}#sk-container-id-7 div.sk-parallel-item:only-child::after {width: 0;}#sk-container-id-7 div.sk-dashed-wrapped {border: 1px dashed gray;margin: 0 0.4em 0.5em 0.4em;box-sizing: border-box;padding-bottom: 0.4em;background-color: white;}#sk-container-id-7 div.sk-label label {font-family: monospace;font-weight: bold;display: inline-block;line-height: 1.2em;}#sk-container-id-7 div.sk-label-container {text-align: center;}#sk-container-id-7 div.sk-container {/* jupyter's `normalize.less` sets `[hidden] { display: none; }` but bootstrap.min.css set `[hidden] { display: none !important; }` so we also need the `!important` here to be able to override the default hidden behavior on the sphinx rendered scikit-learn.org. See: https://github.com/scikit-learn/scikit-learn/issues/21755 */display: inline-block !important;position: relative;}#sk-container-id-7 div.sk-text-repr-fallback {display: none;}</style><div id=\"sk-container-id-7\" class=\"sk-top-container\"><div class=\"sk-text-repr-fallback\"><pre>GridSearchCV(cv=5, estimator=Ridge(), n_jobs=-1,\n",
       "             param_grid={&#x27;alpha&#x27;: [0.05, 0.1, 1, 3, 5, 10],\n",
       "                         &#x27;solver&#x27;: [&#x27;auto&#x27;, &#x27;svd&#x27;, &#x27;cholesky&#x27;, &#x27;lsqr&#x27;,\n",
       "                                    &#x27;sparse_cg&#x27;, &#x27;sag&#x27;]},\n",
       "             scoring=&#x27;neg_mean_squared_error&#x27;)</pre><b>In a Jupyter environment, please rerun this cell to show the HTML representation or trust the notebook. <br />On GitHub, the HTML representation is unable to render, please try loading this page with nbviewer.org.</b></div><div class=\"sk-container\" hidden><div class=\"sk-item sk-dashed-wrapped\"><div class=\"sk-label-container\"><div class=\"sk-label sk-toggleable\"><input class=\"sk-toggleable__control sk-hidden--visually\" id=\"sk-estimator-id-13\" type=\"checkbox\" ><label for=\"sk-estimator-id-13\" class=\"sk-toggleable__label sk-toggleable__label-arrow\">GridSearchCV</label><div class=\"sk-toggleable__content\"><pre>GridSearchCV(cv=5, estimator=Ridge(), n_jobs=-1,\n",
       "             param_grid={&#x27;alpha&#x27;: [0.05, 0.1, 1, 3, 5, 10],\n",
       "                         &#x27;solver&#x27;: [&#x27;auto&#x27;, &#x27;svd&#x27;, &#x27;cholesky&#x27;, &#x27;lsqr&#x27;,\n",
       "                                    &#x27;sparse_cg&#x27;, &#x27;sag&#x27;]},\n",
       "             scoring=&#x27;neg_mean_squared_error&#x27;)</pre></div></div></div><div class=\"sk-parallel\"><div class=\"sk-parallel-item\"><div class=\"sk-item\"><div class=\"sk-label-container\"><div class=\"sk-label sk-toggleable\"><input class=\"sk-toggleable__control sk-hidden--visually\" id=\"sk-estimator-id-14\" type=\"checkbox\" ><label for=\"sk-estimator-id-14\" class=\"sk-toggleable__label sk-toggleable__label-arrow\">estimator: Ridge</label><div class=\"sk-toggleable__content\"><pre>Ridge()</pre></div></div></div><div class=\"sk-serial\"><div class=\"sk-item\"><div class=\"sk-estimator sk-toggleable\"><input class=\"sk-toggleable__control sk-hidden--visually\" id=\"sk-estimator-id-15\" type=\"checkbox\" ><label for=\"sk-estimator-id-15\" class=\"sk-toggleable__label sk-toggleable__label-arrow\">Ridge</label><div class=\"sk-toggleable__content\"><pre>Ridge()</pre></div></div></div></div></div></div></div></div></div></div>"
      ],
      "text/plain": [
       "GridSearchCV(cv=5, estimator=Ridge(), n_jobs=-1,\n",
       "             param_grid={'alpha': [0.05, 0.1, 1, 3, 5, 10],\n",
       "                         'solver': ['auto', 'svd', 'cholesky', 'lsqr',\n",
       "                                    'sparse_cg', 'sag']},\n",
       "             scoring='neg_mean_squared_error')"
      ]
     },
     "execution_count": 88,
     "metadata": {},
     "output_type": "execute_result"
    }
   ],
   "source": [
    "ridge_cv.fit(X_train, y_train)"
   ]
  },
  {
   "cell_type": "code",
   "execution_count": 89,
   "metadata": {},
   "outputs": [
    {
     "data": {
      "text/plain": [
       "0.10884138687052707"
      ]
     },
     "execution_count": 89,
     "metadata": {},
     "output_type": "execute_result"
    }
   ],
   "source": [
    "np.sqrt(-1 * ridge_cv.best_score_)"
   ]
  },
  {
   "cell_type": "code",
   "execution_count": 90,
   "metadata": {},
   "outputs": [],
   "source": [
    "GBR = GradientBoostingRegressor(random_state=13)"
   ]
  },
  {
   "cell_type": "code",
   "execution_count": 91,
   "metadata": {},
   "outputs": [],
   "source": [
    "param_grid_GBR = {\n",
    "    'max_depth': [12, 15, 20],\n",
    "    'n_estimators': [200, 300, 1000],\n",
    "    'min_samples_leaf': [10, 25, 50],\n",
    "    'learning_rate': [0.001, 0.01, 0.1],\n",
    "    'max_features': [0.01, 0.1, 0.7],\n",
    "    'learning_rate': [0.05, 0.1, 0.2]\n",
    "}"
   ]
  },
  {
   "cell_type": "code",
   "execution_count": 92,
   "metadata": {},
   "outputs": [],
   "source": [
    "GBR_cv = GridSearchCV(GBR, param_grid_GBR, cv=5, scoring='neg_mean_squared_error', n_jobs=-1)"
   ]
  },
  {
   "cell_type": "code",
   "execution_count": 93,
   "metadata": {},
   "outputs": [
    {
     "data": {
      "text/html": [
       "<style>#sk-container-id-8 {color: black;}#sk-container-id-8 pre{padding: 0;}#sk-container-id-8 div.sk-toggleable {background-color: white;}#sk-container-id-8 label.sk-toggleable__label {cursor: pointer;display: block;width: 100%;margin-bottom: 0;padding: 0.3em;box-sizing: border-box;text-align: center;}#sk-container-id-8 label.sk-toggleable__label-arrow:before {content: \"▸\";float: left;margin-right: 0.25em;color: #696969;}#sk-container-id-8 label.sk-toggleable__label-arrow:hover:before {color: black;}#sk-container-id-8 div.sk-estimator:hover label.sk-toggleable__label-arrow:before {color: black;}#sk-container-id-8 div.sk-toggleable__content {max-height: 0;max-width: 0;overflow: hidden;text-align: left;background-color: #f0f8ff;}#sk-container-id-8 div.sk-toggleable__content pre {margin: 0.2em;color: black;border-radius: 0.25em;background-color: #f0f8ff;}#sk-container-id-8 input.sk-toggleable__control:checked~div.sk-toggleable__content {max-height: 200px;max-width: 100%;overflow: auto;}#sk-container-id-8 input.sk-toggleable__control:checked~label.sk-toggleable__label-arrow:before {content: \"▾\";}#sk-container-id-8 div.sk-estimator input.sk-toggleable__control:checked~label.sk-toggleable__label {background-color: #d4ebff;}#sk-container-id-8 div.sk-label input.sk-toggleable__control:checked~label.sk-toggleable__label {background-color: #d4ebff;}#sk-container-id-8 input.sk-hidden--visually {border: 0;clip: rect(1px 1px 1px 1px);clip: rect(1px, 1px, 1px, 1px);height: 1px;margin: -1px;overflow: hidden;padding: 0;position: absolute;width: 1px;}#sk-container-id-8 div.sk-estimator {font-family: monospace;background-color: #f0f8ff;border: 1px dotted black;border-radius: 0.25em;box-sizing: border-box;margin-bottom: 0.5em;}#sk-container-id-8 div.sk-estimator:hover {background-color: #d4ebff;}#sk-container-id-8 div.sk-parallel-item::after {content: \"\";width: 100%;border-bottom: 1px solid gray;flex-grow: 1;}#sk-container-id-8 div.sk-label:hover label.sk-toggleable__label {background-color: #d4ebff;}#sk-container-id-8 div.sk-serial::before {content: \"\";position: absolute;border-left: 1px solid gray;box-sizing: border-box;top: 0;bottom: 0;left: 50%;z-index: 0;}#sk-container-id-8 div.sk-serial {display: flex;flex-direction: column;align-items: center;background-color: white;padding-right: 0.2em;padding-left: 0.2em;position: relative;}#sk-container-id-8 div.sk-item {position: relative;z-index: 1;}#sk-container-id-8 div.sk-parallel {display: flex;align-items: stretch;justify-content: center;background-color: white;position: relative;}#sk-container-id-8 div.sk-item::before, #sk-container-id-8 div.sk-parallel-item::before {content: \"\";position: absolute;border-left: 1px solid gray;box-sizing: border-box;top: 0;bottom: 0;left: 50%;z-index: -1;}#sk-container-id-8 div.sk-parallel-item {display: flex;flex-direction: column;z-index: 1;position: relative;background-color: white;}#sk-container-id-8 div.sk-parallel-item:first-child::after {align-self: flex-end;width: 50%;}#sk-container-id-8 div.sk-parallel-item:last-child::after {align-self: flex-start;width: 50%;}#sk-container-id-8 div.sk-parallel-item:only-child::after {width: 0;}#sk-container-id-8 div.sk-dashed-wrapped {border: 1px dashed gray;margin: 0 0.4em 0.5em 0.4em;box-sizing: border-box;padding-bottom: 0.4em;background-color: white;}#sk-container-id-8 div.sk-label label {font-family: monospace;font-weight: bold;display: inline-block;line-height: 1.2em;}#sk-container-id-8 div.sk-label-container {text-align: center;}#sk-container-id-8 div.sk-container {/* jupyter's `normalize.less` sets `[hidden] { display: none; }` but bootstrap.min.css set `[hidden] { display: none !important; }` so we also need the `!important` here to be able to override the default hidden behavior on the sphinx rendered scikit-learn.org. See: https://github.com/scikit-learn/scikit-learn/issues/21755 */display: inline-block !important;position: relative;}#sk-container-id-8 div.sk-text-repr-fallback {display: none;}</style><div id=\"sk-container-id-8\" class=\"sk-top-container\"><div class=\"sk-text-repr-fallback\"><pre>GridSearchCV(cv=5, estimator=GradientBoostingRegressor(random_state=13),\n",
       "             n_jobs=-1,\n",
       "             param_grid={&#x27;learning_rate&#x27;: [0.05, 0.1, 0.2],\n",
       "                         &#x27;max_depth&#x27;: [12, 15, 20],\n",
       "                         &#x27;max_features&#x27;: [0.01, 0.1, 0.7],\n",
       "                         &#x27;min_samples_leaf&#x27;: [10, 25, 50],\n",
       "                         &#x27;n_estimators&#x27;: [200, 300, 1000]},\n",
       "             scoring=&#x27;neg_mean_squared_error&#x27;)</pre><b>In a Jupyter environment, please rerun this cell to show the HTML representation or trust the notebook. <br />On GitHub, the HTML representation is unable to render, please try loading this page with nbviewer.org.</b></div><div class=\"sk-container\" hidden><div class=\"sk-item sk-dashed-wrapped\"><div class=\"sk-label-container\"><div class=\"sk-label sk-toggleable\"><input class=\"sk-toggleable__control sk-hidden--visually\" id=\"sk-estimator-id-16\" type=\"checkbox\" ><label for=\"sk-estimator-id-16\" class=\"sk-toggleable__label sk-toggleable__label-arrow\">GridSearchCV</label><div class=\"sk-toggleable__content\"><pre>GridSearchCV(cv=5, estimator=GradientBoostingRegressor(random_state=13),\n",
       "             n_jobs=-1,\n",
       "             param_grid={&#x27;learning_rate&#x27;: [0.05, 0.1, 0.2],\n",
       "                         &#x27;max_depth&#x27;: [12, 15, 20],\n",
       "                         &#x27;max_features&#x27;: [0.01, 0.1, 0.7],\n",
       "                         &#x27;min_samples_leaf&#x27;: [10, 25, 50],\n",
       "                         &#x27;n_estimators&#x27;: [200, 300, 1000]},\n",
       "             scoring=&#x27;neg_mean_squared_error&#x27;)</pre></div></div></div><div class=\"sk-parallel\"><div class=\"sk-parallel-item\"><div class=\"sk-item\"><div class=\"sk-label-container\"><div class=\"sk-label sk-toggleable\"><input class=\"sk-toggleable__control sk-hidden--visually\" id=\"sk-estimator-id-17\" type=\"checkbox\" ><label for=\"sk-estimator-id-17\" class=\"sk-toggleable__label sk-toggleable__label-arrow\">estimator: GradientBoostingRegressor</label><div class=\"sk-toggleable__content\"><pre>GradientBoostingRegressor(random_state=13)</pre></div></div></div><div class=\"sk-serial\"><div class=\"sk-item\"><div class=\"sk-estimator sk-toggleable\"><input class=\"sk-toggleable__control sk-hidden--visually\" id=\"sk-estimator-id-18\" type=\"checkbox\" ><label for=\"sk-estimator-id-18\" class=\"sk-toggleable__label sk-toggleable__label-arrow\">GradientBoostingRegressor</label><div class=\"sk-toggleable__content\"><pre>GradientBoostingRegressor(random_state=13)</pre></div></div></div></div></div></div></div></div></div></div>"
      ],
      "text/plain": [
       "GridSearchCV(cv=5, estimator=GradientBoostingRegressor(random_state=13),\n",
       "             n_jobs=-1,\n",
       "             param_grid={'learning_rate': [0.05, 0.1, 0.2],\n",
       "                         'max_depth': [12, 15, 20],\n",
       "                         'max_features': [0.01, 0.1, 0.7],\n",
       "                         'min_samples_leaf': [10, 25, 50],\n",
       "                         'n_estimators': [200, 300, 1000]},\n",
       "             scoring='neg_mean_squared_error')"
      ]
     },
     "execution_count": 93,
     "metadata": {},
     "output_type": "execute_result"
    }
   ],
   "source": [
    "GBR_cv.fit(X_train, y_train)"
   ]
  },
  {
   "cell_type": "code",
   "execution_count": 94,
   "metadata": {},
   "outputs": [
    {
     "data": {
      "text/plain": [
       "0.11464883552998334"
      ]
     },
     "execution_count": 94,
     "metadata": {},
     "output_type": "execute_result"
    }
   ],
   "source": [
    "np.sqrt(-1 * GBR_cv.best_score_)"
   ]
  },
  {
   "cell_type": "code",
   "execution_count": 95,
   "metadata": {},
   "outputs": [],
   "source": [
    "lgbm_regressor  =  lgb.LGBMRegressor(random_state=13)   "
   ]
  },
  {
   "cell_type": "code",
   "execution_count": 96,
   "metadata": {},
   "outputs": [],
   "source": [
    "param_grid_lgbm = {\n",
    "    'boosting_type' : ['gbdt', 'dart'],\n",
    "    'num_leaves' : [20, 30, 40],\n",
    "    'learning_rate' : [0.05, 0.1, 0.2,0.1],\n",
    "    'n_estimators' : [100,200,300]\n",
    "}\n",
    "    "
   ]
  },
  {
   "cell_type": "code",
   "execution_count": 97,
   "metadata": {},
   "outputs": [],
   "source": [
    "lgbm_regressor_cv = GridSearchCV(lgbm_regressor, param_grid_lgbm, cv = 4, scoring = 'neg_mean_squared_error', n_jobs=-1)"
   ]
  },
  {
   "cell_type": "code",
   "execution_count": null,
   "metadata": {},
   "outputs": [],
   "source": [
    "lgbm_regressor_cv.fit(X_train, y_train)"
   ]
  },
  {
   "cell_type": "code",
   "execution_count": 88,
   "metadata": {},
   "outputs": [
    {
     "data": {
      "text/plain": [
       "0.1216988431657762"
      ]
     },
     "execution_count": 88,
     "metadata": {},
     "output_type": "execute_result"
    }
   ],
   "source": [
    "np.sqrt(-1 * lgbm_bregressor_cv.best_score_)"
   ]
  },
  {
   "cell_type": "code",
   "execution_count": 102,
   "metadata": {},
   "outputs": [],
   "source": [
    "CatBoostRegressor = CatBoostRegressor(loss_function='RMSE', verbose=False)"
   ]
  },
  {
   "cell_type": "code",
   "execution_count": 103,
   "metadata": {},
   "outputs": [],
   "source": [
    "param_grid_cat = {\n",
    "    'iterations' : [100,400,500,1000],\n",
    "    'depth' : [4,6,8,10],\n",
    "    'learning_rate' : [0.01,0.05,0.1,0.5]\n",
    "    \n",
    "}"
   ]
  },
  {
   "cell_type": "code",
   "execution_count": 104,
   "metadata": {},
   "outputs": [],
   "source": [
    "CatBoostRegressor_cv = GridSearchCV(CatBoostRegressor, param_grid_cat, cv = 4, scoring = 'neg_mean_squared_error', n_jobs=-1)"
   ]
  },
  {
   "cell_type": "code",
   "execution_count": 105,
   "metadata": {},
   "outputs": [
    {
     "name": "stderr",
     "output_type": "stream",
     "text": [
      "c:\\Users\\danie\\Machine_Learning_House_Prediction_Project\\venv\\Lib\\site-packages\\sklearn\\model_selection\\_validation.py:425: FitFailedWarning: \n",
      "13 fits failed out of a total of 256.\n",
      "The score on these train-test partitions for these parameters will be set to nan.\n",
      "If these failures are not expected, you can try to debug them by setting error_score='raise'.\n",
      "\n",
      "Below are more details about the failures:\n",
      "--------------------------------------------------------------------------------\n",
      "13 fits failed with the following error:\n",
      "Traceback (most recent call last):\n",
      "  File \"c:\\Users\\danie\\Machine_Learning_House_Prediction_Project\\venv\\Lib\\site-packages\\sklearn\\model_selection\\_validation.py\", line 729, in _fit_and_score\n",
      "    estimator.fit(X_train, y_train, **fit_params)\n",
      "  File \"c:\\Users\\danie\\Machine_Learning_House_Prediction_Project\\venv\\Lib\\site-packages\\catboost\\core.py\", line 5873, in fit\n",
      "    return self._fit(X, y, cat_features, text_features, embedding_features, None, graph, sample_weight, None, None, None, None, baseline,\n",
      "           ^^^^^^^^^^^^^^^^^^^^^^^^^^^^^^^^^^^^^^^^^^^^^^^^^^^^^^^^^^^^^^^^^^^^^^^^^^^^^^^^^^^^^^^^^^^^^^^^^^^^^^^^^^^^^^^^^^^^^^^^^^^^^^\n",
      "  File \"c:\\Users\\danie\\Machine_Learning_House_Prediction_Project\\venv\\Lib\\site-packages\\catboost\\core.py\", line 2410, in _fit\n",
      "    self._train(\n",
      "  File \"c:\\Users\\danie\\Machine_Learning_House_Prediction_Project\\venv\\Lib\\site-packages\\catboost\\core.py\", line 1790, in _train\n",
      "    self._object._train(train_pool, test_pool, params, allow_clear_pool, init_model._object if init_model else None)\n",
      "  File \"_catboost.pyx\", line 5017, in _catboost._CatBoost._train\n",
      "  File \"_catboost.pyx\", line 5066, in _catboost._CatBoost._train\n",
      "_catboost.CatBoostError: catboost/libs/train_lib/dir_helper.cpp:20: Can't create train working dir: catboost_info\n",
      "\n",
      "  warnings.warn(some_fits_failed_message, FitFailedWarning)\n",
      "c:\\Users\\danie\\Machine_Learning_House_Prediction_Project\\venv\\Lib\\site-packages\\sklearn\\model_selection\\_search.py:979: UserWarning: One or more of the test scores are non-finite: [        nan         nan         nan         nan -0.0184232  -0.01264037\n",
      " -0.01250149 -0.01634355 -0.01672697 -0.01247477 -0.01255285 -0.01637134\n",
      " -0.01352864 -0.01228393 -0.01263874 -0.01641827 -0.05214046 -0.01616703\n",
      " -0.01382218 -0.01677122 -0.01765487 -0.01267218 -0.01284629 -0.01678578\n",
      " -0.01610473 -0.01255568 -0.01284007 -0.0167812  -0.01328253 -0.01246638\n",
      " -0.01293105 -0.01678089 -0.05356267 -0.016882   -0.01440412 -0.01896725\n",
      " -0.01848966 -0.01334826 -0.01357339 -0.01899763 -0.01691138 -0.01327521\n",
      " -0.01361782 -0.01899769 -0.01405368 -0.01324378 -0.0136395  -0.01899769\n",
      " -0.05725802 -0.01897129 -0.01705778 -0.02047634 -0.02049416 -0.01515417\n",
      " -0.01623433 -0.02046696 -0.01874402 -0.01511609 -0.01623408 -0.02046697\n",
      " -0.01569511 -0.01511317 -0.01623484 -0.02046697]\n",
      "  warnings.warn(\n"
     ]
    },
    {
     "data": {
      "text/html": [
       "<style>#sk-container-id-9 {color: black;}#sk-container-id-9 pre{padding: 0;}#sk-container-id-9 div.sk-toggleable {background-color: white;}#sk-container-id-9 label.sk-toggleable__label {cursor: pointer;display: block;width: 100%;margin-bottom: 0;padding: 0.3em;box-sizing: border-box;text-align: center;}#sk-container-id-9 label.sk-toggleable__label-arrow:before {content: \"▸\";float: left;margin-right: 0.25em;color: #696969;}#sk-container-id-9 label.sk-toggleable__label-arrow:hover:before {color: black;}#sk-container-id-9 div.sk-estimator:hover label.sk-toggleable__label-arrow:before {color: black;}#sk-container-id-9 div.sk-toggleable__content {max-height: 0;max-width: 0;overflow: hidden;text-align: left;background-color: #f0f8ff;}#sk-container-id-9 div.sk-toggleable__content pre {margin: 0.2em;color: black;border-radius: 0.25em;background-color: #f0f8ff;}#sk-container-id-9 input.sk-toggleable__control:checked~div.sk-toggleable__content {max-height: 200px;max-width: 100%;overflow: auto;}#sk-container-id-9 input.sk-toggleable__control:checked~label.sk-toggleable__label-arrow:before {content: \"▾\";}#sk-container-id-9 div.sk-estimator input.sk-toggleable__control:checked~label.sk-toggleable__label {background-color: #d4ebff;}#sk-container-id-9 div.sk-label input.sk-toggleable__control:checked~label.sk-toggleable__label {background-color: #d4ebff;}#sk-container-id-9 input.sk-hidden--visually {border: 0;clip: rect(1px 1px 1px 1px);clip: rect(1px, 1px, 1px, 1px);height: 1px;margin: -1px;overflow: hidden;padding: 0;position: absolute;width: 1px;}#sk-container-id-9 div.sk-estimator {font-family: monospace;background-color: #f0f8ff;border: 1px dotted black;border-radius: 0.25em;box-sizing: border-box;margin-bottom: 0.5em;}#sk-container-id-9 div.sk-estimator:hover {background-color: #d4ebff;}#sk-container-id-9 div.sk-parallel-item::after {content: \"\";width: 100%;border-bottom: 1px solid gray;flex-grow: 1;}#sk-container-id-9 div.sk-label:hover label.sk-toggleable__label {background-color: #d4ebff;}#sk-container-id-9 div.sk-serial::before {content: \"\";position: absolute;border-left: 1px solid gray;box-sizing: border-box;top: 0;bottom: 0;left: 50%;z-index: 0;}#sk-container-id-9 div.sk-serial {display: flex;flex-direction: column;align-items: center;background-color: white;padding-right: 0.2em;padding-left: 0.2em;position: relative;}#sk-container-id-9 div.sk-item {position: relative;z-index: 1;}#sk-container-id-9 div.sk-parallel {display: flex;align-items: stretch;justify-content: center;background-color: white;position: relative;}#sk-container-id-9 div.sk-item::before, #sk-container-id-9 div.sk-parallel-item::before {content: \"\";position: absolute;border-left: 1px solid gray;box-sizing: border-box;top: 0;bottom: 0;left: 50%;z-index: -1;}#sk-container-id-9 div.sk-parallel-item {display: flex;flex-direction: column;z-index: 1;position: relative;background-color: white;}#sk-container-id-9 div.sk-parallel-item:first-child::after {align-self: flex-end;width: 50%;}#sk-container-id-9 div.sk-parallel-item:last-child::after {align-self: flex-start;width: 50%;}#sk-container-id-9 div.sk-parallel-item:only-child::after {width: 0;}#sk-container-id-9 div.sk-dashed-wrapped {border: 1px dashed gray;margin: 0 0.4em 0.5em 0.4em;box-sizing: border-box;padding-bottom: 0.4em;background-color: white;}#sk-container-id-9 div.sk-label label {font-family: monospace;font-weight: bold;display: inline-block;line-height: 1.2em;}#sk-container-id-9 div.sk-label-container {text-align: center;}#sk-container-id-9 div.sk-container {/* jupyter's `normalize.less` sets `[hidden] { display: none; }` but bootstrap.min.css set `[hidden] { display: none !important; }` so we also need the `!important` here to be able to override the default hidden behavior on the sphinx rendered scikit-learn.org. See: https://github.com/scikit-learn/scikit-learn/issues/21755 */display: inline-block !important;position: relative;}#sk-container-id-9 div.sk-text-repr-fallback {display: none;}</style><div id=\"sk-container-id-9\" class=\"sk-top-container\"><div class=\"sk-text-repr-fallback\"><pre>GridSearchCV(cv=4,\n",
       "             estimator=&lt;catboost.core.CatBoostRegressor object at 0x0000019510923920&gt;,\n",
       "             n_jobs=-1,\n",
       "             param_grid={&#x27;depth&#x27;: [4, 6, 8, 10],\n",
       "                         &#x27;iterations&#x27;: [100, 400, 500, 1000],\n",
       "                         &#x27;learning_rate&#x27;: [0.01, 0.05, 0.1, 0.5]},\n",
       "             scoring=&#x27;neg_mean_squared_error&#x27;)</pre><b>In a Jupyter environment, please rerun this cell to show the HTML representation or trust the notebook. <br />On GitHub, the HTML representation is unable to render, please try loading this page with nbviewer.org.</b></div><div class=\"sk-container\" hidden><div class=\"sk-item sk-dashed-wrapped\"><div class=\"sk-label-container\"><div class=\"sk-label sk-toggleable\"><input class=\"sk-toggleable__control sk-hidden--visually\" id=\"sk-estimator-id-25\" type=\"checkbox\" ><label for=\"sk-estimator-id-25\" class=\"sk-toggleable__label sk-toggleable__label-arrow\">GridSearchCV</label><div class=\"sk-toggleable__content\"><pre>GridSearchCV(cv=4,\n",
       "             estimator=&lt;catboost.core.CatBoostRegressor object at 0x0000019510923920&gt;,\n",
       "             n_jobs=-1,\n",
       "             param_grid={&#x27;depth&#x27;: [4, 6, 8, 10],\n",
       "                         &#x27;iterations&#x27;: [100, 400, 500, 1000],\n",
       "                         &#x27;learning_rate&#x27;: [0.01, 0.05, 0.1, 0.5]},\n",
       "             scoring=&#x27;neg_mean_squared_error&#x27;)</pre></div></div></div><div class=\"sk-parallel\"><div class=\"sk-parallel-item\"><div class=\"sk-item\"><div class=\"sk-label-container\"><div class=\"sk-label sk-toggleable\"><input class=\"sk-toggleable__control sk-hidden--visually\" id=\"sk-estimator-id-26\" type=\"checkbox\" ><label for=\"sk-estimator-id-26\" class=\"sk-toggleable__label sk-toggleable__label-arrow\">estimator: CatBoostRegressor</label><div class=\"sk-toggleable__content\"><pre>&lt;catboost.core.CatBoostRegressor object at 0x0000019510923920&gt;</pre></div></div></div><div class=\"sk-serial\"><div class=\"sk-item\"><div class=\"sk-estimator sk-toggleable\"><input class=\"sk-toggleable__control sk-hidden--visually\" id=\"sk-estimator-id-27\" type=\"checkbox\" ><label for=\"sk-estimator-id-27\" class=\"sk-toggleable__label sk-toggleable__label-arrow\">CatBoostRegressor</label><div class=\"sk-toggleable__content\"><pre>&lt;catboost.core.CatBoostRegressor object at 0x0000019510923920&gt;</pre></div></div></div></div></div></div></div></div></div></div>"
      ],
      "text/plain": [
       "GridSearchCV(cv=4,\n",
       "             estimator=<catboost.core.CatBoostRegressor object at 0x0000019510923920>,\n",
       "             n_jobs=-1,\n",
       "             param_grid={'depth': [4, 6, 8, 10],\n",
       "                         'iterations': [100, 400, 500, 1000],\n",
       "                         'learning_rate': [0.01, 0.05, 0.1, 0.5]},\n",
       "             scoring='neg_mean_squared_error')"
      ]
     },
     "execution_count": 105,
     "metadata": {},
     "output_type": "execute_result"
    }
   ],
   "source": [
    "CatBoostRegressor_cv.fit(X_train, y_train)"
   ]
  },
  {
   "cell_type": "code",
   "execution_count": 106,
   "metadata": {},
   "outputs": [
    {
     "data": {
      "text/plain": [
       "0.11083287944761103"
      ]
     },
     "execution_count": 106,
     "metadata": {},
     "output_type": "execute_result"
    }
   ],
   "source": [
    "np.sqrt(-1 * CatBoostRegressor_cv.best_score_)"
   ]
  },
  {
   "cell_type": "code",
   "execution_count": 89,
   "metadata": {},
   "outputs": [],
   "source": [
    "vr = VotingRegressor( [('gbr' , GBR_cv.best_estimator_), ('xgb', xgb_cv.best_estimator_), ('ridge', ridge_cv.best_estimator_)], weights=[2, 3, 1])"
   ]
  },
  {
   "cell_type": "code",
   "execution_count": 92,
   "metadata": {},
   "outputs": [
    {
     "data": {
      "text/html": [
       "<style>#sk-container-id-8 {color: black;}#sk-container-id-8 pre{padding: 0;}#sk-container-id-8 div.sk-toggleable {background-color: white;}#sk-container-id-8 label.sk-toggleable__label {cursor: pointer;display: block;width: 100%;margin-bottom: 0;padding: 0.3em;box-sizing: border-box;text-align: center;}#sk-container-id-8 label.sk-toggleable__label-arrow:before {content: \"▸\";float: left;margin-right: 0.25em;color: #696969;}#sk-container-id-8 label.sk-toggleable__label-arrow:hover:before {color: black;}#sk-container-id-8 div.sk-estimator:hover label.sk-toggleable__label-arrow:before {color: black;}#sk-container-id-8 div.sk-toggleable__content {max-height: 0;max-width: 0;overflow: hidden;text-align: left;background-color: #f0f8ff;}#sk-container-id-8 div.sk-toggleable__content pre {margin: 0.2em;color: black;border-radius: 0.25em;background-color: #f0f8ff;}#sk-container-id-8 input.sk-toggleable__control:checked~div.sk-toggleable__content {max-height: 200px;max-width: 100%;overflow: auto;}#sk-container-id-8 input.sk-toggleable__control:checked~label.sk-toggleable__label-arrow:before {content: \"▾\";}#sk-container-id-8 div.sk-estimator input.sk-toggleable__control:checked~label.sk-toggleable__label {background-color: #d4ebff;}#sk-container-id-8 div.sk-label input.sk-toggleable__control:checked~label.sk-toggleable__label {background-color: #d4ebff;}#sk-container-id-8 input.sk-hidden--visually {border: 0;clip: rect(1px 1px 1px 1px);clip: rect(1px, 1px, 1px, 1px);height: 1px;margin: -1px;overflow: hidden;padding: 0;position: absolute;width: 1px;}#sk-container-id-8 div.sk-estimator {font-family: monospace;background-color: #f0f8ff;border: 1px dotted black;border-radius: 0.25em;box-sizing: border-box;margin-bottom: 0.5em;}#sk-container-id-8 div.sk-estimator:hover {background-color: #d4ebff;}#sk-container-id-8 div.sk-parallel-item::after {content: \"\";width: 100%;border-bottom: 1px solid gray;flex-grow: 1;}#sk-container-id-8 div.sk-label:hover label.sk-toggleable__label {background-color: #d4ebff;}#sk-container-id-8 div.sk-serial::before {content: \"\";position: absolute;border-left: 1px solid gray;box-sizing: border-box;top: 0;bottom: 0;left: 50%;z-index: 0;}#sk-container-id-8 div.sk-serial {display: flex;flex-direction: column;align-items: center;background-color: white;padding-right: 0.2em;padding-left: 0.2em;position: relative;}#sk-container-id-8 div.sk-item {position: relative;z-index: 1;}#sk-container-id-8 div.sk-parallel {display: flex;align-items: stretch;justify-content: center;background-color: white;position: relative;}#sk-container-id-8 div.sk-item::before, #sk-container-id-8 div.sk-parallel-item::before {content: \"\";position: absolute;border-left: 1px solid gray;box-sizing: border-box;top: 0;bottom: 0;left: 50%;z-index: -1;}#sk-container-id-8 div.sk-parallel-item {display: flex;flex-direction: column;z-index: 1;position: relative;background-color: white;}#sk-container-id-8 div.sk-parallel-item:first-child::after {align-self: flex-end;width: 50%;}#sk-container-id-8 div.sk-parallel-item:last-child::after {align-self: flex-start;width: 50%;}#sk-container-id-8 div.sk-parallel-item:only-child::after {width: 0;}#sk-container-id-8 div.sk-dashed-wrapped {border: 1px dashed gray;margin: 0 0.4em 0.5em 0.4em;box-sizing: border-box;padding-bottom: 0.4em;background-color: white;}#sk-container-id-8 div.sk-label label {font-family: monospace;font-weight: bold;display: inline-block;line-height: 1.2em;}#sk-container-id-8 div.sk-label-container {text-align: center;}#sk-container-id-8 div.sk-container {/* jupyter's `normalize.less` sets `[hidden] { display: none; }` but bootstrap.min.css set `[hidden] { display: none !important; }` so we also need the `!important` here to be able to override the default hidden behavior on the sphinx rendered scikit-learn.org. See: https://github.com/scikit-learn/scikit-learn/issues/21755 */display: inline-block !important;position: relative;}#sk-container-id-8 div.sk-text-repr-fallback {display: none;}</style><div id=\"sk-container-id-8\" class=\"sk-top-container\"><div class=\"sk-text-repr-fallback\"><pre>VotingRegressor(estimators=[(&#x27;gbr&#x27;,\n",
       "                             GradientBoostingRegressor(learning_rate=0.05,\n",
       "                                                       max_depth=20,\n",
       "                                                       max_features=0.1,\n",
       "                                                       min_samples_leaf=25,\n",
       "                                                       n_estimators=300,\n",
       "                                                       random_state=13)),\n",
       "                            (&#x27;xgb&#x27;,\n",
       "                             XGBRegressor(base_score=None, booster=None,\n",
       "                                          callbacks=None,\n",
       "                                          colsample_bylevel=None,\n",
       "                                          colsample_bynode=None,\n",
       "                                          colsample_bytree=0.8, device=None,\n",
       "                                          early_stopping_rounds=None,\n",
       "                                          enable_categoric...\n",
       "                                          interaction_constraints=None,\n",
       "                                          learning_rate=0.05, max_bin=None,\n",
       "                                          max_cat_threshold=None,\n",
       "                                          max_cat_to_onehot=None,\n",
       "                                          max_delta_step=None, max_depth=3,\n",
       "                                          max_leaves=None, min_child_weight=1,\n",
       "                                          missing=nan,\n",
       "                                          monotone_constraints=None,\n",
       "                                          multi_strategy=None, n_estimators=300,\n",
       "                                          n_jobs=None, num_parallel_tree=None,\n",
       "                                          random_state=13, ...)),\n",
       "                            (&#x27;ridge&#x27;, Ridge(alpha=10, solver=&#x27;sparse_cg&#x27;))],\n",
       "                weights=[2, 3, 1])</pre><b>In a Jupyter environment, please rerun this cell to show the HTML representation or trust the notebook. <br />On GitHub, the HTML representation is unable to render, please try loading this page with nbviewer.org.</b></div><div class=\"sk-container\" hidden><div class=\"sk-item sk-dashed-wrapped\"><div class=\"sk-label-container\"><div class=\"sk-label sk-toggleable\"><input class=\"sk-toggleable__control sk-hidden--visually\" id=\"sk-estimator-id-21\" type=\"checkbox\" ><label for=\"sk-estimator-id-21\" class=\"sk-toggleable__label sk-toggleable__label-arrow\">VotingRegressor</label><div class=\"sk-toggleable__content\"><pre>VotingRegressor(estimators=[(&#x27;gbr&#x27;,\n",
       "                             GradientBoostingRegressor(learning_rate=0.05,\n",
       "                                                       max_depth=20,\n",
       "                                                       max_features=0.1,\n",
       "                                                       min_samples_leaf=25,\n",
       "                                                       n_estimators=300,\n",
       "                                                       random_state=13)),\n",
       "                            (&#x27;xgb&#x27;,\n",
       "                             XGBRegressor(base_score=None, booster=None,\n",
       "                                          callbacks=None,\n",
       "                                          colsample_bylevel=None,\n",
       "                                          colsample_bynode=None,\n",
       "                                          colsample_bytree=0.8, device=None,\n",
       "                                          early_stopping_rounds=None,\n",
       "                                          enable_categoric...\n",
       "                                          interaction_constraints=None,\n",
       "                                          learning_rate=0.05, max_bin=None,\n",
       "                                          max_cat_threshold=None,\n",
       "                                          max_cat_to_onehot=None,\n",
       "                                          max_delta_step=None, max_depth=3,\n",
       "                                          max_leaves=None, min_child_weight=1,\n",
       "                                          missing=nan,\n",
       "                                          monotone_constraints=None,\n",
       "                                          multi_strategy=None, n_estimators=300,\n",
       "                                          n_jobs=None, num_parallel_tree=None,\n",
       "                                          random_state=13, ...)),\n",
       "                            (&#x27;ridge&#x27;, Ridge(alpha=10, solver=&#x27;sparse_cg&#x27;))],\n",
       "                weights=[2, 3, 1])</pre></div></div></div><div class=\"sk-parallel\"><div class=\"sk-parallel-item\"><div class=\"sk-item\"><div class=\"sk-label-container\"><div class=\"sk-label sk-toggleable\"><label>gbr</label></div></div><div class=\"sk-serial\"><div class=\"sk-item\"><div class=\"sk-estimator sk-toggleable\"><input class=\"sk-toggleable__control sk-hidden--visually\" id=\"sk-estimator-id-22\" type=\"checkbox\" ><label for=\"sk-estimator-id-22\" class=\"sk-toggleable__label sk-toggleable__label-arrow\">GradientBoostingRegressor</label><div class=\"sk-toggleable__content\"><pre>GradientBoostingRegressor(learning_rate=0.05, max_depth=20, max_features=0.1,\n",
       "                          min_samples_leaf=25, n_estimators=300,\n",
       "                          random_state=13)</pre></div></div></div></div></div></div><div class=\"sk-parallel-item\"><div class=\"sk-item\"><div class=\"sk-label-container\"><div class=\"sk-label sk-toggleable\"><label>xgb</label></div></div><div class=\"sk-serial\"><div class=\"sk-item\"><div class=\"sk-estimator sk-toggleable\"><input class=\"sk-toggleable__control sk-hidden--visually\" id=\"sk-estimator-id-23\" type=\"checkbox\" ><label for=\"sk-estimator-id-23\" class=\"sk-toggleable__label sk-toggleable__label-arrow\">XGBRegressor</label><div class=\"sk-toggleable__content\"><pre>XGBRegressor(base_score=None, booster=None, callbacks=None,\n",
       "             colsample_bylevel=None, colsample_bynode=None,\n",
       "             colsample_bytree=0.8, device=None, early_stopping_rounds=None,\n",
       "             enable_categorical=False, eval_metric=None, feature_types=None,\n",
       "             gamma=0, grow_policy=None, importance_type=None,\n",
       "             interaction_constraints=None, learning_rate=0.05, max_bin=None,\n",
       "             max_cat_threshold=None, max_cat_to_onehot=None,\n",
       "             max_delta_step=None, max_depth=3, max_leaves=None,\n",
       "             min_child_weight=1, missing=nan, monotone_constraints=None,\n",
       "             multi_strategy=None, n_estimators=300, n_jobs=None,\n",
       "             num_parallel_tree=None, random_state=13, ...)</pre></div></div></div></div></div></div><div class=\"sk-parallel-item\"><div class=\"sk-item\"><div class=\"sk-label-container\"><div class=\"sk-label sk-toggleable\"><label>ridge</label></div></div><div class=\"sk-serial\"><div class=\"sk-item\"><div class=\"sk-estimator sk-toggleable\"><input class=\"sk-toggleable__control sk-hidden--visually\" id=\"sk-estimator-id-24\" type=\"checkbox\" ><label for=\"sk-estimator-id-24\" class=\"sk-toggleable__label sk-toggleable__label-arrow\">Ridge</label><div class=\"sk-toggleable__content\"><pre>Ridge(alpha=10, solver=&#x27;sparse_cg&#x27;)</pre></div></div></div></div></div></div></div></div></div></div>"
      ],
      "text/plain": [
       "VotingRegressor(estimators=[('gbr',\n",
       "                             GradientBoostingRegressor(learning_rate=0.05,\n",
       "                                                       max_depth=20,\n",
       "                                                       max_features=0.1,\n",
       "                                                       min_samples_leaf=25,\n",
       "                                                       n_estimators=300,\n",
       "                                                       random_state=13)),\n",
       "                            ('xgb',\n",
       "                             XGBRegressor(base_score=None, booster=None,\n",
       "                                          callbacks=None,\n",
       "                                          colsample_bylevel=None,\n",
       "                                          colsample_bynode=None,\n",
       "                                          colsample_bytree=0.8, device=None,\n",
       "                                          early_stopping_rounds=None,\n",
       "                                          enable_categoric...\n",
       "                                          interaction_constraints=None,\n",
       "                                          learning_rate=0.05, max_bin=None,\n",
       "                                          max_cat_threshold=None,\n",
       "                                          max_cat_to_onehot=None,\n",
       "                                          max_delta_step=None, max_depth=3,\n",
       "                                          max_leaves=None, min_child_weight=1,\n",
       "                                          missing=nan,\n",
       "                                          monotone_constraints=None,\n",
       "                                          multi_strategy=None, n_estimators=300,\n",
       "                                          n_jobs=None, num_parallel_tree=None,\n",
       "                                          random_state=13, ...)),\n",
       "                            ('ridge', Ridge(alpha=10, solver='sparse_cg'))],\n",
       "                weights=[2, 3, 1])"
      ]
     },
     "execution_count": 92,
     "metadata": {},
     "output_type": "execute_result"
    }
   ],
   "source": [
    "vr.fit(X_train, y_train)"
   ]
  },
  {
   "cell_type": "code",
   "execution_count": 96,
   "metadata": {},
   "outputs": [],
   "source": [
    "y_pred_vr = vr.predict(X_test)"
   ]
  },
  {
   "cell_type": "code",
   "execution_count": 98,
   "metadata": {},
   "outputs": [
    {
     "data": {
      "text/plain": [
       "0.11764969996287623"
      ]
     },
     "execution_count": 98,
     "metadata": {},
     "output_type": "execute_result"
    }
   ],
   "source": [
    "mean_squared_error(y_test, y_pred_vr, squared=False)"
   ]
  },
  {
   "cell_type": "code",
   "execution_count": 108,
   "metadata": {},
   "outputs": [],
   "source": [
    "estimators = [\n",
    "    ('gbr', GBR_cv.best_estimator_),\n",
    "    ('xbg', xgb_cv.best_estimator_),\n",
    "    ('car', CatBoostRegressor_cv.best_estimator_),\n",
    "    ('lgbm', lgbm_regressor_cv.best_estimator_),\n",
    "    ('rfr', rfr_cv.best_estimator_),\n",
    "]"
   ]
  },
  {
   "cell_type": "code",
   "execution_count": 109,
   "metadata": {},
   "outputs": [],
   "source": [
    "stackregressor = StackingRegressor(\n",
    "                            estimators = estimators,\n",
    "                            final_estimator = vr)"
   ]
  },
  {
   "cell_type": "code",
   "execution_count": 110,
   "metadata": {},
   "outputs": [
    {
     "name": "stdout",
     "output_type": "stream",
     "text": [
      "[LightGBM] [Info] Auto-choosing col-wise multi-threading, the overhead of testing was 0.001018 seconds.\n",
      "You can set `force_col_wise=true` to remove the overhead.\n",
      "[LightGBM] [Info] Total Bins 1996\n",
      "[LightGBM] [Info] Number of data points in the train set: 1151, number of used features: 111\n",
      "[LightGBM] [Info] Start training from score 12.023259\n",
      "[LightGBM] [Info] Auto-choosing col-wise multi-threading, the overhead of testing was 0.000610 seconds.\n",
      "You can set `force_col_wise=true` to remove the overhead.\n",
      "[LightGBM] [Info] Total Bins 1898\n",
      "[LightGBM] [Info] Number of data points in the train set: 920, number of used features: 105\n",
      "[LightGBM] [Info] Start training from score 12.032469\n",
      "[LightGBM] [Info] Auto-choosing col-wise multi-threading, the overhead of testing was 0.000644 seconds.\n",
      "You can set `force_col_wise=true` to remove the overhead.\n",
      "[LightGBM] [Info] Total Bins 1886\n",
      "[LightGBM] [Info] Number of data points in the train set: 921, number of used features: 106\n",
      "[LightGBM] [Info] Start training from score 12.018337\n",
      "[LightGBM] [Info] Auto-choosing col-wise multi-threading, the overhead of testing was 0.000845 seconds.\n",
      "You can set `force_col_wise=true` to remove the overhead.\n",
      "[LightGBM] [Info] Total Bins 1897\n",
      "[LightGBM] [Info] Number of data points in the train set: 921, number of used features: 107\n",
      "[LightGBM] [Info] Start training from score 12.020647\n",
      "[LightGBM] [Info] Auto-choosing col-wise multi-threading, the overhead of testing was 0.000618 seconds.\n",
      "You can set `force_col_wise=true` to remove the overhead.\n",
      "[LightGBM] [Info] Total Bins 1889\n",
      "[LightGBM] [Info] Number of data points in the train set: 921, number of used features: 107\n",
      "[LightGBM] [Info] Start training from score 12.021127\n",
      "[LightGBM] [Info] Auto-choosing col-wise multi-threading, the overhead of testing was 0.000852 seconds.\n",
      "You can set `force_col_wise=true` to remove the overhead.\n",
      "[LightGBM] [Info] Total Bins 1890\n",
      "[LightGBM] [Info] Number of data points in the train set: 921, number of used features: 108\n",
      "[LightGBM] [Info] Start training from score 12.023724\n"
     ]
    },
    {
     "data": {
      "text/html": [
       "<style>#sk-container-id-10 {color: black;}#sk-container-id-10 pre{padding: 0;}#sk-container-id-10 div.sk-toggleable {background-color: white;}#sk-container-id-10 label.sk-toggleable__label {cursor: pointer;display: block;width: 100%;margin-bottom: 0;padding: 0.3em;box-sizing: border-box;text-align: center;}#sk-container-id-10 label.sk-toggleable__label-arrow:before {content: \"▸\";float: left;margin-right: 0.25em;color: #696969;}#sk-container-id-10 label.sk-toggleable__label-arrow:hover:before {color: black;}#sk-container-id-10 div.sk-estimator:hover label.sk-toggleable__label-arrow:before {color: black;}#sk-container-id-10 div.sk-toggleable__content {max-height: 0;max-width: 0;overflow: hidden;text-align: left;background-color: #f0f8ff;}#sk-container-id-10 div.sk-toggleable__content pre {margin: 0.2em;color: black;border-radius: 0.25em;background-color: #f0f8ff;}#sk-container-id-10 input.sk-toggleable__control:checked~div.sk-toggleable__content {max-height: 200px;max-width: 100%;overflow: auto;}#sk-container-id-10 input.sk-toggleable__control:checked~label.sk-toggleable__label-arrow:before {content: \"▾\";}#sk-container-id-10 div.sk-estimator input.sk-toggleable__control:checked~label.sk-toggleable__label {background-color: #d4ebff;}#sk-container-id-10 div.sk-label input.sk-toggleable__control:checked~label.sk-toggleable__label {background-color: #d4ebff;}#sk-container-id-10 input.sk-hidden--visually {border: 0;clip: rect(1px 1px 1px 1px);clip: rect(1px, 1px, 1px, 1px);height: 1px;margin: -1px;overflow: hidden;padding: 0;position: absolute;width: 1px;}#sk-container-id-10 div.sk-estimator {font-family: monospace;background-color: #f0f8ff;border: 1px dotted black;border-radius: 0.25em;box-sizing: border-box;margin-bottom: 0.5em;}#sk-container-id-10 div.sk-estimator:hover {background-color: #d4ebff;}#sk-container-id-10 div.sk-parallel-item::after {content: \"\";width: 100%;border-bottom: 1px solid gray;flex-grow: 1;}#sk-container-id-10 div.sk-label:hover label.sk-toggleable__label {background-color: #d4ebff;}#sk-container-id-10 div.sk-serial::before {content: \"\";position: absolute;border-left: 1px solid gray;box-sizing: border-box;top: 0;bottom: 0;left: 50%;z-index: 0;}#sk-container-id-10 div.sk-serial {display: flex;flex-direction: column;align-items: center;background-color: white;padding-right: 0.2em;padding-left: 0.2em;position: relative;}#sk-container-id-10 div.sk-item {position: relative;z-index: 1;}#sk-container-id-10 div.sk-parallel {display: flex;align-items: stretch;justify-content: center;background-color: white;position: relative;}#sk-container-id-10 div.sk-item::before, #sk-container-id-10 div.sk-parallel-item::before {content: \"\";position: absolute;border-left: 1px solid gray;box-sizing: border-box;top: 0;bottom: 0;left: 50%;z-index: -1;}#sk-container-id-10 div.sk-parallel-item {display: flex;flex-direction: column;z-index: 1;position: relative;background-color: white;}#sk-container-id-10 div.sk-parallel-item:first-child::after {align-self: flex-end;width: 50%;}#sk-container-id-10 div.sk-parallel-item:last-child::after {align-self: flex-start;width: 50%;}#sk-container-id-10 div.sk-parallel-item:only-child::after {width: 0;}#sk-container-id-10 div.sk-dashed-wrapped {border: 1px dashed gray;margin: 0 0.4em 0.5em 0.4em;box-sizing: border-box;padding-bottom: 0.4em;background-color: white;}#sk-container-id-10 div.sk-label label {font-family: monospace;font-weight: bold;display: inline-block;line-height: 1.2em;}#sk-container-id-10 div.sk-label-container {text-align: center;}#sk-container-id-10 div.sk-container {/* jupyter's `normalize.less` sets `[hidden] { display: none; }` but bootstrap.min.css set `[hidden] { display: none !important; }` so we also need the `!important` here to be able to override the default hidden behavior on the sphinx rendered scikit-learn.org. See: https://github.com/scikit-learn/scikit-learn/issues/21755 */display: inline-block !important;position: relative;}#sk-container-id-10 div.sk-text-repr-fallback {display: none;}</style><div id=\"sk-container-id-10\" class=\"sk-top-container\"><div class=\"sk-text-repr-fallback\"><pre>StackingRegressor(estimators=[(&#x27;gbr&#x27;,\n",
       "                               GradientBoostingRegressor(learning_rate=0.05,\n",
       "                                                         max_depth=20,\n",
       "                                                         max_features=0.1,\n",
       "                                                         min_samples_leaf=25,\n",
       "                                                         n_estimators=300,\n",
       "                                                         random_state=13)),\n",
       "                              (&#x27;xbg&#x27;,\n",
       "                               XGBRegressor(base_score=None, booster=None,\n",
       "                                            callbacks=None,\n",
       "                                            colsample_bylevel=None,\n",
       "                                            colsample_bynode=None,\n",
       "                                            colsample_bytree=0.8, device=None,\n",
       "                                            early_stopping_rounds=None,\n",
       "                                            enable_categor...\n",
       "                                                                            interaction_constraints=None,\n",
       "                                                                            learning_rate=0.05,\n",
       "                                                                            max_bin=None,\n",
       "                                                                            max_cat_threshold=None,\n",
       "                                                                            max_cat_to_onehot=None,\n",
       "                                                                            max_delta_step=None,\n",
       "                                                                            max_depth=3,\n",
       "                                                                            max_leaves=None,\n",
       "                                                                            min_child_weight=1,\n",
       "                                                                            missing=nan,\n",
       "                                                                            monotone_constraints=None,\n",
       "                                                                            multi_strategy=None,\n",
       "                                                                            n_estimators=300,\n",
       "                                                                            n_jobs=None,\n",
       "                                                                            num_parallel_tree=None,\n",
       "                                                                            random_state=13, ...)),\n",
       "                                                              (&#x27;ridge&#x27;,\n",
       "                                                               Ridge(alpha=10,\n",
       "                                                                     solver=&#x27;sparse_cg&#x27;))],\n",
       "                                                  weights=[2, 3, 1]))</pre><b>In a Jupyter environment, please rerun this cell to show the HTML representation or trust the notebook. <br />On GitHub, the HTML representation is unable to render, please try loading this page with nbviewer.org.</b></div><div class=\"sk-container\" hidden><div class=\"sk-item sk-dashed-wrapped\"><div class=\"sk-label-container\"><div class=\"sk-label sk-toggleable\"><input class=\"sk-toggleable__control sk-hidden--visually\" id=\"sk-estimator-id-28\" type=\"checkbox\" ><label for=\"sk-estimator-id-28\" class=\"sk-toggleable__label sk-toggleable__label-arrow\">StackingRegressor</label><div class=\"sk-toggleable__content\"><pre>StackingRegressor(estimators=[(&#x27;gbr&#x27;,\n",
       "                               GradientBoostingRegressor(learning_rate=0.05,\n",
       "                                                         max_depth=20,\n",
       "                                                         max_features=0.1,\n",
       "                                                         min_samples_leaf=25,\n",
       "                                                         n_estimators=300,\n",
       "                                                         random_state=13)),\n",
       "                              (&#x27;xbg&#x27;,\n",
       "                               XGBRegressor(base_score=None, booster=None,\n",
       "                                            callbacks=None,\n",
       "                                            colsample_bylevel=None,\n",
       "                                            colsample_bynode=None,\n",
       "                                            colsample_bytree=0.8, device=None,\n",
       "                                            early_stopping_rounds=None,\n",
       "                                            enable_categor...\n",
       "                                                                            interaction_constraints=None,\n",
       "                                                                            learning_rate=0.05,\n",
       "                                                                            max_bin=None,\n",
       "                                                                            max_cat_threshold=None,\n",
       "                                                                            max_cat_to_onehot=None,\n",
       "                                                                            max_delta_step=None,\n",
       "                                                                            max_depth=3,\n",
       "                                                                            max_leaves=None,\n",
       "                                                                            min_child_weight=1,\n",
       "                                                                            missing=nan,\n",
       "                                                                            monotone_constraints=None,\n",
       "                                                                            multi_strategy=None,\n",
       "                                                                            n_estimators=300,\n",
       "                                                                            n_jobs=None,\n",
       "                                                                            num_parallel_tree=None,\n",
       "                                                                            random_state=13, ...)),\n",
       "                                                              (&#x27;ridge&#x27;,\n",
       "                                                               Ridge(alpha=10,\n",
       "                                                                     solver=&#x27;sparse_cg&#x27;))],\n",
       "                                                  weights=[2, 3, 1]))</pre></div></div></div><div class=\"sk-serial\"><div class=\"sk-item\"><div class=\"sk-parallel\"><div class=\"sk-parallel-item\"><div class=\"sk-item\"><div class=\"sk-label-container\"><div class=\"sk-label sk-toggleable\"><label>gbr</label></div></div><div class=\"sk-serial\"><div class=\"sk-item\"><div class=\"sk-estimator sk-toggleable\"><input class=\"sk-toggleable__control sk-hidden--visually\" id=\"sk-estimator-id-29\" type=\"checkbox\" ><label for=\"sk-estimator-id-29\" class=\"sk-toggleable__label sk-toggleable__label-arrow\">GradientBoostingRegressor</label><div class=\"sk-toggleable__content\"><pre>GradientBoostingRegressor(learning_rate=0.05, max_depth=20, max_features=0.1,\n",
       "                          min_samples_leaf=25, n_estimators=300,\n",
       "                          random_state=13)</pre></div></div></div></div></div></div><div class=\"sk-parallel-item\"><div class=\"sk-item\"><div class=\"sk-label-container\"><div class=\"sk-label sk-toggleable\"><label>xbg</label></div></div><div class=\"sk-serial\"><div class=\"sk-item\"><div class=\"sk-estimator sk-toggleable\"><input class=\"sk-toggleable__control sk-hidden--visually\" id=\"sk-estimator-id-30\" type=\"checkbox\" ><label for=\"sk-estimator-id-30\" class=\"sk-toggleable__label sk-toggleable__label-arrow\">XGBRegressor</label><div class=\"sk-toggleable__content\"><pre>XGBRegressor(base_score=None, booster=None, callbacks=None,\n",
       "             colsample_bylevel=None, colsample_bynode=None,\n",
       "             colsample_bytree=0.8, device=None, early_stopping_rounds=None,\n",
       "             enable_categorical=False, eval_metric=None, feature_types=None,\n",
       "             gamma=0, grow_policy=None, importance_type=None,\n",
       "             interaction_constraints=None, learning_rate=0.05, max_bin=None,\n",
       "             max_cat_threshold=None, max_cat_to_onehot=None,\n",
       "             max_delta_step=None, max_depth=3, max_leaves=None,\n",
       "             min_child_weight=1, missing=nan, monotone_constraints=None,\n",
       "             multi_strategy=None, n_estimators=300, n_jobs=None,\n",
       "             num_parallel_tree=None, random_state=13, ...)</pre></div></div></div></div></div></div><div class=\"sk-parallel-item\"><div class=\"sk-item\"><div class=\"sk-label-container\"><div class=\"sk-label sk-toggleable\"><label>car</label></div></div><div class=\"sk-serial\"><div class=\"sk-item\"><div class=\"sk-estimator sk-toggleable\"><input class=\"sk-toggleable__control sk-hidden--visually\" id=\"sk-estimator-id-31\" type=\"checkbox\" ><label for=\"sk-estimator-id-31\" class=\"sk-toggleable__label sk-toggleable__label-arrow\">CatBoostRegressor</label><div class=\"sk-toggleable__content\"><pre>&lt;catboost.core.CatBoostRegressor object at 0x0000019510AFCC50&gt;</pre></div></div></div></div></div></div><div class=\"sk-parallel-item\"><div class=\"sk-item\"><div class=\"sk-label-container\"><div class=\"sk-label sk-toggleable\"><label>lgbm</label></div></div><div class=\"sk-serial\"><div class=\"sk-item\"><div class=\"sk-estimator sk-toggleable\"><input class=\"sk-toggleable__control sk-hidden--visually\" id=\"sk-estimator-id-32\" type=\"checkbox\" ><label for=\"sk-estimator-id-32\" class=\"sk-toggleable__label sk-toggleable__label-arrow\">LGBMRegressor</label><div class=\"sk-toggleable__content\"><pre>LGBMRegressor(learning_rate=0.05, n_estimators=300, num_leaves=20,\n",
       "              random_state=13)</pre></div></div></div></div></div></div><div class=\"sk-parallel-item\"><div class=\"sk-item\"><div class=\"sk-label-container\"><div class=\"sk-label sk-toggleable\"><label>rfr</label></div></div><div class=\"sk-serial\"><div class=\"sk-item\"><div class=\"sk-estimator sk-toggleable\"><input class=\"sk-toggleable__control sk-hidden--visually\" id=\"sk-estimator-id-33\" type=\"checkbox\" ><label for=\"sk-estimator-id-33\" class=\"sk-toggleable__label sk-toggleable__label-arrow\">RandomForestRegressor</label><div class=\"sk-toggleable__content\"><pre>RandomForestRegressor(max_depth=15, min_samples_split=3, random_state=13)</pre></div></div></div></div></div></div></div></div><div class=\"sk-item\"><div class=\"sk-parallel\"><div class=\"sk-parallel-item\"><div class=\"sk-item\"><div class=\"sk-label-container\"><div class=\"sk-label sk-toggleable\"><label>final_estimator</label></div></div><div class=\"sk-serial\"><div class=\"sk-item sk-dashed-wrapped\"><div class=\"sk-parallel\"><div class=\"sk-parallel-item\"><div class=\"sk-item\"><div class=\"sk-label-container\"><div class=\"sk-label sk-toggleable\"><label>gbr</label></div></div><div class=\"sk-serial\"><div class=\"sk-item\"><div class=\"sk-estimator sk-toggleable\"><input class=\"sk-toggleable__control sk-hidden--visually\" id=\"sk-estimator-id-34\" type=\"checkbox\" ><label for=\"sk-estimator-id-34\" class=\"sk-toggleable__label sk-toggleable__label-arrow\">GradientBoostingRegressor</label><div class=\"sk-toggleable__content\"><pre>GradientBoostingRegressor(learning_rate=0.05, max_depth=20, max_features=0.1,\n",
       "                          min_samples_leaf=25, n_estimators=300,\n",
       "                          random_state=13)</pre></div></div></div></div></div></div><div class=\"sk-parallel-item\"><div class=\"sk-item\"><div class=\"sk-label-container\"><div class=\"sk-label sk-toggleable\"><label>xgb</label></div></div><div class=\"sk-serial\"><div class=\"sk-item\"><div class=\"sk-estimator sk-toggleable\"><input class=\"sk-toggleable__control sk-hidden--visually\" id=\"sk-estimator-id-35\" type=\"checkbox\" ><label for=\"sk-estimator-id-35\" class=\"sk-toggleable__label sk-toggleable__label-arrow\">XGBRegressor</label><div class=\"sk-toggleable__content\"><pre>XGBRegressor(base_score=None, booster=None, callbacks=None,\n",
       "             colsample_bylevel=None, colsample_bynode=None,\n",
       "             colsample_bytree=0.8, device=None, early_stopping_rounds=None,\n",
       "             enable_categorical=False, eval_metric=None, feature_types=None,\n",
       "             gamma=0, grow_policy=None, importance_type=None,\n",
       "             interaction_constraints=None, learning_rate=0.05, max_bin=None,\n",
       "             max_cat_threshold=None, max_cat_to_onehot=None,\n",
       "             max_delta_step=None, max_depth=3, max_leaves=None,\n",
       "             min_child_weight=1, missing=nan, monotone_constraints=None,\n",
       "             multi_strategy=None, n_estimators=300, n_jobs=None,\n",
       "             num_parallel_tree=None, random_state=13, ...)</pre></div></div></div></div></div></div><div class=\"sk-parallel-item\"><div class=\"sk-item\"><div class=\"sk-label-container\"><div class=\"sk-label sk-toggleable\"><label>ridge</label></div></div><div class=\"sk-serial\"><div class=\"sk-item\"><div class=\"sk-estimator sk-toggleable\"><input class=\"sk-toggleable__control sk-hidden--visually\" id=\"sk-estimator-id-36\" type=\"checkbox\" ><label for=\"sk-estimator-id-36\" class=\"sk-toggleable__label sk-toggleable__label-arrow\">Ridge</label><div class=\"sk-toggleable__content\"><pre>Ridge(alpha=10, solver=&#x27;sparse_cg&#x27;)</pre></div></div></div></div></div></div></div></div></div></div></div></div></div></div></div></div></div>"
      ],
      "text/plain": [
       "StackingRegressor(estimators=[('gbr',\n",
       "                               GradientBoostingRegressor(learning_rate=0.05,\n",
       "                                                         max_depth=20,\n",
       "                                                         max_features=0.1,\n",
       "                                                         min_samples_leaf=25,\n",
       "                                                         n_estimators=300,\n",
       "                                                         random_state=13)),\n",
       "                              ('xbg',\n",
       "                               XGBRegressor(base_score=None, booster=None,\n",
       "                                            callbacks=None,\n",
       "                                            colsample_bylevel=None,\n",
       "                                            colsample_bynode=None,\n",
       "                                            colsample_bytree=0.8, device=None,\n",
       "                                            early_stopping_rounds=None,\n",
       "                                            enable_categor...\n",
       "                                                                            interaction_constraints=None,\n",
       "                                                                            learning_rate=0.05,\n",
       "                                                                            max_bin=None,\n",
       "                                                                            max_cat_threshold=None,\n",
       "                                                                            max_cat_to_onehot=None,\n",
       "                                                                            max_delta_step=None,\n",
       "                                                                            max_depth=3,\n",
       "                                                                            max_leaves=None,\n",
       "                                                                            min_child_weight=1,\n",
       "                                                                            missing=nan,\n",
       "                                                                            monotone_constraints=None,\n",
       "                                                                            multi_strategy=None,\n",
       "                                                                            n_estimators=300,\n",
       "                                                                            n_jobs=None,\n",
       "                                                                            num_parallel_tree=None,\n",
       "                                                                            random_state=13, ...)),\n",
       "                                                              ('ridge',\n",
       "                                                               Ridge(alpha=10,\n",
       "                                                                     solver='sparse_cg'))],\n",
       "                                                  weights=[2, 3, 1]))"
      ]
     },
     "execution_count": 110,
     "metadata": {},
     "output_type": "execute_result"
    }
   ],
   "source": [
    "stackregressor.fit(X_train, y_train)"
   ]
  },
  {
   "cell_type": "code",
   "execution_count": 111,
   "metadata": {},
   "outputs": [
    {
     "data": {
      "text/plain": [
       "0.11611978347596108"
      ]
     },
     "execution_count": 111,
     "metadata": {},
     "output_type": "execute_result"
    }
   ],
   "source": [
    "mean_squared_error(y_test, stackregressor.predict(X_test), squared=False)"
   ]
  },
  {
   "cell_type": "code",
   "execution_count": null,
   "metadata": {},
   "outputs": [],
   "source": [
    "df_test_preprocessed = pipeline.transform(test_df)"
   ]
  },
  {
   "cell_type": "code",
   "execution_count": null,
   "metadata": {},
   "outputs": [],
   "source": [
    "y_stacking = np.expm1(stackregressor.predict(df_test_preprocessed))"
   ]
  },
  {
   "cell_type": "code",
   "execution_count": 119,
   "metadata": {},
   "outputs": [
    {
     "data": {
      "text/plain": [
       "1059    12.043560\n",
       "732     12.371591\n",
       "546     11.635152\n",
       "297     11.964007\n",
       "768     12.139404\n",
       "          ...    \n",
       "1341    11.560772\n",
       "143     12.225880\n",
       "474     12.832014\n",
       "318     12.614869\n",
       "1156    12.208575\n",
       "Name: SalePrice, Length: 1151, dtype: float64"
      ]
     },
     "execution_count": 119,
     "metadata": {},
     "output_type": "execute_result"
    }
   ],
   "source": [
    "y_train"
   ]
  },
  {
   "cell_type": "code",
   "execution_count": 120,
   "metadata": {},
   "outputs": [
    {
     "data": {
      "text/plain": [
       "543     12.450982\n",
       "123     11.944065\n",
       "1262    12.100718\n",
       "270     11.842236\n",
       "775     12.141539\n",
       "          ...    \n",
       "1333    12.367345\n",
       "446     12.254868\n",
       "683     12.078245\n",
       "1204    11.834291\n",
       "1339    12.149508\n",
       "Name: SalePrice, Length: 288, dtype: float64"
      ]
     },
     "execution_count": 120,
     "metadata": {},
     "output_type": "execute_result"
    }
   ],
   "source": [
    "y_test"
   ]
  },
  {
   "cell_type": "code",
   "execution_count": 122,
   "metadata": {},
   "outputs": [
    {
     "data": {
      "text/html": [
       "<div>\n",
       "<style scoped>\n",
       "    .dataframe tbody tr th:only-of-type {\n",
       "        vertical-align: middle;\n",
       "    }\n",
       "\n",
       "    .dataframe tbody tr th {\n",
       "        vertical-align: top;\n",
       "    }\n",
       "\n",
       "    .dataframe thead th {\n",
       "        text-align: right;\n",
       "    }\n",
       "</style>\n",
       "<table border=\"1\" class=\"dataframe\">\n",
       "  <thead>\n",
       "    <tr style=\"text-align: right;\">\n",
       "      <th></th>\n",
       "      <th>Model</th>\n",
       "      <th>Root Mean Squared Error (RMSE)</th>\n",
       "      <th>R-squared (Training)</th>\n",
       "      <th>R-squared (Test)</th>\n",
       "      <th>5-Fold Cross Validation</th>\n",
       "    </tr>\n",
       "  </thead>\n",
       "  <tbody>\n",
       "    <tr>\n",
       "      <th>0</th>\n",
       "      <td>Linear Regression</td>\n",
       "      <td>4.329382e+18</td>\n",
       "      <td>0.944497</td>\n",
       "      <td>-2.739622e+19</td>\n",
       "      <td>1.141955e+09</td>\n",
       "    </tr>\n",
       "  </tbody>\n",
       "</table>\n",
       "</div>"
      ],
      "text/plain": [
       "               Model  Root Mean Squared Error (RMSE)  R-squared (Training)  \\\n",
       "0  Linear Regression                    4.329382e+18              0.944497   \n",
       "\n",
       "   R-squared (Test)  5-Fold Cross Validation  \n",
       "0     -2.739622e+19             1.141955e+09  "
      ]
     },
     "execution_count": 122,
     "metadata": {},
     "output_type": "execute_result"
    }
   ],
   "source": [
    "# Initialize the evaluation DataFrame\n",
    "evaluation_df = pd.DataFrame({\n",
    "    'Model': [],\n",
    "    'Root Mean Squared Error (RMSE)': [],\n",
    "    'R-squared (Training)': [],\n",
    "    'R-squared (Test)': [],\n",
    "    '5-Fold Cross Validation': []\n",
    "})\n",
    "\n",
    "# Define your models\n",
    "models = {\n",
    "    'Linear Regression': linearRegression\n",
    "}\n",
    "\n",
    "# Loop through each model\n",
    "for model_name, model in models.items():\n",
    "    # Predictions\n",
    "    y_train_pred = model.predict(X_train)\n",
    "    y_test_pred = model.predict(X_test)\n",
    "    \n",
    "    # Metrics for training and test sets\n",
    "    rmse_train = mean_squared_error(y_train, y_train_pred)\n",
    "    rmse_test = np.sqrt(mean_squared_error(y_test, y_test_pred))\n",
    "    r2_train = r2_score(y_train, y_train_pred)\n",
    "    r2_test = r2_score(y_test, y_test_pred)\n",
    "    \n",
    "    # Cross-validation score (if applicable)\n",
    "    if hasattr(model, 'best_score_'):  # For models with cross-validation during training\n",
    "        cv_score = -model.best_score_\n",
    "    else:\n",
    "        cv_score = np.mean(cross_val_score(model, X_train, y_train, cv=5, scoring='neg_mean_squared_error'))\n",
    "        cv_score = np.sqrt(-cv_score)\n",
    "    \n",
    "    # Create a DataFrame for the current model\n",
    "    row_df = pd.DataFrame({\n",
    "        'Model': [model_name],\n",
    "        'Root Mean Squared Error (RMSE)': [rmse_test],\n",
    "        'R-squared (Training)': [r2_train],\n",
    "        'R-squared (Test)': [r2_test],\n",
    "        '5-Fold Cross Validation': [cv_score]\n",
    "    })\n",
    "\n",
    "    # Concatenate the new row to the evaluation DataFrame\n",
    "    evaluation_df = pd.concat([evaluation_df, row_df], ignore_index=True)\n",
    "\n",
    "# Sort and display the evaluation table\n",
    "evaluation_df = evaluation_df.sort_values(by='Root Mean Squared Error (RMSE)', ascending=True).reset_index(drop=True)\n",
    "evaluation_df\n"
   ]
  },
  {
   "cell_type": "code",
   "execution_count": 56,
   "metadata": {},
   "outputs": [
    {
     "ename": "SyntaxError",
     "evalue": "unterminated string literal (detected at line 39) (3235033281.py, line 39)",
     "output_type": "error",
     "traceback": [
      "\u001b[1;36m  Cell \u001b[1;32mIn[56], line 39\u001b[1;36m\u001b[0m\n\u001b[1;33m    ''''\u001b[0m\n\u001b[1;37m       ^\u001b[0m\n\u001b[1;31mSyntaxError\u001b[0m\u001b[1;31m:\u001b[0m unterminated string literal (detected at line 39)\n"
     ]
    }
   ],
   "source": [
    "''''\n",
    "MSZoning         object\n",
    "Street           object\n",
    "LotShape         object\n",
    "LandContour      object\n",
    "Utilities        object\n",
    "LotConfig        object\n",
    "LandSlope        object\n",
    "Neighborhood     object\n",
    "Condition1       object\n",
    "Condition2       object\n",
    "BldgType         object\n",
    "HouseStyle       object\n",
    "RoofStyle        object\n",
    "RoofMatl         object\n",
    "Exterior1st      object\n",
    "Exterior2nd      object\n",
    "MasVnrType       object\n",
    "ExterQual        object\n",
    "ExterCond        object\n",
    "Foundation       object\n",
    "BsmtQual         object\n",
    "BsmtCond         object\n",
    "BsmtExposure     object\n",
    "BsmtFinType1     object\n",
    "Heating          object\n",
    "HeatingQC        object\n",
    "CentralAir       object\n",
    "Electrical       object\n",
    "KitchenQual      object\n",
    "Functional       object\n",
    "FireplaceQu      object\n",
    "GarageType       object\n",
    "GarageFinish     object\n",
    "GarageQual       object\n",
    "PavedDrive       object\n",
    "SaleType         object\n",
    "SaleCondition    object\n",
    "''''"
   ]
  },
  {
   "cell_type": "code",
   "execution_count": 207,
   "metadata": {},
   "outputs": [
    {
     "ename": "SyntaxError",
     "evalue": "unterminated string literal (detected at line 39) (3235033281.py, line 39)",
     "output_type": "error",
     "traceback": [
      "\u001b[1;36m  Cell \u001b[1;32mIn[207], line 39\u001b[1;36m\u001b[0m\n\u001b[1;33m    ''''\u001b[0m\n\u001b[1;37m       ^\u001b[0m\n\u001b[1;31mSyntaxError\u001b[0m\u001b[1;31m:\u001b[0m unterminated string literal (detected at line 39)\n"
     ]
    }
   ],
   "source": [
    "''''\n",
    "MSZoning         object\n",
    "Street           object\n",
    "LotShape         object\n",
    "LandContour      object\n",
    "Utilities        object\n",
    "LotConfig        object\n",
    "LandSlope        object\n",
    "Neighborhood     object\n",
    "Condition1       object\n",
    "Condition2       object\n",
    "BldgType         object\n",
    "HouseStyle       object\n",
    "RoofStyle        object\n",
    "RoofMatl         object\n",
    "Exterior1st      object\n",
    "Exterior2nd      object\n",
    "MasVnrType       object\n",
    "ExterQual        object\n",
    "ExterCond        object\n",
    "Foundation       object\n",
    "BsmtQual         object\n",
    "BsmtCond         object\n",
    "BsmtExposure     object\n",
    "BsmtFinType1     object\n",
    "Heating          object\n",
    "HeatingQC        object\n",
    "CentralAir       object\n",
    "Electrical       object\n",
    "KitchenQual      object\n",
    "Functional       object\n",
    "FireplaceQu      object\n",
    "GarageType       object\n",
    "GarageFinish     object\n",
    "GarageQual       object\n",
    "PavedDrive       object\n",
    "SaleType         object\n",
    "SaleCondition    object\n",
    "''''"
   ]
  },
  {
   "cell_type": "code",
   "execution_count": null,
   "metadata": {},
   "outputs": [],
   "source": [
    "'''\n",
    "MSSubClass            int64\n",
    "LotFrontage         float64\n",
    "LotArea               int64\n",
    "OverallQual           int64\n",
    "OverallCond           int64\n",
    "YearBuilt             int64\n",
    "YearRemodAdd          int64\n",
    "MasVnrArea          float64\n",
    "BsmtUnfSF             int64\n",
    "LowQualFinSF          int64\n",
    "BedroomAbvGr          int64\n",
    "KitchenAbvGr          int64\n",
    "TotRmsAbvGrd          int64\n",
    "Fireplaces            int64\n",
    "GarageCars            int64\n",
    "PoolArea              int64\n",
    "MiscVal               int64\n",
    "MoSold                int64\n",
    "YrSold                int64\n",
    "SalePrice           float64\n",
    "AgeOfHouse            int64\n",
    "HouseReamodelAge      int64\n",
    "HouseTotalSqFt        int64\n",
    "TotalHouseArea        int64\n",
    "TotalNumBaths       float64\n",
    "TotalPorchArea        int64\n",
    "\n",
    "\n",
    "\n",
    "'''"
   ]
  },
  {
   "cell_type": "markdown",
   "metadata": {},
   "source": []
  },
  {
   "cell_type": "markdown",
   "metadata": {},
   "source": []
  },
  {
   "cell_type": "markdown",
   "metadata": {},
   "source": []
  },
  {
   "cell_type": "markdown",
   "metadata": {},
   "source": []
  },
  {
   "cell_type": "markdown",
   "metadata": {},
   "source": []
  },
  {
   "cell_type": "markdown",
   "metadata": {},
   "source": []
  },
  {
   "cell_type": "markdown",
   "metadata": {},
   "source": []
  },
  {
   "cell_type": "markdown",
   "metadata": {},
   "source": []
  },
  {
   "cell_type": "markdown",
   "metadata": {},
   "source": []
  },
  {
   "cell_type": "markdown",
   "metadata": {},
   "source": []
  },
  {
   "cell_type": "markdown",
   "metadata": {},
   "source": []
  },
  {
   "cell_type": "markdown",
   "metadata": {},
   "source": []
  },
  {
   "cell_type": "markdown",
   "metadata": {},
   "source": []
  },
  {
   "cell_type": "markdown",
   "metadata": {},
   "source": []
  },
  {
   "cell_type": "markdown",
   "metadata": {},
   "source": []
  },
  {
   "cell_type": "markdown",
   "metadata": {},
   "source": []
  },
  {
   "cell_type": "markdown",
   "metadata": {},
   "source": []
  },
  {
   "cell_type": "markdown",
   "metadata": {},
   "source": []
  },
  {
   "cell_type": "markdown",
   "metadata": {},
   "source": []
  },
  {
   "cell_type": "markdown",
   "metadata": {},
   "source": []
  },
  {
   "cell_type": "markdown",
   "metadata": {},
   "source": []
  },
  {
   "cell_type": "markdown",
   "metadata": {},
   "source": []
  },
  {
   "cell_type": "markdown",
   "metadata": {},
   "source": []
  },
  {
   "cell_type": "markdown",
   "metadata": {},
   "source": []
  }
 ],
 "metadata": {
  "kernelspec": {
   "display_name": "venv",
   "language": "python",
   "name": "python3"
  },
  "language_info": {
   "codemirror_mode": {
    "name": "ipython",
    "version": 3
   },
   "file_extension": ".py",
   "mimetype": "text/x-python",
   "name": "python",
   "nbconvert_exporter": "python",
   "pygments_lexer": "ipython3",
   "version": "3.12.6"
  }
 },
 "nbformat": 4,
 "nbformat_minor": 2
}
